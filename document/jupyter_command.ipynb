{
 "cells": [
  {
   "cell_type": "markdown",
   "metadata": {},
   "source": [
    "# Jupyter Notebook Command　一覧\n",
    "- Run All Cells\n",
    "    - *全て実行させる*\n",
    "\n",
    "\n",
    "- esc + A\n",
    "    - *上にセル1行追加*\n",
    "\n",
    "\n",
    "- esc + B\n",
    "    - *下にセル1行追加*\n",
    "\n",
    "\n",
    "- esc + D * 2\n",
    "    - *セルを削除*\n",
    "\n",
    "\n",
    "- esc + Z\n",
    "    - *セルの操作を一度戻す事ができる*\n",
    "    - *undo*\n",
    "\n",
    "\n",
    "- shift + Z\n",
    "    - *undoした結果を進める*\n",
    "\n",
    "\n",
    "- shift + M\n",
    "    - *セルの結合*\n",
    "\n",
    "\n",
    "- Ctrl + shift + M\n",
    "    - *セルの分割*\n",
    "\n",
    "\n",
    "- command + B\n",
    "    - nav を閉じる事ができる"
   ]
  },
  {
   "cell_type": "code",
   "execution_count": null,
   "metadata": {},
   "outputs": [],
   "source": []
  }
 ],
 "metadata": {
  "kernelspec": {
   "display_name": "Python 3",
   "language": "python",
   "name": "python3"
  },
  "language_info": {
   "codemirror_mode": {
    "name": "ipython",
    "version": 3
   },
   "file_extension": ".py",
   "mimetype": "text/x-python",
   "name": "python",
   "nbconvert_exporter": "python",
   "pygments_lexer": "ipython3",
   "version": "3.7.6"
  }
 },
 "nbformat": 4,
 "nbformat_minor": 4
}
