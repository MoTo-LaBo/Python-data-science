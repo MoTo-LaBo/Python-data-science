{
 "cells": [
  {
   "cell_type": "markdown",
   "metadata": {},
   "source": [
    "# 箱ひげ図(box plot)"
   ]
  },
  {
   "cell_type": "code",
   "execution_count": 1,
   "metadata": {},
   "outputs": [],
   "source": [
    "import numpy as np\n",
    "import pandas as pd\n",
    "import matplotlib.pyplot as plt\n",
    "%matplotlib inline"
   ]
  },
  {
   "cell_type": "code",
   "execution_count": 3,
   "metadata": {},
   "outputs": [
    {
     "data": {
      "text/html": [
       "<div>\n",
       "<style scoped>\n",
       "    .dataframe tbody tr th:only-of-type {\n",
       "        vertical-align: middle;\n",
       "    }\n",
       "\n",
       "    .dataframe tbody tr th {\n",
       "        vertical-align: top;\n",
       "    }\n",
       "\n",
       "    .dataframe thead th {\n",
       "        text-align: right;\n",
       "    }\n",
       "</style>\n",
       "<table border=\"1\" class=\"dataframe\">\n",
       "  <thead>\n",
       "    <tr style=\"text-align: right;\">\n",
       "      <th></th>\n",
       "      <th>budget</th>\n",
       "      <th>genres</th>\n",
       "      <th>homepage</th>\n",
       "      <th>id</th>\n",
       "      <th>keywords</th>\n",
       "      <th>original_language</th>\n",
       "      <th>original_title</th>\n",
       "      <th>overview</th>\n",
       "      <th>popularity</th>\n",
       "      <th>production_companies</th>\n",
       "      <th>production_countries</th>\n",
       "      <th>release_date</th>\n",
       "      <th>revenue</th>\n",
       "      <th>runtime</th>\n",
       "      <th>spoken_languages</th>\n",
       "      <th>status</th>\n",
       "      <th>tagline</th>\n",
       "      <th>title</th>\n",
       "      <th>vote_average</th>\n",
       "      <th>vote_count</th>\n",
       "    </tr>\n",
       "  </thead>\n",
       "  <tbody>\n",
       "    <tr>\n",
       "      <th>0</th>\n",
       "      <td>237000000</td>\n",
       "      <td>[{\"id\": 28, \"name\": \"Action\"}, {\"id\": 12, \"nam...</td>\n",
       "      <td>http://www.avatarmovie.com/</td>\n",
       "      <td>19995</td>\n",
       "      <td>[{\"id\": 1463, \"name\": \"culture clash\"}, {\"id\":...</td>\n",
       "      <td>en</td>\n",
       "      <td>Avatar</td>\n",
       "      <td>In the 22nd century, a paraplegic Marine is di...</td>\n",
       "      <td>150.437577</td>\n",
       "      <td>[{\"name\": \"Ingenious Film Partners\", \"id\": 289...</td>\n",
       "      <td>[{\"iso_3166_1\": \"US\", \"name\": \"United States o...</td>\n",
       "      <td>2009-12-10</td>\n",
       "      <td>2787965087</td>\n",
       "      <td>162.0</td>\n",
       "      <td>[{\"iso_639_1\": \"en\", \"name\": \"English\"}, {\"iso...</td>\n",
       "      <td>Released</td>\n",
       "      <td>Enter the World of Pandora.</td>\n",
       "      <td>Avatar</td>\n",
       "      <td>7.2</td>\n",
       "      <td>11800</td>\n",
       "    </tr>\n",
       "  </tbody>\n",
       "</table>\n",
       "</div>"
      ],
      "text/plain": [
       "      budget                                             genres  \\\n",
       "0  237000000  [{\"id\": 28, \"name\": \"Action\"}, {\"id\": 12, \"nam...   \n",
       "\n",
       "                      homepage     id  \\\n",
       "0  http://www.avatarmovie.com/  19995   \n",
       "\n",
       "                                            keywords original_language  \\\n",
       "0  [{\"id\": 1463, \"name\": \"culture clash\"}, {\"id\":...                en   \n",
       "\n",
       "  original_title                                           overview  \\\n",
       "0         Avatar  In the 22nd century, a paraplegic Marine is di...   \n",
       "\n",
       "   popularity                               production_companies  \\\n",
       "0  150.437577  [{\"name\": \"Ingenious Film Partners\", \"id\": 289...   \n",
       "\n",
       "                                production_countries release_date     revenue  \\\n",
       "0  [{\"iso_3166_1\": \"US\", \"name\": \"United States o...   2009-12-10  2787965087   \n",
       "\n",
       "   runtime                                   spoken_languages    status  \\\n",
       "0    162.0  [{\"iso_639_1\": \"en\", \"name\": \"English\"}, {\"iso...  Released   \n",
       "\n",
       "                       tagline   title  vote_average  vote_count  \n",
       "0  Enter the World of Pandora.  Avatar           7.2       11800  "
      ]
     },
     "execution_count": 3,
     "metadata": {},
     "output_type": "execute_result"
    }
   ],
   "source": [
    "df = pd.read_csv('../pandas/dataset/tmdb_5000_movies.csv')\n",
    "df.head(1)"
   ]
  },
  {
   "cell_type": "code",
   "execution_count": 4,
   "metadata": {},
   "outputs": [
    {
     "data": {
      "text/plain": [
       "{'whiskers': [<matplotlib.lines.Line2D at 0x7fcfd5799550>,\n",
       "  <matplotlib.lines.Line2D at 0x7fcfd5783750>],\n",
       " 'caps': [<matplotlib.lines.Line2D at 0x7fcfd5783cd0>,\n",
       "  <matplotlib.lines.Line2D at 0x7fcfd5799210>],\n",
       " 'boxes': [<matplotlib.lines.Line2D at 0x7fcfd5799510>],\n",
       " 'medians': [<matplotlib.lines.Line2D at 0x7fcfd47a5810>],\n",
       " 'fliers': [<matplotlib.lines.Line2D at 0x7fcfd47a5d10>],\n",
       " 'means': []}"
      ]
     },
     "execution_count": 4,
     "metadata": {},
     "output_type": "execute_result"
    },
    {
     "data": {
      "image/png": "[encoded data removed]",
      "text/plain": [
       "<Figure size 432x288 with 1 Axes>"
      ]
     },
     "metadata": {
      "needs_background": "light"
     },
     "output_type": "display_data"
    }
   ],
   "source": [
    "plt.boxplot('vote_average', data=df)"
   ]
  },
  {
   "cell_type": "code",
   "execution_count": 5,
   "metadata": {},
   "outputs": [
    {
     "data": {
      "text/plain": [
       "{'whiskers': [<matplotlib.lines.Line2D at 0x7fcfd45e7a50>,\n",
       "  <matplotlib.lines.Line2D at 0x7fcfd45f5b90>],\n",
       " 'caps': [<matplotlib.lines.Line2D at 0x7fcfd46f7790>,\n",
       "  <matplotlib.lines.Line2D at 0x7fcfd46025d0>],\n",
       " 'boxes': [<matplotlib.lines.Line2D at 0x7fcfd45e7a10>],\n",
       " 'medians': [<matplotlib.lines.Line2D at 0x7fcfd4602550>],\n",
       " 'fliers': [<matplotlib.lines.Line2D at 0x7fcfd45f5c10>],\n",
       " 'means': []}"
      ]
     },
     "execution_count": 5,
     "metadata": {},
     "output_type": "execute_result"
    },
    {
     "data": {
      "image/png": "[encoded data removed]",
      "text/plain": [
       "<Figure size 432x288 with 1 Axes>"
      ]
     },
     "metadata": {
      "needs_background": "light"
     },
     "output_type": "display_data"
    }
   ],
   "source": [
    "plt.boxplot(df['vote_average'])"
   ]
  },
  {
   "cell_type": "markdown",
   "metadata": {},
   "source": [
    "## 箱ひげ図\n",
    "- *四分位範囲*\n",
    "    - data を小さい順に左から並べる\n",
    "        - 最小値\n",
    "        - 第一四分位点 （25%）\n",
    "        - 中央値 (50%)\n",
    "        -　第三四分位点 (75%)\n",
    "        - 最大値\n",
    "\n",
    "    \n",
    "- *四分位範囲*\n",
    "    - 第三四分位点　- 第一四分位点\n",
    "\n",
    "\n",
    "- *四分位偏差*\n",
    "    - 四分位範囲 / 2\n",
    "\n",
    "\n",
    "### 上記を使用するとどんなメリットがあるか？\n",
    "   - dataの傾向を3箇所から,より細かく見る事ができる\n",
    "        - 1.第一四分位点\n",
    "        - 2.中央値\n",
    "        - 3.第三四分位点\n",
    "            - *ハズレ値の影響を受けにくい*\n",
    "            \n",
    "\n",
    "## 箱ひげ図\n",
    "- data のばらつき度合いを表した図の事。具体的に5つの統計量をグラフにしたもの\n",
    "    - 最大値\n",
    "    - 第三四分位点\n",
    "    - 中央値\n",
    "    - 第一四分位点\n",
    "    - 最小値\n",
    "\n",
    "\n",
    "- 箱ひげ図とは四分位範囲をより分かりやすくした図の事\n",
    "    - data　の以上値や集団の特徴を調べるのによく使用される\n",
    "\n",
    "\n",
    "- 外れ値とは？\n",
    "    - data に含まれる極端に大きな値又は極端に小さな値\n",
    "    - 上側境界点と下側境界点から外れる値を外れ値 data とする\n",
    "\n",
    "\n",
    "### 上側境界点と下側境界点を入れて箱ひげ図は完成する\n",
    "- 上側境界点\n",
    "    - 第三四分位点　＋　1.5 x 四分位範囲\n",
    "\n",
    "\n",
    "- 下側境界点\n",
    "    - 第一四分位点　ー　1.5 x 四分位範囲"
   ]
  },
  {
   "cell_type": "code",
   "execution_count": null,
   "metadata": {},
   "outputs": [],
   "source": []
  }
 ],
 "metadata": {
  "kernelspec": {
   "display_name": "Python 3",
   "language": "python",
   "name": "python3"
  },
  "language_info": {
   "codemirror_mode": {
    "name": "ipython",
    "version": 3
   },
   "file_extension": ".py",
   "mimetype": "text/x-python",
   "name": "python",
   "nbconvert_exporter": "python",
   "pygments_lexer": "ipython3",
   "version": "3.7.6"
  }
 },
 "nbformat": 4,
 "nbformat_minor": 4
}
