{
 "cells": [
  {
   "cell_type": "markdown",
   "metadata": {},
   "source": [
    "# 乱数の生成　:　np.random"
   ]
  },
  {
   "cell_type": "code",
   "execution_count": 2,
   "metadata": {},
   "outputs": [],
   "source": [
    "import numpy as np"
   ]
  },
  {
   "cell_type": "markdown",
   "metadata": {},
   "source": [
    "### np.random.rand( )\n",
    "- 0 ~ 1.0 の間で毎回違う値が生成される"
   ]
  },
  {
   "cell_type": "code",
   "execution_count": 6,
   "metadata": {},
   "outputs": [
    {
     "data": {
      "text/plain": [
       "0.5225455340231491"
      ]
     },
     "execution_count": 6,
     "metadata": {},
     "output_type": "execute_result"
    }
   ],
   "source": [
    "np.random.rand()"
   ]
  },
  {
   "cell_type": "code",
   "execution_count": 7,
   "metadata": {},
   "outputs": [
    {
     "data": {
      "text/plain": [
       "array([[0.21491733, 0.51586219, 0.12033378, 0.77711372],\n",
       "       [0.49519684, 0.47159362, 0.32836671, 0.55850876],\n",
       "       [0.8031839 , 0.96275206, 0.88756175, 0.8457144 ]])"
      ]
     },
     "execution_count": 7,
     "metadata": {},
     "output_type": "execute_result"
    }
   ],
   "source": [
    "np.random.rand(3, 4)"
   ]
  },
  {
   "cell_type": "markdown",
   "metadata": {},
   "source": [
    "- programing で生成される乱数は<u>本当の意味でランダムな数値ではない</u>\n",
    "\n",
    "\n",
    "- *programing の世界ではロジックに従って推測できない数値を乱数という*\n",
    "\n",
    "\n",
    "#### 擬似乱数　pseudo random\n",
    "- <u>AI, 機械学習, 深層学習, ニューラルネットワーク</u>\n",
    "    - **ほとんどの場合は「 擬似乱数 」**で構わない(問題ない)\n",
    "\n",
    "\n",
    "- *どういった場合に本当の乱数が必要になるのか？*\n",
    "    - **セキュリティー**などのコンピューターscience\n",
    "        - それ以外はほとんど必要ない"
   ]
  },
  {
   "cell_type": "markdown",
   "metadata": {},
   "source": [
    "## np.random.seed\n",
    "- np.random.seed( )\n",
    "    - seed を指定すると、毎回同じ乱数を生成してくれる\n",
    "\n",
    "\n",
    "- <u>再現性のあるcodeを記述できる</u>"
   ]
  },
  {
   "cell_type": "code",
   "execution_count": 10,
   "metadata": {},
   "outputs": [
    {
     "data": {
      "text/plain": [
       "0.417022004702574"
      ]
     },
     "execution_count": 10,
     "metadata": {},
     "output_type": "execute_result"
    }
   ],
   "source": [
    "np.random.seed(1)\n",
    "np.random.rand()"
   ]
  },
  {
   "cell_type": "markdown",
   "metadata": {},
   "source": [
    "- <u>乱数生成には基本的には seed を使う</u>\n",
    "    - **作成した　model や成果物を再現する事ができるから**"
   ]
  },
  {
   "cell_type": "code",
   "execution_count": 11,
   "metadata": {},
   "outputs": [
    {
     "data": {
      "text/plain": [
       "0.7203244934421581"
      ]
     },
     "execution_count": 11,
     "metadata": {},
     "output_type": "execute_result"
    }
   ],
   "source": [
    "np.random.rand()"
   ]
  },
  {
   "cell_type": "markdown",
   "metadata": {},
   "source": [
    "## np.random.randn( )\n",
    "- **正規分布**\n",
    "    - 自然界の何かの分布、身長など etc...\n",
    "\n",
    "\n",
    "- **標準正規分布**\n",
    "    - 平均が　0　、分散が　1 の時\n",
    "\n",
    "\n",
    "- <u>標準正規分布からランダムに値を取得してくるのが　np.random.randn( )</u>"
   ]
  },
  {
   "cell_type": "code",
   "execution_count": 12,
   "metadata": {},
   "outputs": [
    {
     "data": {
      "text/plain": [
       "-0.5281717522634557"
      ]
     },
     "execution_count": 12,
     "metadata": {},
     "output_type": "execute_result"
    }
   ],
   "source": [
    "# 標準正規分布(平均　０, 分散 1)からランダムに値が返される\n",
    "np.random.randn()"
   ]
  },
  {
   "cell_type": "code",
   "execution_count": 13,
   "metadata": {},
   "outputs": [
    {
     "data": {
      "text/plain": [
       "array([[-1.07296862,  0.86540763, -2.3015387 ],\n",
       "       [ 1.74481176, -0.7612069 ,  0.3190391 ]])"
      ]
     },
     "execution_count": 13,
     "metadata": {},
     "output_type": "execute_result"
    }
   ],
   "source": [
    "np.random.randn(2, 3)"
   ]
  },
  {
   "cell_type": "code",
   "execution_count": 14,
   "metadata": {},
   "outputs": [
    {
     "data": {
      "text/plain": [
       "array([[-0.24937038,  1.46210794, -2.06014071, -0.3224172 , -0.38405435,\n",
       "         1.13376944, -1.09989127, -0.17242821, -0.87785842,  0.04221375],\n",
       "       [ 0.58281521, -1.10061918,  1.14472371,  0.90159072,  0.50249434,\n",
       "         0.90085595, -0.68372786, -0.12289023, -0.93576943, -0.26788808],\n",
       "       [ 0.53035547, -0.69166075, -0.39675353, -0.6871727 , -0.84520564,\n",
       "        -0.67124613, -0.0126646 , -1.11731035,  0.2344157 ,  1.65980218],\n",
       "       [ 0.74204416, -0.19183555, -0.88762896, -0.74715829,  1.6924546 ,\n",
       "         0.05080775, -0.63699565,  0.19091548,  2.10025514,  0.12015895],\n",
       "       [ 0.61720311,  0.30017032, -0.35224985, -1.1425182 , -0.34934272,\n",
       "        -0.20889423,  0.58662319,  0.83898341,  0.93110208,  0.28558733],\n",
       "       [ 0.88514116, -0.75439794,  1.25286816,  0.51292982, -0.29809284,\n",
       "         0.48851815, -0.07557171,  1.13162939,  1.51981682,  2.18557541],\n",
       "       [-1.39649634, -1.44411381, -0.50446586,  0.16003707,  0.87616892,\n",
       "         0.31563495, -2.02220122, -0.30620401,  0.82797464,  0.23009474],\n",
       "       [ 0.76201118, -0.22232814, -0.20075807,  0.18656139,  0.41005165,\n",
       "         0.19829972,  0.11900865, -0.67066229,  0.37756379,  0.12182127],\n",
       "       [ 1.12948391,  1.19891788,  0.18515642, -0.37528495, -0.63873041,\n",
       "         0.42349435,  0.07734007, -0.34385368,  0.04359686, -0.62000084],\n",
       "       [ 0.69803203, -0.44712856,  1.2245077 ,  0.40349164,  0.59357852,\n",
       "        -1.09491185,  0.16938243,  0.74055645, -0.9537006 , -0.26621851]])"
      ]
     },
     "execution_count": 14,
     "metadata": {},
     "output_type": "execute_result"
    }
   ],
   "source": [
    "np.random.randn(10, 10)"
   ]
  },
  {
   "cell_type": "markdown",
   "metadata": {},
   "source": [
    "- *０　から離れるにあたって、出力される確率が低くなる*\n",
    "    - 上記を見ても分かるように、　0.〇〇　という数値が多い。　１　とか　２　は少ない"
   ]
  },
  {
   "cell_type": "markdown",
   "metadata": {},
   "source": [
    "### 標準正規分布\n",
    "- <u>任意の平均と標準偏差の正規分布から擬似乱数を生成</u>"
   ]
  },
  {
   "cell_type": "code",
   "execution_count": 16,
   "metadata": {},
   "outputs": [
    {
     "data": {
      "text/plain": [
       "-1.3731173202467557"
      ]
     },
     "execution_count": 16,
     "metadata": {},
     "output_type": "execute_result"
    }
   ],
   "source": [
    "np.random.normal(0, 1) # 0 に近い値が出る"
   ]
  },
  {
   "cell_type": "code",
   "execution_count": 18,
   "metadata": {},
   "outputs": [
    {
     "data": {
      "text/plain": [
       "10.846160647585034"
      ]
     },
     "execution_count": 18,
     "metadata": {},
     "output_type": "execute_result"
    }
   ],
   "source": [
    "np.random.normal(10, 1) # 10 に近い値が出る"
   ]
  },
  {
   "cell_type": "markdown",
   "metadata": {},
   "source": [
    "## np.random.randint()\n",
    "- **( low , high=None, size=None)**\n",
    "    - <u>low 以上　high 未満のランダムな整数で size の　ndarray 生成</u>"
   ]
  },
  {
   "cell_type": "code",
   "execution_count": 20,
   "metadata": {},
   "outputs": [
    {
     "data": {
      "text/plain": [
       "array([[44, 42, 29],\n",
       "       [77, 34, 93]])"
      ]
     },
     "execution_count": 20,
     "metadata": {},
     "output_type": "execute_result"
    }
   ],
   "source": [
    "np.random.randint(10, 100, (2, 3))"
   ]
  },
  {
   "cell_type": "markdown",
   "metadata": {},
   "source": [
    "|- ２行、３列の各要素が　１０　以上　１００未満の数をランダムに生成"
   ]
  },
  {
   "cell_type": "code",
   "execution_count": 22,
   "metadata": {},
   "outputs": [
    {
     "data": {
      "text/plain": [
       "6"
      ]
     },
     "execution_count": 22,
     "metadata": {},
     "output_type": "execute_result"
    }
   ],
   "source": [
    "np.random.randint(10)"
   ]
  },
  {
   "cell_type": "markdown",
   "metadata": {},
   "source": [
    "- <u>*low* だけ指定すると</u>\n",
    "    - **high　=　None の場合は, 0　以上　low　未満の値**が返される"
   ]
  },
  {
   "cell_type": "markdown",
   "metadata": {},
   "source": [
    "## np.random.choice( )\n",
    "- <u>指定した ndarray(list) からランダムな値を取得してくる</u>"
   ]
  },
  {
   "cell_type": "code",
   "execution_count": 25,
   "metadata": {},
   "outputs": [
    {
     "data": {
      "text/plain": [
       "2"
      ]
     },
     "execution_count": 25,
     "metadata": {},
     "output_type": "execute_result"
    }
   ],
   "source": [
    "a = [1, 2, 3]\n",
    "np.random.choice(a)"
   ]
  },
  {
   "cell_type": "code",
   "execution_count": 26,
   "metadata": {},
   "outputs": [
    {
     "data": {
      "text/plain": [
       "array([0, 2, 4, 6, 8])"
      ]
     },
     "execution_count": 26,
     "metadata": {},
     "output_type": "execute_result"
    }
   ],
   "source": [
    "index_pool = np.arange(0, 10, 2)\n",
    "index_pool"
   ]
  },
  {
   "cell_type": "code",
   "execution_count": 34,
   "metadata": {},
   "outputs": [
    {
     "data": {
      "text/plain": [
       "4"
      ]
     },
     "execution_count": 34,
     "metadata": {},
     "output_type": "execute_result"
    }
   ],
   "source": [
    "np.random.choice(index_pool)"
   ]
  },
  {
   "cell_type": "code",
   "execution_count": null,
   "metadata": {},
   "outputs": [],
   "source": []
  }
 ],
 "metadata": {
  "kernelspec": {
   "display_name": "Python 3",
   "language": "python",
   "name": "python3"
  },
  "language_info": {
   "codemirror_mode": {
    "name": "ipython",
    "version": 3
   },
   "file_extension": ".py",
   "mimetype": "text/x-python",
   "name": "python",
   "nbconvert_exporter": "python",
   "pygments_lexer": "ipython3",
   "version": "3.7.6"
  }
 },
 "nbformat": 4,
 "nbformat_minor": 4
}
