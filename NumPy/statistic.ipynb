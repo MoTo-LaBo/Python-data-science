{
 "cells": [
  {
   "cell_type": "markdown",
   "metadata": {},
   "source": [
    "# 統計量を求める"
   ]
  },
  {
   "cell_type": "code",
   "execution_count": 1,
   "metadata": {},
   "outputs": [],
   "source": [
    "import numpy as np"
   ]
  },
  {
   "cell_type": "code",
   "execution_count": 12,
   "metadata": {},
   "outputs": [
    {
     "data": {
      "text/plain": [
       "array([[-0.84350555, -0.89687687, -0.21019469, -1.58846107,  0.0831577 ],\n",
       "       [-2.54031293, -0.26700184,  1.21274743,  1.77854921, -0.18349249],\n",
       "       [-0.03108479,  0.33969688, -1.68986844, -1.07056465,  0.64537588],\n",
       "       [ 0.39705756,  1.22723157,  0.53691643, -0.26783911, -1.32416946],\n",
       "       [-1.36107193,  0.64515212, -2.01729248,  0.28735099,  0.26918282]])"
      ]
     },
     "execution_count": 12,
     "metadata": {},
     "output_type": "execute_result"
    }
   ],
   "source": [
    "std_norm = np.random.randn(5, 5)\n",
    "std_norm"
   ]
  },
  {
   "cell_type": "markdown",
   "metadata": {},
   "source": [
    "- 平均　０　分散　１　の　**標準平均分布**　から random な値を取得したもの"
   ]
  },
  {
   "cell_type": "code",
   "execution_count": 3,
   "metadata": {},
   "outputs": [
    {
     "data": {
      "text/plain": [
       "3.1077359794286474"
      ]
     },
     "execution_count": 3,
     "metadata": {},
     "output_type": "execute_result"
    }
   ],
   "source": [
    "# 最大値\n",
    "std_norm.max()"
   ]
  },
  {
   "cell_type": "code",
   "execution_count": 4,
   "metadata": {},
   "outputs": [
    {
     "data": {
      "text/plain": [
       "3.1077359794286474"
      ]
     },
     "execution_count": 4,
     "metadata": {},
     "output_type": "execute_result"
    }
   ],
   "source": [
    "np.max(std_norm)"
   ]
  },
  {
   "cell_type": "code",
   "execution_count": 5,
   "metadata": {},
   "outputs": [
    {
     "data": {
      "text/plain": [
       "-1.8307786615355675"
      ]
     },
     "execution_count": 5,
     "metadata": {},
     "output_type": "execute_result"
    }
   ],
   "source": [
    "# 最小値\n",
    "std_norm.min()"
   ]
  },
  {
   "cell_type": "code",
   "execution_count": 6,
   "metadata": {},
   "outputs": [
    {
     "data": {
      "text/plain": [
       "-1.8307786615355675"
      ]
     },
     "execution_count": 6,
     "metadata": {},
     "output_type": "execute_result"
    }
   ],
   "source": [
    "np.min(std_norm)"
   ]
  },
  {
   "cell_type": "code",
   "execution_count": 7,
   "metadata": {},
   "outputs": [
    {
     "data": {
      "text/plain": [
       "17"
      ]
     },
     "execution_count": 7,
     "metadata": {},
     "output_type": "execute_result"
    }
   ],
   "source": [
    "# 最大値の index を取得\n",
    "std_norm.argmax()"
   ]
  },
  {
   "cell_type": "code",
   "execution_count": 8,
   "metadata": {},
   "outputs": [
    {
     "data": {
      "text/plain": [
       "3.1077359794286474"
      ]
     },
     "execution_count": 8,
     "metadata": {},
     "output_type": "execute_result"
    }
   ],
   "source": [
    "std_norm.flatten()[17]"
   ]
  },
  {
   "cell_type": "code",
   "execution_count": 9,
   "metadata": {},
   "outputs": [
    {
     "data": {
      "text/plain": [
       "20"
      ]
     },
     "execution_count": 9,
     "metadata": {},
     "output_type": "execute_result"
    }
   ],
   "source": [
    "# 最小値の index を取得\n",
    "std_norm.argmin()"
   ]
  },
  {
   "cell_type": "code",
   "execution_count": 10,
   "metadata": {},
   "outputs": [
    {
     "data": {
      "text/plain": [
       "-1.8307786615355675"
      ]
     },
     "execution_count": 10,
     "metadata": {},
     "output_type": "execute_result"
    }
   ],
   "source": [
    "std_norm.flatten()[20]"
   ]
  },
  {
   "cell_type": "code",
   "execution_count": 11,
   "metadata": {},
   "outputs": [
    {
     "data": {
      "text/plain": [
       "0.10320881842773322"
      ]
     },
     "execution_count": 11,
     "metadata": {},
     "output_type": "execute_result"
    }
   ],
   "source": [
    "# 平均値 : mean\n",
    "std_norm.mean()"
   ]
  },
  {
   "cell_type": "markdown",
   "metadata": {},
   "source": [
    "- 今回は　**標準平均分布**　から取得してきているので、 平均値は　０　にかなり近い"
   ]
  },
  {
   "cell_type": "code",
   "execution_count": 13,
   "metadata": {},
   "outputs": [
    {
     "data": {
      "text/plain": [
       "array([[-1.36237744e+00, -1.04143690e+00, -4.21823640e-01, ...,\n",
       "        -1.36631056e+00, -1.05751281e+00,  1.81794542e-01],\n",
       "       [-5.55850229e-01, -1.33786972e+00, -1.38582660e-01, ...,\n",
       "        -1.05958005e+00,  1.19970972e+00,  9.44287073e-01],\n",
       "       [ 6.52369250e-01,  4.58677258e-01, -2.02816387e+00, ...,\n",
       "        -1.29245799e+00, -6.28234565e-02,  1.76752526e-03],\n",
       "       ...,\n",
       "       [ 9.16960025e-01, -4.42835830e-01,  6.28294439e-01, ...,\n",
       "        -9.13215637e-01, -4.66474266e-01,  3.30773692e-01],\n",
       "       [-9.54295409e-02,  9.58635930e-01, -3.73360873e-02, ...,\n",
       "         1.21313539e+00, -1.43317612e-02,  1.74601976e+00],\n",
       "       [-9.72909646e-03, -7.90513545e-01,  1.26190232e-01, ...,\n",
       "        -2.62273040e-01,  3.39575106e-01, -1.91399771e-01]])"
      ]
     },
     "execution_count": 13,
     "metadata": {},
     "output_type": "execute_result"
    }
   ],
   "source": [
    "std_norm = np.random.randn(50, 50)\n",
    "std_norm"
   ]
  },
  {
   "cell_type": "code",
   "execution_count": 14,
   "metadata": {},
   "outputs": [
    {
     "data": {
      "text/plain": [
       "-0.0027739601215880255"
      ]
     },
     "execution_count": 14,
     "metadata": {},
     "output_type": "execute_result"
    }
   ],
   "source": [
    "std_norm.mean()"
   ]
  },
  {
   "cell_type": "markdown",
   "metadata": {},
   "source": [
    "- 値が増えれば増えるほど　**限りなく　0　に近づいている**"
   ]
  },
  {
   "cell_type": "code",
   "execution_count": 15,
   "metadata": {},
   "outputs": [
    {
     "data": {
      "text/plain": [
       "-0.0190590906060008"
      ]
     },
     "execution_count": 15,
     "metadata": {},
     "output_type": "execute_result"
    }
   ],
   "source": [
    "# 中央値　: median()\n",
    "np.median(std_norm)"
   ]
  },
  {
   "cell_type": "code",
   "execution_count": 16,
   "metadata": {},
   "outputs": [
    {
     "ename": "AttributeError",
     "evalue": "'numpy.ndarray' object has no attribute 'median'",
     "output_type": "error",
     "traceback": [
      "\u001b[0;31m---------------------------------------------------------------------------\u001b[0m",
      "\u001b[0;31mAttributeError\u001b[0m                            Traceback (most recent call last)",
      "\u001b[0;32m<ipython-input-16-cb6d377d9b5c>\u001b[0m in \u001b[0;36m<module>\u001b[0;34m\u001b[0m\n\u001b[0;32m----> 1\u001b[0;31m \u001b[0mstd_norm\u001b[0m\u001b[0;34m.\u001b[0m\u001b[0mmedian\u001b[0m\u001b[0;34m(\u001b[0m\u001b[0;34m)\u001b[0m\u001b[0;34m\u001b[0m\u001b[0;34m\u001b[0m\u001b[0m\n\u001b[0m",
      "\u001b[0;31mAttributeError\u001b[0m: 'numpy.ndarray' object has no attribute 'median'"
     ]
    }
   ],
   "source": [
    "std_norm.median()"
   ]
  },
  {
   "cell_type": "markdown",
   "metadata": {},
   "source": [
    "#### median( ) だけ　ndarray ではなく, np.median(ndarray) を使用する\n",
    "- ndarray は直接使用できないので注意する！！\n",
    "    - *上記のように　error がでる*"
   ]
  },
  {
   "cell_type": "markdown",
   "metadata": {},
   "source": [
    "- <u>中央値</u>\n",
    "    - *平均値より時間がかかる・外れ値に強い*\n",
    "        - 5, 16, 22, 1, 530, 22, 10, 2, 21\n",
    "        - 並び替える　↓　　※ <u>並び替えに結構時間がかかる</u>\n",
    "        - 1, 2, 5, 10, 16, 21, 22, 22, 530(外れ値)\n",
    "        - **中央値　=　16**\n",
    "\n",
    "\n",
    "- <u>平均値</u>\n",
    "    - *最初の数字から足していけばOK* ->　*並び替える必要がない*\n",
    "        - 5, 16, 22, 1, 530, 22, 10, 2, 21　=　629 / 9　=　69.9\n",
    "        - *530 = 外れ値*\n",
    "        - **外れ値の値の影響をもろに受ける**\n",
    "            - <u>平均値が実際より高く引き上げられてしまう</u>"
   ]
  },
  {
   "cell_type": "code",
   "execution_count": 26,
   "metadata": {},
   "outputs": [
    {
     "name": "stdout",
     "output_type": "stream",
     "text": [
      "median took 0.015457868576049805 sec\n",
      "mean took 0.0008039474487304688 sec\n"
     ]
    }
   ],
   "source": [
    "# 中央値 vs 平均値\n",
    "import time\n",
    "a = np.random.randn(1000, 1000)\n",
    "before = time.time()\n",
    "np.median(a)\n",
    "after_median = time.time()\n",
    "np.mean(a)\n",
    "after_mean = time.time() \n",
    "print('median took {} sec'.format(after_median-before))\n",
    "print('mean took {} sec'.format(after_mean-after_median))"
   ]
  },
  {
   "cell_type": "code",
   "execution_count": 20,
   "metadata": {},
   "outputs": [
    {
     "data": {
      "text/plain": [
       "-0.0007122159101633893"
      ]
     },
     "execution_count": 20,
     "metadata": {},
     "output_type": "execute_result"
    }
   ],
   "source": [
    "np.mean(a)"
   ]
  },
  {
   "cell_type": "markdown",
   "metadata": {},
   "source": [
    "## 標準偏差\n",
    "- <u>平均との差を２乗した合計を, データ数で割った正の平方根</u>\n",
    "    1. 5, 16, 22, 1, 530, 22, 10, 2, 21\n",
    "    2. 5, 16, 22, 1, 530, 22, 10, 2, 21　=　629 / 9　=　69.9\n",
    "    3. (69.9 - 5)**2 他もこのように計算して足していく\n",
    "    4. 合計　238734 / 9 個　= 162.8(**分散**)　=　σ ２乗の部分\n",
    "\n",
    "\n",
    "### **68 - 95 - 99.7rule**\n",
    "- **正規分布では**\n",
    "    - 平均から　**± １**　標準偏差には約　**68%**　のデータが　$$\\mu-\\sigma,  \\mu+\\sigma$$\n",
    "    - 平均から　**± 2**　標準偏差には約　**95%**　のデータが　$$\\mu-2\\sigma,  \\mu+2\\sigma$$\n",
    "    - 平均から　**± 3**　標準偏差には約　**99%**　のデータが　$$\\mu-3\\sigma,  \\mu+3\\sigma$$\n",
    "        - 含まれるという経験則がある\n",
    "\n",
    "\n",
    "- <u>あくまで上記は　**正規分布**　の時だけ</u>"
   ]
  },
  {
   "cell_type": "code",
   "execution_count": 32,
   "metadata": {},
   "outputs": [
    {
     "data": {
      "text/plain": [
       "0.9914176570339613"
      ]
     },
     "execution_count": 32,
     "metadata": {},
     "output_type": "execute_result"
    }
   ],
   "source": [
    "# std = 分散の平方根 = σ（シグマ） / 標準偏差を取得\n",
    "np.std(std_norm)"
   ]
  },
  {
   "cell_type": "markdown",
   "metadata": {},
   "source": [
    "### それぞれの行・列ごとの統計量も求める事ができる"
   ]
  },
  {
   "cell_type": "code",
   "execution_count": 33,
   "metadata": {},
   "outputs": [
    {
     "data": {
      "text/plain": [
       "3.201416384263837"
      ]
     },
     "execution_count": 33,
     "metadata": {},
     "output_type": "execute_result"
    }
   ],
   "source": [
    "std_norm.max()"
   ]
  },
  {
   "cell_type": "code",
   "execution_count": 35,
   "metadata": {},
   "outputs": [
    {
     "data": {
      "text/plain": [
       "array([2.35975051, 2.34691327, 2.38402261, 1.98771645, 2.56855142,\n",
       "       2.33267372, 1.32557917, 1.5694112 , 2.85214793, 2.10102272,\n",
       "       2.23534401, 2.08069931, 1.50590601, 2.36877158, 2.36386605,\n",
       "       1.76066435, 2.64354473, 2.27164166, 1.70368497, 2.06024701,\n",
       "       2.1043737 , 1.91955281, 2.15014024, 2.4980088 , 2.65514335,\n",
       "       2.61238422, 2.2861764 , 2.40063633, 2.74781762, 1.54783131,\n",
       "       1.61464652, 2.47537035, 1.53760819, 1.95822021, 2.28863821,\n",
       "       2.321097  , 2.46526311, 1.80776783, 1.69248273, 2.43809471,\n",
       "       2.53033987, 2.14800456, 3.20141638, 2.14604782, 3.12126819,\n",
       "       3.10675458, 1.79302296, 2.1302237 , 2.06875214, 1.74601976])"
      ]
     },
     "execution_count": 35,
     "metadata": {},
     "output_type": "execute_result"
    }
   ],
   "source": [
    "# 列毎の最大\n",
    "std_norm.max(axis=0)"
   ]
  },
  {
   "cell_type": "code",
   "execution_count": 37,
   "metadata": {},
   "outputs": [
    {
     "data": {
      "text/plain": [
       "array([2.18646054, 3.10675458, 1.59191727, 2.1043737 , 2.34691327,\n",
       "       1.38342809, 1.86225104, 1.7885896 , 2.43474303, 2.08069931,\n",
       "       2.61238422, 2.02966346, 1.73293721, 2.14604782, 2.36877158,\n",
       "       2.25125823, 2.06875214, 2.32591592, 1.95822021, 2.64354473,\n",
       "       2.33267372, 2.23534401, 1.98272256, 2.36386605, 2.28863821,\n",
       "       2.85214793, 1.64596878, 2.06601691, 2.06382334, 1.79302296,\n",
       "       2.10102272, 2.27100486, 2.43809471, 2.46526311, 1.31076312,\n",
       "       2.4980088 , 2.45338198, 2.44124963, 2.40063633, 2.11251265,\n",
       "       3.20141638, 2.53171978, 2.56855142, 2.74781762, 3.12126819,\n",
       "       2.62929066, 1.88864165, 2.22166427, 1.74601976, 1.76066435])"
      ]
     },
     "execution_count": 37,
     "metadata": {},
     "output_type": "execute_result"
    }
   ],
   "source": [
    "# 行毎の最大\n",
    "std_norm.max(axis=1)"
   ]
  },
  {
   "cell_type": "markdown",
   "metadata": {},
   "source": [
    "- max, min などを指定することで、行毎、列毎の統計量を計算可能\n",
    "    - **axis = 0**　:　列毎\n",
    "    - **axis = 1**　:　行毎"
   ]
  },
  {
   "cell_type": "code",
   "execution_count": null,
   "metadata": {},
   "outputs": [],
   "source": []
  }
 ],
 "metadata": {
  "kernelspec": {
   "display_name": "Python 3",
   "language": "python",
   "name": "python3"
  },
  "language_info": {
   "codemirror_mode": {
    "name": "ipython",
    "version": 3
   },
   "file_extension": ".py",
   "mimetype": "text/x-python",
   "name": "python",
   "nbconvert_exporter": "python",
   "pygments_lexer": "ipython3",
   "version": "3.7.6"
  }
 },
 "nbformat": 4,
 "nbformat_minor": 4
}
