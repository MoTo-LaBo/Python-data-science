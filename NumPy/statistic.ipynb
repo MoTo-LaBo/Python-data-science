{
 "cells": [
  {
   "cell_type": "markdown",
   "metadata": {},
   "source": [
    "# 統計量を求める"
   ]
  },
  {
   "cell_type": "code",
   "execution_count": 23,
   "metadata": {},
   "outputs": [],
   "source": [
    "import numpy as np\n",
    "import cv2\n",
    "import matplotlib.pyplot as plt"
   ]
  },
  {
   "cell_type": "code",
   "execution_count": 2,
   "metadata": {},
   "outputs": [
    {
     "data": {
      "text/plain": [
       "array([[ 1.91610866, -0.02790456, -1.16106511,  1.40351665, -0.75773115],\n",
       "       [ 0.17272347,  0.92941541, -0.1156553 ,  0.24760461, -0.13248097],\n",
       "       [ 0.76139246,  0.45700144, -0.79796229,  0.7437242 , -0.18897535],\n",
       "       [ 1.40891704,  0.32622134,  0.46620089,  0.79240663,  1.69051474],\n",
       "       [ 0.82008073,  1.36455541,  1.91785355,  0.03579585,  1.08832216]])"
      ]
     },
     "execution_count": 2,
     "metadata": {},
     "output_type": "execute_result"
    }
   ],
   "source": [
    "std_norm = np.random.randn(5, 5)\n",
    "std_norm"
   ]
  },
  {
   "cell_type": "markdown",
   "metadata": {},
   "source": [
    "- 平均　０　分散　１　の　**標準平均分布**　から random な値を取得したもの"
   ]
  },
  {
   "cell_type": "code",
   "execution_count": 3,
   "metadata": {},
   "outputs": [
    {
     "data": {
      "text/plain": [
       "1.9178535512111174"
      ]
     },
     "execution_count": 3,
     "metadata": {},
     "output_type": "execute_result"
    }
   ],
   "source": [
    "# 最大値\n",
    "std_norm.max()"
   ]
  },
  {
   "cell_type": "code",
   "execution_count": 4,
   "metadata": {},
   "outputs": [
    {
     "data": {
      "text/plain": [
       "1.9178535512111174"
      ]
     },
     "execution_count": 4,
     "metadata": {},
     "output_type": "execute_result"
    }
   ],
   "source": [
    "np.max(std_norm)"
   ]
  },
  {
   "cell_type": "code",
   "execution_count": 5,
   "metadata": {},
   "outputs": [
    {
     "data": {
      "text/plain": [
       "-1.1610651122128237"
      ]
     },
     "execution_count": 5,
     "metadata": {},
     "output_type": "execute_result"
    }
   ],
   "source": [
    "# 最小値\n",
    "std_norm.min()"
   ]
  },
  {
   "cell_type": "code",
   "execution_count": 6,
   "metadata": {},
   "outputs": [
    {
     "data": {
      "text/plain": [
       "-1.1610651122128237"
      ]
     },
     "execution_count": 6,
     "metadata": {},
     "output_type": "execute_result"
    }
   ],
   "source": [
    "np.min(std_norm)"
   ]
  },
  {
   "cell_type": "code",
   "execution_count": 7,
   "metadata": {},
   "outputs": [
    {
     "data": {
      "text/plain": [
       "22"
      ]
     },
     "execution_count": 7,
     "metadata": {},
     "output_type": "execute_result"
    }
   ],
   "source": [
    "# 最大値の index を取得\n",
    "std_norm.argmax()"
   ]
  },
  {
   "cell_type": "code",
   "execution_count": 8,
   "metadata": {},
   "outputs": [
    {
     "data": {
      "text/plain": [
       "0.4662008893692126"
      ]
     },
     "execution_count": 8,
     "metadata": {},
     "output_type": "execute_result"
    }
   ],
   "source": [
    "std_norm.flatten()[17]"
   ]
  },
  {
   "cell_type": "code",
   "execution_count": 9,
   "metadata": {},
   "outputs": [
    {
     "data": {
      "text/plain": [
       "2"
      ]
     },
     "execution_count": 9,
     "metadata": {},
     "output_type": "execute_result"
    }
   ],
   "source": [
    "# 最小値の index を取得\n",
    "std_norm.argmin()"
   ]
  },
  {
   "cell_type": "code",
   "execution_count": 10,
   "metadata": {},
   "outputs": [
    {
     "data": {
      "text/plain": [
       "0.8200807265773383"
      ]
     },
     "execution_count": 10,
     "metadata": {},
     "output_type": "execute_result"
    }
   ],
   "source": [
    "std_norm.flatten()[20]"
   ]
  },
  {
   "cell_type": "code",
   "execution_count": 11,
   "metadata": {},
   "outputs": [
    {
     "data": {
      "text/plain": [
       "0.5344232209368285"
      ]
     },
     "execution_count": 11,
     "metadata": {},
     "output_type": "execute_result"
    }
   ],
   "source": [
    "# 平均値 : mean\n",
    "std_norm.mean()"
   ]
  },
  {
   "cell_type": "markdown",
   "metadata": {},
   "source": [
    "- 今回は　**標準平均分布**　から取得してきているので、 平均値は　０　にかなり近い"
   ]
  },
  {
   "cell_type": "code",
   "execution_count": 12,
   "metadata": {},
   "outputs": [
    {
     "data": {
      "text/plain": [
       "array([[-1.30684326, -0.72541899, -0.04249508, ..., -0.59339305,\n",
       "         1.14887073,  0.00980663],\n",
       "       [-0.70667479, -1.4892467 ,  0.28363298, ...,  0.44586649,\n",
       "        -0.1094156 ,  0.0149125 ],\n",
       "       [-0.36224564,  1.48364036,  0.87166083, ..., -0.25415848,\n",
       "         0.35514808,  0.729526  ],\n",
       "       ...,\n",
       "       [ 1.00861136, -0.63822848,  1.57914202, ..., -0.74736084,\n",
       "        -1.73886252,  1.13373964],\n",
       "       [-0.08298842, -0.20838489,  1.40918668, ...,  0.92919341,\n",
       "         0.09070178, -0.64519448],\n",
       "       [ 0.09814577,  1.77946366, -1.25171232, ...,  0.70974786,\n",
       "        -0.97379012, -0.88820071]])"
      ]
     },
     "execution_count": 12,
     "metadata": {},
     "output_type": "execute_result"
    }
   ],
   "source": [
    "std_norm = np.random.randn(50, 50)\n",
    "std_norm"
   ]
  },
  {
   "cell_type": "code",
   "execution_count": 13,
   "metadata": {},
   "outputs": [
    {
     "data": {
      "text/plain": [
       "-0.002114925528188499"
      ]
     },
     "execution_count": 13,
     "metadata": {},
     "output_type": "execute_result"
    }
   ],
   "source": [
    "std_norm.mean()"
   ]
  },
  {
   "cell_type": "markdown",
   "metadata": {},
   "source": [
    "- 値が増えれば増えるほど　**限りなく　0　に近づいている**"
   ]
  },
  {
   "cell_type": "code",
   "execution_count": 14,
   "metadata": {},
   "outputs": [
    {
     "data": {
      "text/plain": [
       "-0.009128209304087429"
      ]
     },
     "execution_count": 14,
     "metadata": {},
     "output_type": "execute_result"
    }
   ],
   "source": [
    "# 中央値　: median()\n",
    "np.median(std_norm)"
   ]
  },
  {
   "cell_type": "code",
   "execution_count": 15,
   "metadata": {},
   "outputs": [
    {
     "ename": "AttributeError",
     "evalue": "'numpy.ndarray' object has no attribute 'median'",
     "output_type": "error",
     "traceback": [
      "\u001b[0;31m---------------------------------------------------------------------------\u001b[0m",
      "\u001b[0;31mAttributeError\u001b[0m                            Traceback (most recent call last)",
      "\u001b[0;32m<ipython-input-15-cb6d377d9b5c>\u001b[0m in \u001b[0;36m<module>\u001b[0;34m\u001b[0m\n\u001b[0;32m----> 1\u001b[0;31m \u001b[0mstd_norm\u001b[0m\u001b[0;34m.\u001b[0m\u001b[0mmedian\u001b[0m\u001b[0;34m(\u001b[0m\u001b[0;34m)\u001b[0m\u001b[0;34m\u001b[0m\u001b[0;34m\u001b[0m\u001b[0m\n\u001b[0m",
      "\u001b[0;31mAttributeError\u001b[0m: 'numpy.ndarray' object has no attribute 'median'"
     ]
    }
   ],
   "source": [
    "std_norm.median()"
   ]
  },
  {
   "cell_type": "markdown",
   "metadata": {},
   "source": [
    "#### median( ) だけ　ndarray ではなく, np.median(ndarray) を使用する\n",
    "- ndarray は直接使用できないので注意する！！\n",
    "    - *上記のように　error がでる*"
   ]
  },
  {
   "cell_type": "markdown",
   "metadata": {},
   "source": [
    "- <u>中央値</u>\n",
    "    - *平均値より時間がかかる・外れ値に強い*\n",
    "        - 5, 16, 22, 1, 530, 22, 10, 2, 21\n",
    "        - 並び替える　↓　　※ <u>並び替えに結構時間がかかる</u>\n",
    "        - 1, 2, 5, 10, 16, 21, 22, 22, 530(外れ値)\n",
    "        - **中央値　=　16**\n",
    "\n",
    "\n",
    "- <u>平均値</u>\n",
    "    - *最初の数字から足していけばOK* ->　*並び替える必要がない*\n",
    "        - 5, 16, 22, 1, 530, 22, 10, 2, 21　=　629 / 9　=　69.9\n",
    "        - *530 = 外れ値*\n",
    "        - **外れ値の値の影響をもろに受ける**\n",
    "            - <u>平均値が実際より高く引き上げられてしまう</u>"
   ]
  },
  {
   "cell_type": "code",
   "execution_count": 16,
   "metadata": {},
   "outputs": [
    {
     "name": "stdout",
     "output_type": "stream",
     "text": [
      "median took 0.0165097713470459 sec\n",
      "mean took 0.0009140968322753906 sec\n"
     ]
    }
   ],
   "source": [
    "# 中央値 vs 平均値\n",
    "import time\n",
    "a = np.random.randn(1000, 1000)\n",
    "before = time.time()\n",
    "np.median(a)\n",
    "after_median = time.time()\n",
    "np.mean(a)\n",
    "after_mean = time.time() \n",
    "print('median took {} sec'.format(after_median-before))\n",
    "print('mean took {} sec'.format(after_mean-after_median))"
   ]
  },
  {
   "cell_type": "code",
   "execution_count": 17,
   "metadata": {},
   "outputs": [
    {
     "data": {
      "text/plain": [
       "0.0009854089716347457"
      ]
     },
     "execution_count": 17,
     "metadata": {},
     "output_type": "execute_result"
    }
   ],
   "source": [
    "np.mean(a)"
   ]
  },
  {
   "cell_type": "markdown",
   "metadata": {},
   "source": [
    "## 標準偏差\n",
    "- <u>平均との差を２乗した合計を, データ数で割った正の平方根</u>\n",
    "    1. 5, 16, 22, 1, 530, 22, 10, 2, 21\n",
    "    2. 5, 16, 22, 1, 530, 22, 10, 2, 21　=　629 / 9　=　69.9\n",
    "    3. (69.9 - 5)**2 他もこのように計算して足していく\n",
    "    4. 合計　238734 / 9 個　= 162.8(**分散**)　=　σ ２乗の部分\n",
    "\n",
    "\n",
    "### **68 - 95 - 99.7rule**\n",
    "- **正規分布では**\n",
    "    - 平均から　**± １**　標準偏差には約　**68%**　のデータが　$$\\mu-\\sigma,  \\mu+\\sigma$$\n",
    "    - 平均から　**± 2**　標準偏差には約　**95%**　のデータが　$$\\mu-2\\sigma,  \\mu+2\\sigma$$\n",
    "    - 平均から　**± 3**　標準偏差には約　**99%**　のデータが　$$\\mu-3\\sigma,  \\mu+3\\sigma$$\n",
    "        - 含まれるという経験則がある\n",
    "\n",
    "\n",
    "- <u>あくまで上記は　**正規分布**　の時だけ</u>"
   ]
  },
  {
   "cell_type": "code",
   "execution_count": 18,
   "metadata": {},
   "outputs": [
    {
     "data": {
      "text/plain": [
       "1.010681104376144"
      ]
     },
     "execution_count": 18,
     "metadata": {},
     "output_type": "execute_result"
    }
   ],
   "source": [
    "# std = 分散の平方根 = σ（シグマ） / 標準偏差を取得\n",
    "np.std(std_norm)"
   ]
  },
  {
   "cell_type": "markdown",
   "metadata": {},
   "source": [
    "### それぞれの行・列ごとの統計量も求める事ができる"
   ]
  },
  {
   "cell_type": "code",
   "execution_count": 19,
   "metadata": {},
   "outputs": [
    {
     "data": {
      "text/plain": [
       "4.31967242498841"
      ]
     },
     "execution_count": 19,
     "metadata": {},
     "output_type": "execute_result"
    }
   ],
   "source": [
    "std_norm.max()"
   ]
  },
  {
   "cell_type": "code",
   "execution_count": 20,
   "metadata": {},
   "outputs": [
    {
     "data": {
      "text/plain": [
       "array([2.94075589, 1.77946366, 1.86472564, 1.38388428, 2.11840537,\n",
       "       2.12700394, 1.63850451, 2.35210413, 2.26289831, 1.77899925,\n",
       "       1.83900232, 2.13783584, 2.29377655, 2.57805916, 2.39762099,\n",
       "       2.38544606, 1.31067803, 1.78017758, 2.30190072, 1.77396818,\n",
       "       2.32902199, 2.2900696 , 1.7036008 , 2.77621452, 2.18305186,\n",
       "       2.6176476 , 0.72664433, 4.31967242, 1.88434645, 2.45319683,\n",
       "       1.91949725, 2.00883709, 2.39916693, 2.33515079, 2.30545722,\n",
       "       2.75148545, 2.24029181, 2.46469758, 2.93466522, 2.18388166,\n",
       "       2.25028433, 2.09947659, 1.90977828, 2.51510916, 2.44592745,\n",
       "       2.21071077, 2.35830935, 2.31417512, 3.1566172 , 2.48148456])"
      ]
     },
     "execution_count": 20,
     "metadata": {},
     "output_type": "execute_result"
    }
   ],
   "source": [
    "# 列毎の最大\n",
    "std_norm.max(axis=0)"
   ]
  },
  {
   "cell_type": "code",
   "execution_count": 21,
   "metadata": {},
   "outputs": [
    {
     "data": {
      "text/plain": [
       "array([2.30545722, 1.91519514, 1.95825346, 2.39762099, 2.22311389,\n",
       "       2.19747767, 1.93519428, 2.35210413, 2.30190072, 2.46469758,\n",
       "       2.89660835, 1.94014381, 1.77899925, 2.57805916, 2.25028433,\n",
       "       1.85026347, 1.79010192, 2.51510916, 2.24029181, 2.0368097 ,\n",
       "       2.21200938, 2.16953087, 1.92524824, 2.14481863, 2.18305186,\n",
       "       1.98568896, 4.31967242, 1.59991154, 2.93466522, 1.99345497,\n",
       "       1.90738545, 2.35114981, 2.29005311, 2.58057203, 2.45319683,\n",
       "       1.93948237, 1.90962435, 2.75148545, 1.6670996 , 2.69078351,\n",
       "       2.05974552, 2.12620756, 1.57892918, 2.94075589, 1.97162362,\n",
       "       2.48148456, 2.6176476 , 1.57914202, 2.44592745, 2.19814582])"
      ]
     },
     "execution_count": 21,
     "metadata": {},
     "output_type": "execute_result"
    }
   ],
   "source": [
    "# 行毎の最大\n",
    "std_norm.max(axis=1)"
   ]
  },
  {
   "cell_type": "markdown",
   "metadata": {},
   "source": [
    "- max, min などを指定することで、行毎、列毎の統計量を計算可能\n",
    "    - **axis = 0**　:　列毎\n",
    "    - **axis = 1**　:　行毎\n",
    "\n",
    "\n",
    "- **axis=0**　はそれぞれの列に対してだったり、それぞれの行ラベル(インデックス)に対してメソッドを適用する場合に用いる\n",
    "\n",
    "\n",
    "- **axis=1**　はそれぞれの行だったり、列ラベル(列名)に対してメソッドを適用する場合に用いる"
   ]
  },
  {
   "cell_type": "code",
   "execution_count": 26,
   "metadata": {},
   "outputs": [
    {
     "data": {
      "text/plain": [
       "([], <a list of 0 Text yticklabel objects>)"
      ]
     },
     "execution_count": 26,
     "metadata": {},
     "output_type": "execute_result"
    },
    {
     "data": {
      "image/png": "[encoded data removed]",
      "text/plain": [
       "<Figure size 432x288 with 1 Axes>"
      ]
     },
     "metadata": {},
     "output_type": "display_data"
    }
   ],
   "source": [
    "fn = r'axis.jpeg'\n",
    "img = cv2.imread(fn)\n",
    "# plt.figure(figsize=(12, 8))\n",
    "plt.imshow(img)\n",
    "plt.xticks(ticks=[])\n",
    "plt.yticks(ticks=[])"
   ]
  },
  {
   "cell_type": "code",
   "execution_count": null,
   "metadata": {},
   "outputs": [],
   "source": []
  }
 ],
 "metadata": {
  "kernelspec": {
   "display_name": "Python 3",
   "language": "python",
   "name": "python3"
  },
  "language_info": {
   "codemirror_mode": {
    "name": "ipython",
    "version": 3
   },
   "file_extension": ".py",
   "mimetype": "text/x-python",
   "name": "python",
   "nbconvert_exporter": "python",
   "pygments_lexer": "ipython3",
   "version": "3.7.6"
  }
 },
 "nbformat": 4,
 "nbformat_minor": 4
}
