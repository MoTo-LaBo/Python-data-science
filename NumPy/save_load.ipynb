{
 "cells": [
  {
   "cell_type": "markdown",
   "metadata": {},
   "source": [
    "# NumPy Array の保存とロード\n",
    "- np.save( 'path', array )\n",
    "- np.load( 'path' )"
   ]
  },
  {
   "cell_type": "code",
   "execution_count": 1,
   "metadata": {},
   "outputs": [],
   "source": [
    "import numpy as np"
   ]
  },
  {
   "cell_type": "code",
   "execution_count": 2,
   "metadata": {},
   "outputs": [
    {
     "data": {
      "text/plain": [
       "(3, 4, 5)"
      ]
     },
     "execution_count": 2,
     "metadata": {},
     "output_type": "execute_result"
    }
   ],
   "source": [
    "ndarray = np.random.randn(3, 4, 5 )\n",
    "ndarray.shape"
   ]
  },
  {
   "cell_type": "code",
   "execution_count": 4,
   "metadata": {},
   "outputs": [],
   "source": [
    "np.save('sample_ndarray', ndarray) # .npy の拡張子はつけても付けなくても大丈夫"
   ]
  },
  {
   "cell_type": "code",
   "execution_count": 7,
   "metadata": {},
   "outputs": [
    {
     "data": {
      "text/plain": [
       "(3, 4, 5)"
      ]
     },
     "execution_count": 7,
     "metadata": {},
     "output_type": "execute_result"
    }
   ],
   "source": [
    "loaded_ndarray = np.load('sample_ndarray.npy')\n",
    "loaded_ndarray.shape"
   ]
  },
  {
   "cell_type": "markdown",
   "metadata": {},
   "source": [
    "#### よくあるのは何か情報を付け加えた状態で ndarray を save する\n",
    "- <u>一旦　dictionary型　にしてから　save　する</u>"
   ]
  },
  {
   "cell_type": "code",
   "execution_count": 8,
   "metadata": {},
   "outputs": [],
   "source": [
    "dictionary = {\n",
    "    'id': 123456,\n",
    "    'image': ndarray\n",
    "}"
   ]
  },
  {
   "cell_type": "code",
   "execution_count": 9,
   "metadata": {},
   "outputs": [
    {
     "data": {
      "text/plain": [
       "{'id': 123456,\n",
       " 'image': array([[[-1.16774017,  0.59066038,  0.37048535, -0.29515568,\n",
       "           0.09562309],\n",
       "         [-2.55044055, -0.45435284,  0.11226075, -0.86918411,\n",
       "          -0.40887721],\n",
       "         [ 0.28811418, -2.01177082,  1.57236246, -0.47462074,\n",
       "          -1.26270242],\n",
       "         [-0.65542477,  2.07073472,  1.02307968,  0.27746709,\n",
       "          -0.79962746]],\n",
       " \n",
       "        [[ 2.23239809, -1.91261656, -0.44499594, -0.82711868,\n",
       "           1.95187319],\n",
       "         [-0.85973642, -0.01185623,  1.0183052 ,  0.11074752,\n",
       "           0.98844704],\n",
       "         [-0.3989043 ,  0.32093015, -0.78351219,  0.55214995,\n",
       "           1.07000495],\n",
       "         [ 0.26415151,  1.16762708, -0.56361405,  0.61012414,\n",
       "           2.75043462]],\n",
       " \n",
       "        [[ 3.79880704,  0.15874357,  0.90193182, -1.03556561,\n",
       "          -1.98492994],\n",
       "         [-1.8616534 ,  0.41251732,  0.24265568,  0.39733287,\n",
       "           0.09679052],\n",
       "         [ 0.2129795 , -0.62095643, -0.10809317,  1.94488619,\n",
       "          -0.48522788],\n",
       "         [ 0.37645129,  0.91564035, -0.68746492, -0.05652203,\n",
       "           1.1340498 ]]])}"
      ]
     },
     "execution_count": 9,
     "metadata": {},
     "output_type": "execute_result"
    }
   ],
   "source": [
    "dictionary"
   ]
  },
  {
   "cell_type": "code",
   "execution_count": 10,
   "metadata": {},
   "outputs": [],
   "source": [
    "np.save('sample_dict', dictionary)"
   ]
  },
  {
   "cell_type": "code",
   "execution_count": 11,
   "metadata": {},
   "outputs": [
    {
     "ename": "ValueError",
     "evalue": "Object arrays cannot be loaded when allow_pickle=False",
     "output_type": "error",
     "traceback": [
      "\u001b[0;31m---------------------------------------------------------------------------\u001b[0m",
      "\u001b[0;31mValueError\u001b[0m                                Traceback (most recent call last)",
      "\u001b[0;32m<ipython-input-11-03feff543d1a>\u001b[0m in \u001b[0;36m<module>\u001b[0;34m\u001b[0m\n\u001b[0;32m----> 1\u001b[0;31m \u001b[0mnp\u001b[0m\u001b[0;34m.\u001b[0m\u001b[0mload\u001b[0m\u001b[0;34m(\u001b[0m\u001b[0;34m'sample_dict.npy'\u001b[0m\u001b[0;34m)\u001b[0m\u001b[0;34m\u001b[0m\u001b[0;34m\u001b[0m\u001b[0m\n\u001b[0m",
      "\u001b[0;32m/opt/anaconda3/lib/python3.7/site-packages/numpy/lib/npyio.py\u001b[0m in \u001b[0;36mload\u001b[0;34m(file, mmap_mode, allow_pickle, fix_imports, encoding)\u001b[0m\n\u001b[1;32m    451\u001b[0m             \u001b[0;32melse\u001b[0m\u001b[0;34m:\u001b[0m\u001b[0;34m\u001b[0m\u001b[0;34m\u001b[0m\u001b[0m\n\u001b[1;32m    452\u001b[0m                 return format.read_array(fid, allow_pickle=allow_pickle,\n\u001b[0;32m--> 453\u001b[0;31m                                          pickle_kwargs=pickle_kwargs)\n\u001b[0m\u001b[1;32m    454\u001b[0m         \u001b[0;32melse\u001b[0m\u001b[0;34m:\u001b[0m\u001b[0;34m\u001b[0m\u001b[0;34m\u001b[0m\u001b[0m\n\u001b[1;32m    455\u001b[0m             \u001b[0;31m# Try a pickle\u001b[0m\u001b[0;34m\u001b[0m\u001b[0;34m\u001b[0m\u001b[0;34m\u001b[0m\u001b[0m\n",
      "\u001b[0;32m/opt/anaconda3/lib/python3.7/site-packages/numpy/lib/format.py\u001b[0m in \u001b[0;36mread_array\u001b[0;34m(fp, allow_pickle, pickle_kwargs)\u001b[0m\n\u001b[1;32m    737\u001b[0m         \u001b[0;31m# The array contained Python objects. We need to unpickle the data.\u001b[0m\u001b[0;34m\u001b[0m\u001b[0;34m\u001b[0m\u001b[0;34m\u001b[0m\u001b[0m\n\u001b[1;32m    738\u001b[0m         \u001b[0;32mif\u001b[0m \u001b[0;32mnot\u001b[0m \u001b[0mallow_pickle\u001b[0m\u001b[0;34m:\u001b[0m\u001b[0;34m\u001b[0m\u001b[0;34m\u001b[0m\u001b[0m\n\u001b[0;32m--> 739\u001b[0;31m             raise ValueError(\"Object arrays cannot be loaded when \"\n\u001b[0m\u001b[1;32m    740\u001b[0m                              \"allow_pickle=False\")\n\u001b[1;32m    741\u001b[0m         \u001b[0;32mif\u001b[0m \u001b[0mpickle_kwargs\u001b[0m \u001b[0;32mis\u001b[0m \u001b[0;32mNone\u001b[0m\u001b[0;34m:\u001b[0m\u001b[0;34m\u001b[0m\u001b[0;34m\u001b[0m\u001b[0m\n",
      "\u001b[0;31mValueError\u001b[0m: Object arrays cannot be loaded when allow_pickle=False"
     ]
    }
   ],
   "source": [
    "np.load('sample_dict.npy')"
   ]
  },
  {
   "cell_type": "markdown",
   "metadata": {},
   "source": [
    "### allow_pickle=False\n",
    "- **pickle( ピクル )**\n",
    "    - *python では object を保存する時 pickle 形式で保存される*\n",
    "\n",
    "- 今回の　dictionary も pickle 形式で保存されている\n",
    "    - **np.load( ) は　pickle 形式で保存されているものを直接 load は出来ない**\n",
    "        - *allow_pickle=True の引数を与えてあげる*"
   ]
  },
  {
   "cell_type": "code",
   "execution_count": 13,
   "metadata": {},
   "outputs": [],
   "source": [
    "loaded_dict = np.load('sample_dict.npy', allow_pickle=True)"
   ]
  },
  {
   "cell_type": "code",
   "execution_count": 14,
   "metadata": {},
   "outputs": [
    {
     "data": {
      "text/plain": [
       "array({'id': 123456, 'image': array([[[-1.16774017,  0.59066038,  0.37048535, -0.29515568,\n",
       "          0.09562309],\n",
       "        [-2.55044055, -0.45435284,  0.11226075, -0.86918411,\n",
       "         -0.40887721],\n",
       "        [ 0.28811418, -2.01177082,  1.57236246, -0.47462074,\n",
       "         -1.26270242],\n",
       "        [-0.65542477,  2.07073472,  1.02307968,  0.27746709,\n",
       "         -0.79962746]],\n",
       "\n",
       "       [[ 2.23239809, -1.91261656, -0.44499594, -0.82711868,\n",
       "          1.95187319],\n",
       "        [-0.85973642, -0.01185623,  1.0183052 ,  0.11074752,\n",
       "          0.98844704],\n",
       "        [-0.3989043 ,  0.32093015, -0.78351219,  0.55214995,\n",
       "          1.07000495],\n",
       "        [ 0.26415151,  1.16762708, -0.56361405,  0.61012414,\n",
       "          2.75043462]],\n",
       "\n",
       "       [[ 3.79880704,  0.15874357,  0.90193182, -1.03556561,\n",
       "         -1.98492994],\n",
       "        [-1.8616534 ,  0.41251732,  0.24265568,  0.39733287,\n",
       "          0.09679052],\n",
       "        [ 0.2129795 , -0.62095643, -0.10809317,  1.94488619,\n",
       "         -0.48522788],\n",
       "        [ 0.37645129,  0.91564035, -0.68746492, -0.05652203,\n",
       "          1.1340498 ]]])}, dtype=object)"
      ]
     },
     "execution_count": 14,
     "metadata": {},
     "output_type": "execute_result"
    }
   ],
   "source": [
    "loaded_dict"
   ]
  },
  {
   "cell_type": "markdown",
   "metadata": {},
   "source": [
    "- dictionary で保存したのに load すると array で返ってくる"
   ]
  },
  {
   "cell_type": "code",
   "execution_count": 15,
   "metadata": {},
   "outputs": [],
   "source": [
    "a = np.array({'a': 1})"
   ]
  },
  {
   "cell_type": "code",
   "execution_count": 16,
   "metadata": {},
   "outputs": [
    {
     "data": {
      "text/plain": [
       "array({'a': 1}, dtype=object)"
      ]
     },
     "execution_count": 16,
     "metadata": {},
     "output_type": "execute_result"
    }
   ],
   "source": [
    "a"
   ]
  },
  {
   "cell_type": "code",
   "execution_count": 17,
   "metadata": {},
   "outputs": [
    {
     "data": {
      "text/plain": [
       "{'a': 1}"
      ]
     },
     "execution_count": 17,
     "metadata": {},
     "output_type": "execute_result"
    }
   ],
   "source": [
    "a[()]"
   ]
  },
  {
   "cell_type": "markdown",
   "metadata": {},
   "source": [
    "- array を　dictionary へ戻す\n",
    "    - **dictionary を取り出す場合は　[ ( ) ]**"
   ]
  },
  {
   "cell_type": "code",
   "execution_count": 18,
   "metadata": {},
   "outputs": [],
   "source": [
    "loaded_dict = np.load('sample_dict.npy', allow_pickle=True)[()]"
   ]
  },
  {
   "cell_type": "code",
   "execution_count": 19,
   "metadata": {},
   "outputs": [
    {
     "data": {
      "text/plain": [
       "{'id': 123456,\n",
       " 'image': array([[[-1.16774017,  0.59066038,  0.37048535, -0.29515568,\n",
       "           0.09562309],\n",
       "         [-2.55044055, -0.45435284,  0.11226075, -0.86918411,\n",
       "          -0.40887721],\n",
       "         [ 0.28811418, -2.01177082,  1.57236246, -0.47462074,\n",
       "          -1.26270242],\n",
       "         [-0.65542477,  2.07073472,  1.02307968,  0.27746709,\n",
       "          -0.79962746]],\n",
       " \n",
       "        [[ 2.23239809, -1.91261656, -0.44499594, -0.82711868,\n",
       "           1.95187319],\n",
       "         [-0.85973642, -0.01185623,  1.0183052 ,  0.11074752,\n",
       "           0.98844704],\n",
       "         [-0.3989043 ,  0.32093015, -0.78351219,  0.55214995,\n",
       "           1.07000495],\n",
       "         [ 0.26415151,  1.16762708, -0.56361405,  0.61012414,\n",
       "           2.75043462]],\n",
       " \n",
       "        [[ 3.79880704,  0.15874357,  0.90193182, -1.03556561,\n",
       "          -1.98492994],\n",
       "         [-1.8616534 ,  0.41251732,  0.24265568,  0.39733287,\n",
       "           0.09679052],\n",
       "         [ 0.2129795 , -0.62095643, -0.10809317,  1.94488619,\n",
       "          -0.48522788],\n",
       "         [ 0.37645129,  0.91564035, -0.68746492, -0.05652203,\n",
       "           1.1340498 ]]])}"
      ]
     },
     "execution_count": 19,
     "metadata": {},
     "output_type": "execute_result"
    }
   ],
   "source": [
    "loaded_dict"
   ]
  },
  {
   "cell_type": "code",
   "execution_count": null,
   "metadata": {},
   "outputs": [],
   "source": []
  }
 ],
 "metadata": {
  "kernelspec": {
   "display_name": "Python 3",
   "language": "python",
   "name": "python3"
  },
  "language_info": {
   "codemirror_mode": {
    "name": "ipython",
    "version": 3
   },
   "file_extension": ".py",
   "mimetype": "text/x-python",
   "name": "python",
   "nbconvert_exporter": "python",
   "pygments_lexer": "ipython3",
   "version": "3.7.6"
  }
 },
 "nbformat": 4,
 "nbformat_minor": 4
}
