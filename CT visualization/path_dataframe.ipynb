{
 "cells": [
  {
   "cell_type": "markdown",
   "metadata": {},
   "source": [
    "# file path を DataFrame にする"
   ]
  },
  {
   "cell_type": "code",
   "execution_count": 1,
   "metadata": {},
   "outputs": [],
   "source": [
    "%load_ext autoreload\n",
    "%autoreload 2\n",
    "import numpy as np\n",
    "import pandas as pd\n",
    "import matplotlib.pyplot as plt\n",
    "%matplotlib inline\n",
    "import seaborn as sns\n",
    "import os\n",
    "import time\n",
    "import nibabel as nib\n",
    "from glob import glob\n",
    "from pathlib import Path\n",
    "from tqdm import tqdm\n",
    "from multiprocessing import Pool, cpu_count"
   ]
  },
  {
   "cell_type": "markdown",
   "metadata": {},
   "source": [
    "## challenge\n",
    "#### columns : FilePathImage, FileName, FilePathMask\n",
    "- 上記の　columns　を作成して　DataFrame を作成"
   ]
  },
  {
   "cell_type": "code",
   "execution_count": 2,
   "metadata": {},
   "outputs": [
    {
     "data": {
      "text/plain": [
       "['../public-covid-data/rp_im/1.nii.gz',\n",
       " '../public-covid-data/rp_im/2.nii.gz',\n",
       " '../public-covid-data/rp_im/3.nii.gz',\n",
       " '../public-covid-data/rp_im/4.nii.gz',\n",
       " '../public-covid-data/rp_im/5.nii.gz',\n",
       " '../public-covid-data/rp_im/6.nii.gz',\n",
       " '../public-covid-data/rp_im/7.nii.gz',\n",
       " '../public-covid-data/rp_im/8.nii.gz',\n",
       " '../public-covid-data/rp_im/9.nii.gz']"
      ]
     },
     "execution_count": 2,
     "metadata": {},
     "output_type": "execute_result"
    }
   ],
   "source": [
    "p_im = glob('../public-covid-data/rp_im/*')\n",
    "p_im"
   ]
  },
  {
   "cell_type": "code",
   "execution_count": 3,
   "metadata": {},
   "outputs": [],
   "source": [
    "# p = os.path.split(p[1])\n",
    "# p\n",
    "# ('../public-covid-data/rp_im', '2.nii.gz')"
   ]
  },
  {
   "cell_type": "code",
   "execution_count": 4,
   "metadata": {},
   "outputs": [
    {
     "data": {
      "text/plain": [
       "['1.nii.gz',\n",
       " '2.nii.gz',\n",
       " '3.nii.gz',\n",
       " '4.nii.gz',\n",
       " '5.nii.gz',\n",
       " '6.nii.gz',\n",
       " '7.nii.gz',\n",
       " '8.nii.gz',\n",
       " '9.nii.gz']"
      ]
     },
     "execution_count": 4,
     "metadata": {},
     "output_type": "execute_result"
    }
   ],
   "source": [
    "FileName = []\n",
    "for _, i in enumerate(p_im):\n",
    "    p_im = os.path.split(i)\n",
    "    FileName.append(p_im[1])\n",
    "FileName"
   ]
  },
  {
   "cell_type": "code",
   "execution_count": 5,
   "metadata": {},
   "outputs": [
    {
     "data": {
      "text/plain": [
       "['../public-covid-data/rp_msk/1.nii.gz',\n",
       " '../public-covid-data/rp_msk/2.nii.gz',\n",
       " '../public-covid-data/rp_msk/3.nii.gz',\n",
       " '../public-covid-data/rp_msk/4.nii.gz',\n",
       " '../public-covid-data/rp_msk/5.nii.gz',\n",
       " '../public-covid-data/rp_msk/6.nii.gz',\n",
       " '../public-covid-data/rp_msk/7.nii.gz',\n",
       " '../public-covid-data/rp_msk/8.nii.gz',\n",
       " '../public-covid-data/rp_msk/9.nii.gz']"
      ]
     },
     "execution_count": 5,
     "metadata": {},
     "output_type": "execute_result"
    }
   ],
   "source": [
    "p_msk = glob('../public-covid-data/rp_msk/*')\n",
    "p_msk"
   ]
  },
  {
   "cell_type": "markdown",
   "metadata": {},
   "source": [
    "## DataFrame 作成"
   ]
  },
  {
   "cell_type": "code",
   "execution_count": 6,
   "metadata": {},
   "outputs": [
    {
     "data": {
      "text/html": [
       "<div>\n",
       "<style scoped>\n",
       "    .dataframe tbody tr th:only-of-type {\n",
       "        vertical-align: middle;\n",
       "    }\n",
       "\n",
       "    .dataframe tbody tr th {\n",
       "        vertical-align: top;\n",
       "    }\n",
       "\n",
       "    .dataframe thead th {\n",
       "        text-align: right;\n",
       "    }\n",
       "</style>\n",
       "<table border=\"1\" class=\"dataframe\">\n",
       "  <thead>\n",
       "    <tr style=\"text-align: right;\">\n",
       "      <th></th>\n",
       "      <th>FilePathImage</th>\n",
       "      <th>FileName</th>\n",
       "      <th>FilePathMask</th>\n",
       "    </tr>\n",
       "  </thead>\n",
       "  <tbody>\n",
       "    <tr>\n",
       "      <th>0</th>\n",
       "      <td>../public-covid-data/rp_im/1.nii.gz</td>\n",
       "      <td>1.nii.gz</td>\n",
       "      <td>../public-covid-data/rp_msk/1.nii.gz</td>\n",
       "    </tr>\n",
       "    <tr>\n",
       "      <th>1</th>\n",
       "      <td>../public-covid-data/rp_im/2.nii.gz</td>\n",
       "      <td>2.nii.gz</td>\n",
       "      <td>../public-covid-data/rp_msk/2.nii.gz</td>\n",
       "    </tr>\n",
       "    <tr>\n",
       "      <th>2</th>\n",
       "      <td>../public-covid-data/rp_im/3.nii.gz</td>\n",
       "      <td>3.nii.gz</td>\n",
       "      <td>../public-covid-data/rp_msk/3.nii.gz</td>\n",
       "    </tr>\n",
       "    <tr>\n",
       "      <th>3</th>\n",
       "      <td>../public-covid-data/rp_im/4.nii.gz</td>\n",
       "      <td>4.nii.gz</td>\n",
       "      <td>../public-covid-data/rp_msk/4.nii.gz</td>\n",
       "    </tr>\n",
       "    <tr>\n",
       "      <th>4</th>\n",
       "      <td>../public-covid-data/rp_im/5.nii.gz</td>\n",
       "      <td>5.nii.gz</td>\n",
       "      <td>../public-covid-data/rp_msk/5.nii.gz</td>\n",
       "    </tr>\n",
       "    <tr>\n",
       "      <th>5</th>\n",
       "      <td>../public-covid-data/rp_im/6.nii.gz</td>\n",
       "      <td>6.nii.gz</td>\n",
       "      <td>../public-covid-data/rp_msk/6.nii.gz</td>\n",
       "    </tr>\n",
       "    <tr>\n",
       "      <th>6</th>\n",
       "      <td>../public-covid-data/rp_im/7.nii.gz</td>\n",
       "      <td>7.nii.gz</td>\n",
       "      <td>../public-covid-data/rp_msk/7.nii.gz</td>\n",
       "    </tr>\n",
       "    <tr>\n",
       "      <th>7</th>\n",
       "      <td>../public-covid-data/rp_im/8.nii.gz</td>\n",
       "      <td>8.nii.gz</td>\n",
       "      <td>../public-covid-data/rp_msk/8.nii.gz</td>\n",
       "    </tr>\n",
       "    <tr>\n",
       "      <th>8</th>\n",
       "      <td>../public-covid-data/rp_im/9.nii.gz</td>\n",
       "      <td>9.nii.gz</td>\n",
       "      <td>../public-covid-data/rp_msk/9.nii.gz</td>\n",
       "    </tr>\n",
       "  </tbody>\n",
       "</table>\n",
       "</div>"
      ],
      "text/plain": [
       "                         FilePathImage  FileName  \\\n",
       "0  ../public-covid-data/rp_im/1.nii.gz  1.nii.gz   \n",
       "1  ../public-covid-data/rp_im/2.nii.gz  2.nii.gz   \n",
       "2  ../public-covid-data/rp_im/3.nii.gz  3.nii.gz   \n",
       "3  ../public-covid-data/rp_im/4.nii.gz  4.nii.gz   \n",
       "4  ../public-covid-data/rp_im/5.nii.gz  5.nii.gz   \n",
       "5  ../public-covid-data/rp_im/6.nii.gz  6.nii.gz   \n",
       "6  ../public-covid-data/rp_im/7.nii.gz  7.nii.gz   \n",
       "7  ../public-covid-data/rp_im/8.nii.gz  8.nii.gz   \n",
       "8  ../public-covid-data/rp_im/9.nii.gz  9.nii.gz   \n",
       "\n",
       "                           FilePathMask  \n",
       "0  ../public-covid-data/rp_msk/1.nii.gz  \n",
       "1  ../public-covid-data/rp_msk/2.nii.gz  \n",
       "2  ../public-covid-data/rp_msk/3.nii.gz  \n",
       "3  ../public-covid-data/rp_msk/4.nii.gz  \n",
       "4  ../public-covid-data/rp_msk/5.nii.gz  \n",
       "5  ../public-covid-data/rp_msk/6.nii.gz  \n",
       "6  ../public-covid-data/rp_msk/7.nii.gz  \n",
       "7  ../public-covid-data/rp_msk/8.nii.gz  \n",
       "8  ../public-covid-data/rp_msk/9.nii.gz  "
      ]
     },
     "execution_count": 6,
     "metadata": {},
     "output_type": "execute_result"
    }
   ],
   "source": [
    "p_im = glob('../public-covid-data/rp_im/*')\n",
    "p_msk = glob('../public-covid-data/rp_msk/*')\n",
    "filename = []\n",
    "\n",
    "\n",
    "for _, i in enumerate(p_im):\n",
    "    p = os.path.split(i)\n",
    "    filename.append(p[1])\n",
    "\n",
    "\n",
    "data = {\n",
    "    'FilePathImage': p_im,\n",
    "    'FileName': filename,\n",
    "    'FilePathMask': p_msk\n",
    "}\n",
    "\n",
    "df = pd.DataFrame(data)\n",
    "df"
   ]
  },
  {
   "cell_type": "markdown",
   "metadata": {},
   "source": [
    "## 回答"
   ]
  },
  {
   "cell_type": "code",
   "execution_count": 7,
   "metadata": {},
   "outputs": [
    {
     "data": {
      "text/plain": [
       "['../public-covid-data/rp_im/1.nii.gz',\n",
       " '../public-covid-data/rp_im/2.nii.gz',\n",
       " '../public-covid-data/rp_im/3.nii.gz',\n",
       " '../public-covid-data/rp_im/4.nii.gz',\n",
       " '../public-covid-data/rp_im/5.nii.gz',\n",
       " '../public-covid-data/rp_im/6.nii.gz',\n",
       " '../public-covid-data/rp_im/7.nii.gz',\n",
       " '../public-covid-data/rp_im/8.nii.gz',\n",
       " '../public-covid-data/rp_im/9.nii.gz']"
      ]
     },
     "execution_count": 7,
     "metadata": {},
     "output_type": "execute_result"
    }
   ],
   "source": [
    "glob('../public-covid-data/rp_im/*')"
   ]
  },
  {
   "cell_type": "code",
   "execution_count": 8,
   "metadata": {},
   "outputs": [
    {
     "data": {
      "text/plain": [
       "{'FilePathImage': ['../public-covid-data/rp_im/1.nii.gz',\n",
       "  '../public-covid-data/rp_im/2.nii.gz',\n",
       "  '../public-covid-data/rp_im/3.nii.gz',\n",
       "  '../public-covid-data/rp_im/4.nii.gz',\n",
       "  '../public-covid-data/rp_im/5.nii.gz',\n",
       "  '../public-covid-data/rp_im/6.nii.gz',\n",
       "  '../public-covid-data/rp_im/7.nii.gz',\n",
       "  '../public-covid-data/rp_im/8.nii.gz',\n",
       "  '../public-covid-data/rp_im/9.nii.gz']}"
      ]
     },
     "execution_count": 8,
     "metadata": {},
     "output_type": "execute_result"
    }
   ],
   "source": [
    "{'FilePathImage':glob('../public-covid-data/rp_im/*')}"
   ]
  },
  {
   "cell_type": "markdown",
   "metadata": {},
   "source": [
    "- *path 自体を　value　にしてしまう*\n",
    "    - *今回作成したい　columns　を　**Key**　とする*\n",
    "\n",
    "\n",
    "#### Key　:　value の dictionary を作成する事で簡単に　DataFrame が作成できる"
   ]
  },
  {
   "cell_type": "code",
   "execution_count": 9,
   "metadata": {},
   "outputs": [
    {
     "data": {
      "text/html": [
       "<div>\n",
       "<style scoped>\n",
       "    .dataframe tbody tr th:only-of-type {\n",
       "        vertical-align: middle;\n",
       "    }\n",
       "\n",
       "    .dataframe tbody tr th {\n",
       "        vertical-align: top;\n",
       "    }\n",
       "\n",
       "    .dataframe thead th {\n",
       "        text-align: right;\n",
       "    }\n",
       "</style>\n",
       "<table border=\"1\" class=\"dataframe\">\n",
       "  <thead>\n",
       "    <tr style=\"text-align: right;\">\n",
       "      <th></th>\n",
       "      <th>FilePathImage</th>\n",
       "    </tr>\n",
       "  </thead>\n",
       "  <tbody>\n",
       "    <tr>\n",
       "      <th>0</th>\n",
       "      <td>../public-covid-data/rp_im/1.nii.gz</td>\n",
       "    </tr>\n",
       "    <tr>\n",
       "      <th>1</th>\n",
       "      <td>../public-covid-data/rp_im/2.nii.gz</td>\n",
       "    </tr>\n",
       "    <tr>\n",
       "      <th>2</th>\n",
       "      <td>../public-covid-data/rp_im/3.nii.gz</td>\n",
       "    </tr>\n",
       "    <tr>\n",
       "      <th>3</th>\n",
       "      <td>../public-covid-data/rp_im/4.nii.gz</td>\n",
       "    </tr>\n",
       "    <tr>\n",
       "      <th>4</th>\n",
       "      <td>../public-covid-data/rp_im/5.nii.gz</td>\n",
       "    </tr>\n",
       "    <tr>\n",
       "      <th>5</th>\n",
       "      <td>../public-covid-data/rp_im/6.nii.gz</td>\n",
       "    </tr>\n",
       "    <tr>\n",
       "      <th>6</th>\n",
       "      <td>../public-covid-data/rp_im/7.nii.gz</td>\n",
       "    </tr>\n",
       "    <tr>\n",
       "      <th>7</th>\n",
       "      <td>../public-covid-data/rp_im/8.nii.gz</td>\n",
       "    </tr>\n",
       "    <tr>\n",
       "      <th>8</th>\n",
       "      <td>../public-covid-data/rp_im/9.nii.gz</td>\n",
       "    </tr>\n",
       "  </tbody>\n",
       "</table>\n",
       "</div>"
      ],
      "text/plain": [
       "                         FilePathImage\n",
       "0  ../public-covid-data/rp_im/1.nii.gz\n",
       "1  ../public-covid-data/rp_im/2.nii.gz\n",
       "2  ../public-covid-data/rp_im/3.nii.gz\n",
       "3  ../public-covid-data/rp_im/4.nii.gz\n",
       "4  ../public-covid-data/rp_im/5.nii.gz\n",
       "5  ../public-covid-data/rp_im/6.nii.gz\n",
       "6  ../public-covid-data/rp_im/7.nii.gz\n",
       "7  ../public-covid-data/rp_im/8.nii.gz\n",
       "8  ../public-covid-data/rp_im/9.nii.gz"
      ]
     },
     "execution_count": 9,
     "metadata": {},
     "output_type": "execute_result"
    }
   ],
   "source": [
    "df = pd.DataFrame({'FilePathImage':glob('../public-covid-data/rp_im/*')})\n",
    "df"
   ]
  },
  {
   "cell_type": "code",
   "execution_count": 10,
   "metadata": {},
   "outputs": [
    {
     "data": {
      "text/plain": [
       "['1.nii.gz',\n",
       " '2.nii.gz',\n",
       " '3.nii.gz',\n",
       " '4.nii.gz',\n",
       " '5.nii.gz',\n",
       " '6.nii.gz',\n",
       " '7.nii.gz',\n",
       " '8.nii.gz',\n",
       " '9.nii.gz']"
      ]
     },
     "execution_count": 10,
     "metadata": {},
     "output_type": "execute_result"
    }
   ],
   "source": [
    "[p.split('/')[-1] for p in glob('../public-covid-data/rp_im/*')]"
   ]
  },
  {
   "cell_type": "code",
   "execution_count": 11,
   "metadata": {},
   "outputs": [
    {
     "data": {
      "text/html": [
       "<div>\n",
       "<style scoped>\n",
       "    .dataframe tbody tr th:only-of-type {\n",
       "        vertical-align: middle;\n",
       "    }\n",
       "\n",
       "    .dataframe tbody tr th {\n",
       "        vertical-align: top;\n",
       "    }\n",
       "\n",
       "    .dataframe thead th {\n",
       "        text-align: right;\n",
       "    }\n",
       "</style>\n",
       "<table border=\"1\" class=\"dataframe\">\n",
       "  <thead>\n",
       "    <tr style=\"text-align: right;\">\n",
       "      <th></th>\n",
       "      <th>FilePath</th>\n",
       "      <th>FileName</th>\n",
       "    </tr>\n",
       "  </thead>\n",
       "  <tbody>\n",
       "    <tr>\n",
       "      <th>0</th>\n",
       "      <td>../public-covid-data/rp_im/1.nii.gz</td>\n",
       "      <td>1.nii.gz</td>\n",
       "    </tr>\n",
       "    <tr>\n",
       "      <th>1</th>\n",
       "      <td>../public-covid-data/rp_im/2.nii.gz</td>\n",
       "      <td>2.nii.gz</td>\n",
       "    </tr>\n",
       "    <tr>\n",
       "      <th>2</th>\n",
       "      <td>../public-covid-data/rp_im/3.nii.gz</td>\n",
       "      <td>3.nii.gz</td>\n",
       "    </tr>\n",
       "    <tr>\n",
       "      <th>3</th>\n",
       "      <td>../public-covid-data/rp_im/4.nii.gz</td>\n",
       "      <td>4.nii.gz</td>\n",
       "    </tr>\n",
       "    <tr>\n",
       "      <th>4</th>\n",
       "      <td>../public-covid-data/rp_im/5.nii.gz</td>\n",
       "      <td>5.nii.gz</td>\n",
       "    </tr>\n",
       "    <tr>\n",
       "      <th>5</th>\n",
       "      <td>../public-covid-data/rp_im/6.nii.gz</td>\n",
       "      <td>6.nii.gz</td>\n",
       "    </tr>\n",
       "    <tr>\n",
       "      <th>6</th>\n",
       "      <td>../public-covid-data/rp_im/7.nii.gz</td>\n",
       "      <td>7.nii.gz</td>\n",
       "    </tr>\n",
       "    <tr>\n",
       "      <th>7</th>\n",
       "      <td>../public-covid-data/rp_im/8.nii.gz</td>\n",
       "      <td>8.nii.gz</td>\n",
       "    </tr>\n",
       "    <tr>\n",
       "      <th>8</th>\n",
       "      <td>../public-covid-data/rp_im/9.nii.gz</td>\n",
       "      <td>9.nii.gz</td>\n",
       "    </tr>\n",
       "  </tbody>\n",
       "</table>\n",
       "</div>"
      ],
      "text/plain": [
       "                              FilePath  FileName\n",
       "0  ../public-covid-data/rp_im/1.nii.gz  1.nii.gz\n",
       "1  ../public-covid-data/rp_im/2.nii.gz  2.nii.gz\n",
       "2  ../public-covid-data/rp_im/3.nii.gz  3.nii.gz\n",
       "3  ../public-covid-data/rp_im/4.nii.gz  4.nii.gz\n",
       "4  ../public-covid-data/rp_im/5.nii.gz  5.nii.gz\n",
       "5  ../public-covid-data/rp_im/6.nii.gz  6.nii.gz\n",
       "6  ../public-covid-data/rp_im/7.nii.gz  7.nii.gz\n",
       "7  ../public-covid-data/rp_im/8.nii.gz  8.nii.gz\n",
       "8  ../public-covid-data/rp_im/9.nii.gz  9.nii.gz"
      ]
     },
     "execution_count": 11,
     "metadata": {},
     "output_type": "execute_result"
    }
   ],
   "source": [
    "rp_im_df = pd.DataFrame({'FilePath': glob('../public-covid-data/rp_im/*'),\n",
    "'FileName': [p.split('/')[-1] for p in glob('../public-covid-data/rp_im/*')]})\n",
    "rp_im_df"
   ]
  },
  {
   "cell_type": "code",
   "execution_count": 12,
   "metadata": {},
   "outputs": [
    {
     "data": {
      "text/html": [
       "<div>\n",
       "<style scoped>\n",
       "    .dataframe tbody tr th:only-of-type {\n",
       "        vertical-align: middle;\n",
       "    }\n",
       "\n",
       "    .dataframe tbody tr th {\n",
       "        vertical-align: top;\n",
       "    }\n",
       "\n",
       "    .dataframe thead th {\n",
       "        text-align: right;\n",
       "    }\n",
       "</style>\n",
       "<table border=\"1\" class=\"dataframe\">\n",
       "  <thead>\n",
       "    <tr style=\"text-align: right;\">\n",
       "      <th></th>\n",
       "      <th>FilePath</th>\n",
       "      <th>FileName</th>\n",
       "    </tr>\n",
       "  </thead>\n",
       "  <tbody>\n",
       "    <tr>\n",
       "      <th>0</th>\n",
       "      <td>../public-covid-data/rp_msk/1.nii.gz</td>\n",
       "      <td>1.nii.gz</td>\n",
       "    </tr>\n",
       "    <tr>\n",
       "      <th>1</th>\n",
       "      <td>../public-covid-data/rp_msk/2.nii.gz</td>\n",
       "      <td>2.nii.gz</td>\n",
       "    </tr>\n",
       "    <tr>\n",
       "      <th>2</th>\n",
       "      <td>../public-covid-data/rp_msk/3.nii.gz</td>\n",
       "      <td>3.nii.gz</td>\n",
       "    </tr>\n",
       "    <tr>\n",
       "      <th>3</th>\n",
       "      <td>../public-covid-data/rp_msk/4.nii.gz</td>\n",
       "      <td>4.nii.gz</td>\n",
       "    </tr>\n",
       "    <tr>\n",
       "      <th>4</th>\n",
       "      <td>../public-covid-data/rp_msk/5.nii.gz</td>\n",
       "      <td>5.nii.gz</td>\n",
       "    </tr>\n",
       "    <tr>\n",
       "      <th>5</th>\n",
       "      <td>../public-covid-data/rp_msk/6.nii.gz</td>\n",
       "      <td>6.nii.gz</td>\n",
       "    </tr>\n",
       "    <tr>\n",
       "      <th>6</th>\n",
       "      <td>../public-covid-data/rp_msk/7.nii.gz</td>\n",
       "      <td>7.nii.gz</td>\n",
       "    </tr>\n",
       "    <tr>\n",
       "      <th>7</th>\n",
       "      <td>../public-covid-data/rp_msk/8.nii.gz</td>\n",
       "      <td>8.nii.gz</td>\n",
       "    </tr>\n",
       "    <tr>\n",
       "      <th>8</th>\n",
       "      <td>../public-covid-data/rp_msk/9.nii.gz</td>\n",
       "      <td>9.nii.gz</td>\n",
       "    </tr>\n",
       "  </tbody>\n",
       "</table>\n",
       "</div>"
      ],
      "text/plain": [
       "                               FilePath  FileName\n",
       "0  ../public-covid-data/rp_msk/1.nii.gz  1.nii.gz\n",
       "1  ../public-covid-data/rp_msk/2.nii.gz  2.nii.gz\n",
       "2  ../public-covid-data/rp_msk/3.nii.gz  3.nii.gz\n",
       "3  ../public-covid-data/rp_msk/4.nii.gz  4.nii.gz\n",
       "4  ../public-covid-data/rp_msk/5.nii.gz  5.nii.gz\n",
       "5  ../public-covid-data/rp_msk/6.nii.gz  6.nii.gz\n",
       "6  ../public-covid-data/rp_msk/7.nii.gz  7.nii.gz\n",
       "7  ../public-covid-data/rp_msk/8.nii.gz  8.nii.gz\n",
       "8  ../public-covid-data/rp_msk/9.nii.gz  9.nii.gz"
      ]
     },
     "execution_count": 12,
     "metadata": {},
     "output_type": "execute_result"
    }
   ],
   "source": [
    "rp_msk_df = pd.DataFrame({'FilePath': glob('../public-covid-data/rp_msk/*'),\n",
    "'FileName': [p.split('/')[-1] for p in glob('../public-covid-data/rp_msk/*')]})\n",
    "rp_msk_df"
   ]
  },
  {
   "cell_type": "markdown",
   "metadata": {},
   "source": [
    "## merge する"
   ]
  },
  {
   "cell_type": "code",
   "execution_count": 13,
   "metadata": {},
   "outputs": [
    {
     "data": {
      "text/html": [
       "<div>\n",
       "<style scoped>\n",
       "    .dataframe tbody tr th:only-of-type {\n",
       "        vertical-align: middle;\n",
       "    }\n",
       "\n",
       "    .dataframe tbody tr th {\n",
       "        vertical-align: top;\n",
       "    }\n",
       "\n",
       "    .dataframe thead th {\n",
       "        text-align: right;\n",
       "    }\n",
       "</style>\n",
       "<table border=\"1\" class=\"dataframe\">\n",
       "  <thead>\n",
       "    <tr style=\"text-align: right;\">\n",
       "      <th></th>\n",
       "      <th>FilePathImage</th>\n",
       "      <th>FileName</th>\n",
       "      <th>FilePathMask</th>\n",
       "    </tr>\n",
       "  </thead>\n",
       "  <tbody>\n",
       "    <tr>\n",
       "      <th>0</th>\n",
       "      <td>../public-covid-data/rp_im/1.nii.gz</td>\n",
       "      <td>1.nii.gz</td>\n",
       "      <td>../public-covid-data/rp_msk/1.nii.gz</td>\n",
       "    </tr>\n",
       "    <tr>\n",
       "      <th>1</th>\n",
       "      <td>../public-covid-data/rp_im/2.nii.gz</td>\n",
       "      <td>2.nii.gz</td>\n",
       "      <td>../public-covid-data/rp_msk/2.nii.gz</td>\n",
       "    </tr>\n",
       "    <tr>\n",
       "      <th>2</th>\n",
       "      <td>../public-covid-data/rp_im/3.nii.gz</td>\n",
       "      <td>3.nii.gz</td>\n",
       "      <td>../public-covid-data/rp_msk/3.nii.gz</td>\n",
       "    </tr>\n",
       "    <tr>\n",
       "      <th>3</th>\n",
       "      <td>../public-covid-data/rp_im/4.nii.gz</td>\n",
       "      <td>4.nii.gz</td>\n",
       "      <td>../public-covid-data/rp_msk/4.nii.gz</td>\n",
       "    </tr>\n",
       "    <tr>\n",
       "      <th>4</th>\n",
       "      <td>../public-covid-data/rp_im/5.nii.gz</td>\n",
       "      <td>5.nii.gz</td>\n",
       "      <td>../public-covid-data/rp_msk/5.nii.gz</td>\n",
       "    </tr>\n",
       "    <tr>\n",
       "      <th>5</th>\n",
       "      <td>../public-covid-data/rp_im/6.nii.gz</td>\n",
       "      <td>6.nii.gz</td>\n",
       "      <td>../public-covid-data/rp_msk/6.nii.gz</td>\n",
       "    </tr>\n",
       "    <tr>\n",
       "      <th>6</th>\n",
       "      <td>../public-covid-data/rp_im/7.nii.gz</td>\n",
       "      <td>7.nii.gz</td>\n",
       "      <td>../public-covid-data/rp_msk/7.nii.gz</td>\n",
       "    </tr>\n",
       "    <tr>\n",
       "      <th>7</th>\n",
       "      <td>../public-covid-data/rp_im/8.nii.gz</td>\n",
       "      <td>8.nii.gz</td>\n",
       "      <td>../public-covid-data/rp_msk/8.nii.gz</td>\n",
       "    </tr>\n",
       "    <tr>\n",
       "      <th>8</th>\n",
       "      <td>../public-covid-data/rp_im/9.nii.gz</td>\n",
       "      <td>9.nii.gz</td>\n",
       "      <td>../public-covid-data/rp_msk/9.nii.gz</td>\n",
       "    </tr>\n",
       "  </tbody>\n",
       "</table>\n",
       "</div>"
      ],
      "text/plain": [
       "                         FilePathImage  FileName  \\\n",
       "0  ../public-covid-data/rp_im/1.nii.gz  1.nii.gz   \n",
       "1  ../public-covid-data/rp_im/2.nii.gz  2.nii.gz   \n",
       "2  ../public-covid-data/rp_im/3.nii.gz  3.nii.gz   \n",
       "3  ../public-covid-data/rp_im/4.nii.gz  4.nii.gz   \n",
       "4  ../public-covid-data/rp_im/5.nii.gz  5.nii.gz   \n",
       "5  ../public-covid-data/rp_im/6.nii.gz  6.nii.gz   \n",
       "6  ../public-covid-data/rp_im/7.nii.gz  7.nii.gz   \n",
       "7  ../public-covid-data/rp_im/8.nii.gz  8.nii.gz   \n",
       "8  ../public-covid-data/rp_im/9.nii.gz  9.nii.gz   \n",
       "\n",
       "                           FilePathMask  \n",
       "0  ../public-covid-data/rp_msk/1.nii.gz  \n",
       "1  ../public-covid-data/rp_msk/2.nii.gz  \n",
       "2  ../public-covid-data/rp_msk/3.nii.gz  \n",
       "3  ../public-covid-data/rp_msk/4.nii.gz  \n",
       "4  ../public-covid-data/rp_msk/5.nii.gz  \n",
       "5  ../public-covid-data/rp_msk/6.nii.gz  \n",
       "6  ../public-covid-data/rp_msk/7.nii.gz  \n",
       "7  ../public-covid-data/rp_msk/8.nii.gz  \n",
       "8  ../public-covid-data/rp_msk/9.nii.gz  "
      ]
     },
     "execution_count": 13,
     "metadata": {},
     "output_type": "execute_result"
    }
   ],
   "source": [
    "df = rp_im_df.merge(rp_msk_df, on='FileName', suffixes=('Image', 'Mask'))\n",
    "df"
   ]
  },
  {
   "cell_type": "markdown",
   "metadata": {},
   "source": [
    "#### 上記のように書き連ねて行くと Note book がカオス状態になるので関数を作成して　script file　に記述する\n",
    "- 似たような code がある場合には、１つの関数にしてしまって　parameter をスイッチする事によって出力を変える\n",
    "    - **メンテナンスもし易い、　code がスッキリして、　読解しやすい　code　になる**"
   ]
  },
  {
   "cell_type": "code",
   "execution_count": 14,
   "metadata": {},
   "outputs": [
    {
     "data": {
      "text/plain": [
       "['../public-covid-data/rp_im/1.nii.gz',\n",
       " '../public-covid-data/rp_im/2.nii.gz',\n",
       " '../public-covid-data/rp_im/3.nii.gz',\n",
       " '../public-covid-data/rp_im/4.nii.gz',\n",
       " '../public-covid-data/rp_im/5.nii.gz',\n",
       " '../public-covid-data/rp_im/6.nii.gz',\n",
       " '../public-covid-data/rp_im/7.nii.gz',\n",
       " '../public-covid-data/rp_im/8.nii.gz',\n",
       " '../public-covid-data/rp_im/9.nii.gz']"
      ]
     },
     "execution_count": 14,
     "metadata": {},
     "output_type": "execute_result"
    }
   ],
   "source": [
    "glob('../public-covid-data/rp_im/*')"
   ]
  },
  {
   "cell_type": "code",
   "execution_count": 15,
   "metadata": {},
   "outputs": [],
   "source": [
    "# 関数作成\n",
    "def get_df(folder='ra_im'):\n",
    "    data_dict = pd.DataFrame({'FilePath': glob('../public-covid-data/{}/*'.format(folder)),\n",
    "                            'FileName': [p.split('/')[-1] for p in glob('../public-covid-data/{}/*'.format(folder))]})\n",
    "    return data_dict"
   ]
  },
  {
   "cell_type": "code",
   "execution_count": 16,
   "metadata": {},
   "outputs": [],
   "source": [
    "def get_df_all():\n",
    "    rp_im_df = get_df('rp_im')\n",
    "    rp_msk_df = get_df('rp_msk')\n",
    "    return rp_im_df.merge(rp_msk_df, on='FileName', suffixes=('Image', 'Mask'))"
   ]
  },
  {
   "cell_type": "code",
   "execution_count": 17,
   "metadata": {},
   "outputs": [
    {
     "data": {
      "text/html": [
       "<div>\n",
       "<style scoped>\n",
       "    .dataframe tbody tr th:only-of-type {\n",
       "        vertical-align: middle;\n",
       "    }\n",
       "\n",
       "    .dataframe tbody tr th {\n",
       "        vertical-align: top;\n",
       "    }\n",
       "\n",
       "    .dataframe thead th {\n",
       "        text-align: right;\n",
       "    }\n",
       "</style>\n",
       "<table border=\"1\" class=\"dataframe\">\n",
       "  <thead>\n",
       "    <tr style=\"text-align: right;\">\n",
       "      <th></th>\n",
       "      <th>FilePathImage</th>\n",
       "      <th>FileName</th>\n",
       "      <th>FilePathMask</th>\n",
       "    </tr>\n",
       "  </thead>\n",
       "  <tbody>\n",
       "    <tr>\n",
       "      <th>0</th>\n",
       "      <td>../public-covid-data/rp_im/1.nii.gz</td>\n",
       "      <td>1.nii.gz</td>\n",
       "      <td>../public-covid-data/rp_msk/1.nii.gz</td>\n",
       "    </tr>\n",
       "    <tr>\n",
       "      <th>1</th>\n",
       "      <td>../public-covid-data/rp_im/2.nii.gz</td>\n",
       "      <td>2.nii.gz</td>\n",
       "      <td>../public-covid-data/rp_msk/2.nii.gz</td>\n",
       "    </tr>\n",
       "    <tr>\n",
       "      <th>2</th>\n",
       "      <td>../public-covid-data/rp_im/3.nii.gz</td>\n",
       "      <td>3.nii.gz</td>\n",
       "      <td>../public-covid-data/rp_msk/3.nii.gz</td>\n",
       "    </tr>\n",
       "    <tr>\n",
       "      <th>3</th>\n",
       "      <td>../public-covid-data/rp_im/4.nii.gz</td>\n",
       "      <td>4.nii.gz</td>\n",
       "      <td>../public-covid-data/rp_msk/4.nii.gz</td>\n",
       "    </tr>\n",
       "    <tr>\n",
       "      <th>4</th>\n",
       "      <td>../public-covid-data/rp_im/5.nii.gz</td>\n",
       "      <td>5.nii.gz</td>\n",
       "      <td>../public-covid-data/rp_msk/5.nii.gz</td>\n",
       "    </tr>\n",
       "    <tr>\n",
       "      <th>5</th>\n",
       "      <td>../public-covid-data/rp_im/6.nii.gz</td>\n",
       "      <td>6.nii.gz</td>\n",
       "      <td>../public-covid-data/rp_msk/6.nii.gz</td>\n",
       "    </tr>\n",
       "    <tr>\n",
       "      <th>6</th>\n",
       "      <td>../public-covid-data/rp_im/7.nii.gz</td>\n",
       "      <td>7.nii.gz</td>\n",
       "      <td>../public-covid-data/rp_msk/7.nii.gz</td>\n",
       "    </tr>\n",
       "    <tr>\n",
       "      <th>7</th>\n",
       "      <td>../public-covid-data/rp_im/8.nii.gz</td>\n",
       "      <td>8.nii.gz</td>\n",
       "      <td>../public-covid-data/rp_msk/8.nii.gz</td>\n",
       "    </tr>\n",
       "    <tr>\n",
       "      <th>8</th>\n",
       "      <td>../public-covid-data/rp_im/9.nii.gz</td>\n",
       "      <td>9.nii.gz</td>\n",
       "      <td>../public-covid-data/rp_msk/9.nii.gz</td>\n",
       "    </tr>\n",
       "  </tbody>\n",
       "</table>\n",
       "</div>"
      ],
      "text/plain": [
       "                         FilePathImage  FileName  \\\n",
       "0  ../public-covid-data/rp_im/1.nii.gz  1.nii.gz   \n",
       "1  ../public-covid-data/rp_im/2.nii.gz  2.nii.gz   \n",
       "2  ../public-covid-data/rp_im/3.nii.gz  3.nii.gz   \n",
       "3  ../public-covid-data/rp_im/4.nii.gz  4.nii.gz   \n",
       "4  ../public-covid-data/rp_im/5.nii.gz  5.nii.gz   \n",
       "5  ../public-covid-data/rp_im/6.nii.gz  6.nii.gz   \n",
       "6  ../public-covid-data/rp_im/7.nii.gz  7.nii.gz   \n",
       "7  ../public-covid-data/rp_im/8.nii.gz  8.nii.gz   \n",
       "8  ../public-covid-data/rp_im/9.nii.gz  9.nii.gz   \n",
       "\n",
       "                           FilePathMask  \n",
       "0  ../public-covid-data/rp_msk/1.nii.gz  \n",
       "1  ../public-covid-data/rp_msk/2.nii.gz  \n",
       "2  ../public-covid-data/rp_msk/3.nii.gz  \n",
       "3  ../public-covid-data/rp_msk/4.nii.gz  \n",
       "4  ../public-covid-data/rp_msk/5.nii.gz  \n",
       "5  ../public-covid-data/rp_msk/6.nii.gz  \n",
       "6  ../public-covid-data/rp_msk/7.nii.gz  \n",
       "7  ../public-covid-data/rp_msk/8.nii.gz  \n",
       "8  ../public-covid-data/rp_msk/9.nii.gz  "
      ]
     },
     "execution_count": 17,
     "metadata": {},
     "output_type": "execute_result"
    }
   ],
   "source": [
    "df = get_df_all()\n",
    "df"
   ]
  },
  {
   "cell_type": "markdown",
   "metadata": {},
   "source": [
    "#### 上記の関数を　script file にまとめる事により\n",
    "- *team で同じ関数を共有できるし、同じ関数を作らなくてもいい*\n",
    "- *効率的で汎用性が高い開発ができる*"
   ]
  },
  {
   "cell_type": "markdown",
   "metadata": {},
   "source": [
    "## 上記の code をもっと汎用性があって誰でも使用できるようにする\n",
    "- *path　の　hard coding を修正*\n",
    "    - **parameter ( 引数 )　にして user によって変更できるようにする**"
   ]
  },
  {
   "cell_type": "code",
   "execution_count": 18,
   "metadata": {},
   "outputs": [],
   "source": [
    "# 関数作成\n",
    "def get_df(base_path='public-covid-data', folder='ra_im'):\n",
    "    data_dict = pd.DataFrame({'FilePath': glob('{}/{}/*'.format(base_path, folder)),\n",
    "                            'FileName': [p.split('/')[-1] for p in glob('{}/{}/*'.format(base_path, folder))]})\n",
    "    return data_dict\n",
    "\n",
    "\n",
    "def get_df_all(base_path='public-covid-data'):\n",
    "    rp_im_df = get_df(base_path, folder='rp_im')\n",
    "    rp_msk_df = get_df(base_path, folder='rp_msk')\n",
    "    return rp_im_df.merge(rp_msk_df, on='FileName', suffixes=('Image', 'Mask'))"
   ]
  },
  {
   "cell_type": "code",
   "execution_count": 19,
   "metadata": {},
   "outputs": [
    {
     "data": {
      "text/html": [
       "<div>\n",
       "<style scoped>\n",
       "    .dataframe tbody tr th:only-of-type {\n",
       "        vertical-align: middle;\n",
       "    }\n",
       "\n",
       "    .dataframe tbody tr th {\n",
       "        vertical-align: top;\n",
       "    }\n",
       "\n",
       "    .dataframe thead th {\n",
       "        text-align: right;\n",
       "    }\n",
       "</style>\n",
       "<table border=\"1\" class=\"dataframe\">\n",
       "  <thead>\n",
       "    <tr style=\"text-align: right;\">\n",
       "      <th></th>\n",
       "      <th>FilePathImage</th>\n",
       "      <th>FileName</th>\n",
       "      <th>FilePathMask</th>\n",
       "    </tr>\n",
       "  </thead>\n",
       "  <tbody>\n",
       "    <tr>\n",
       "      <th>0</th>\n",
       "      <td>../public-covid-data/rp_im/1.nii.gz</td>\n",
       "      <td>1.nii.gz</td>\n",
       "      <td>../public-covid-data/rp_msk/1.nii.gz</td>\n",
       "    </tr>\n",
       "    <tr>\n",
       "      <th>1</th>\n",
       "      <td>../public-covid-data/rp_im/2.nii.gz</td>\n",
       "      <td>2.nii.gz</td>\n",
       "      <td>../public-covid-data/rp_msk/2.nii.gz</td>\n",
       "    </tr>\n",
       "    <tr>\n",
       "      <th>2</th>\n",
       "      <td>../public-covid-data/rp_im/3.nii.gz</td>\n",
       "      <td>3.nii.gz</td>\n",
       "      <td>../public-covid-data/rp_msk/3.nii.gz</td>\n",
       "    </tr>\n",
       "    <tr>\n",
       "      <th>3</th>\n",
       "      <td>../public-covid-data/rp_im/4.nii.gz</td>\n",
       "      <td>4.nii.gz</td>\n",
       "      <td>../public-covid-data/rp_msk/4.nii.gz</td>\n",
       "    </tr>\n",
       "    <tr>\n",
       "      <th>4</th>\n",
       "      <td>../public-covid-data/rp_im/5.nii.gz</td>\n",
       "      <td>5.nii.gz</td>\n",
       "      <td>../public-covid-data/rp_msk/5.nii.gz</td>\n",
       "    </tr>\n",
       "    <tr>\n",
       "      <th>5</th>\n",
       "      <td>../public-covid-data/rp_im/6.nii.gz</td>\n",
       "      <td>6.nii.gz</td>\n",
       "      <td>../public-covid-data/rp_msk/6.nii.gz</td>\n",
       "    </tr>\n",
       "    <tr>\n",
       "      <th>6</th>\n",
       "      <td>../public-covid-data/rp_im/7.nii.gz</td>\n",
       "      <td>7.nii.gz</td>\n",
       "      <td>../public-covid-data/rp_msk/7.nii.gz</td>\n",
       "    </tr>\n",
       "    <tr>\n",
       "      <th>7</th>\n",
       "      <td>../public-covid-data/rp_im/8.nii.gz</td>\n",
       "      <td>8.nii.gz</td>\n",
       "      <td>../public-covid-data/rp_msk/8.nii.gz</td>\n",
       "    </tr>\n",
       "    <tr>\n",
       "      <th>8</th>\n",
       "      <td>../public-covid-data/rp_im/9.nii.gz</td>\n",
       "      <td>9.nii.gz</td>\n",
       "      <td>../public-covid-data/rp_msk/9.nii.gz</td>\n",
       "    </tr>\n",
       "  </tbody>\n",
       "</table>\n",
       "</div>"
      ],
      "text/plain": [
       "                         FilePathImage  FileName  \\\n",
       "0  ../public-covid-data/rp_im/1.nii.gz  1.nii.gz   \n",
       "1  ../public-covid-data/rp_im/2.nii.gz  2.nii.gz   \n",
       "2  ../public-covid-data/rp_im/3.nii.gz  3.nii.gz   \n",
       "3  ../public-covid-data/rp_im/4.nii.gz  4.nii.gz   \n",
       "4  ../public-covid-data/rp_im/5.nii.gz  5.nii.gz   \n",
       "5  ../public-covid-data/rp_im/6.nii.gz  6.nii.gz   \n",
       "6  ../public-covid-data/rp_im/7.nii.gz  7.nii.gz   \n",
       "7  ../public-covid-data/rp_im/8.nii.gz  8.nii.gz   \n",
       "8  ../public-covid-data/rp_im/9.nii.gz  9.nii.gz   \n",
       "\n",
       "                           FilePathMask  \n",
       "0  ../public-covid-data/rp_msk/1.nii.gz  \n",
       "1  ../public-covid-data/rp_msk/2.nii.gz  \n",
       "2  ../public-covid-data/rp_msk/3.nii.gz  \n",
       "3  ../public-covid-data/rp_msk/4.nii.gz  \n",
       "4  ../public-covid-data/rp_msk/5.nii.gz  \n",
       "5  ../public-covid-data/rp_msk/6.nii.gz  \n",
       "6  ../public-covid-data/rp_msk/7.nii.gz  \n",
       "7  ../public-covid-data/rp_msk/8.nii.gz  \n",
       "8  ../public-covid-data/rp_msk/9.nii.gz  "
      ]
     },
     "execution_count": 19,
     "metadata": {},
     "output_type": "execute_result"
    }
   ],
   "source": [
    "get_df_all('../public-covid-data') #　自分のpathを指定して使用する事ができる"
   ]
  },
  {
   "cell_type": "code",
   "execution_count": 20,
   "metadata": {},
   "outputs": [],
   "source": [
    "import ctvis"
   ]
  },
  {
   "cell_type": "code",
   "execution_count": 21,
   "metadata": {},
   "outputs": [
    {
     "data": {
      "text/html": [
       "<div>\n",
       "<style scoped>\n",
       "    .dataframe tbody tr th:only-of-type {\n",
       "        vertical-align: middle;\n",
       "    }\n",
       "\n",
       "    .dataframe tbody tr th {\n",
       "        vertical-align: top;\n",
       "    }\n",
       "\n",
       "    .dataframe thead th {\n",
       "        text-align: right;\n",
       "    }\n",
       "</style>\n",
       "<table border=\"1\" class=\"dataframe\">\n",
       "  <thead>\n",
       "    <tr style=\"text-align: right;\">\n",
       "      <th></th>\n",
       "      <th>FilePathImage</th>\n",
       "      <th>FileName</th>\n",
       "      <th>FilePathMask</th>\n",
       "    </tr>\n",
       "  </thead>\n",
       "  <tbody>\n",
       "    <tr>\n",
       "      <th>0</th>\n",
       "      <td>../public-covid-data/rp_im/1.nii.gz</td>\n",
       "      <td>1.nii.gz</td>\n",
       "      <td>../public-covid-data/rp_msk/1.nii.gz</td>\n",
       "    </tr>\n",
       "    <tr>\n",
       "      <th>1</th>\n",
       "      <td>../public-covid-data/rp_im/2.nii.gz</td>\n",
       "      <td>2.nii.gz</td>\n",
       "      <td>../public-covid-data/rp_msk/2.nii.gz</td>\n",
       "    </tr>\n",
       "    <tr>\n",
       "      <th>2</th>\n",
       "      <td>../public-covid-data/rp_im/3.nii.gz</td>\n",
       "      <td>3.nii.gz</td>\n",
       "      <td>../public-covid-data/rp_msk/3.nii.gz</td>\n",
       "    </tr>\n",
       "    <tr>\n",
       "      <th>3</th>\n",
       "      <td>../public-covid-data/rp_im/4.nii.gz</td>\n",
       "      <td>4.nii.gz</td>\n",
       "      <td>../public-covid-data/rp_msk/4.nii.gz</td>\n",
       "    </tr>\n",
       "    <tr>\n",
       "      <th>4</th>\n",
       "      <td>../public-covid-data/rp_im/5.nii.gz</td>\n",
       "      <td>5.nii.gz</td>\n",
       "      <td>../public-covid-data/rp_msk/5.nii.gz</td>\n",
       "    </tr>\n",
       "    <tr>\n",
       "      <th>5</th>\n",
       "      <td>../public-covid-data/rp_im/6.nii.gz</td>\n",
       "      <td>6.nii.gz</td>\n",
       "      <td>../public-covid-data/rp_msk/6.nii.gz</td>\n",
       "    </tr>\n",
       "    <tr>\n",
       "      <th>6</th>\n",
       "      <td>../public-covid-data/rp_im/7.nii.gz</td>\n",
       "      <td>7.nii.gz</td>\n",
       "      <td>../public-covid-data/rp_msk/7.nii.gz</td>\n",
       "    </tr>\n",
       "    <tr>\n",
       "      <th>7</th>\n",
       "      <td>../public-covid-data/rp_im/8.nii.gz</td>\n",
       "      <td>8.nii.gz</td>\n",
       "      <td>../public-covid-data/rp_msk/8.nii.gz</td>\n",
       "    </tr>\n",
       "    <tr>\n",
       "      <th>8</th>\n",
       "      <td>../public-covid-data/rp_im/9.nii.gz</td>\n",
       "      <td>9.nii.gz</td>\n",
       "      <td>../public-covid-data/rp_msk/9.nii.gz</td>\n",
       "    </tr>\n",
       "  </tbody>\n",
       "</table>\n",
       "</div>"
      ],
      "text/plain": [
       "                         FilePathImage  FileName  \\\n",
       "0  ../public-covid-data/rp_im/1.nii.gz  1.nii.gz   \n",
       "1  ../public-covid-data/rp_im/2.nii.gz  2.nii.gz   \n",
       "2  ../public-covid-data/rp_im/3.nii.gz  3.nii.gz   \n",
       "3  ../public-covid-data/rp_im/4.nii.gz  4.nii.gz   \n",
       "4  ../public-covid-data/rp_im/5.nii.gz  5.nii.gz   \n",
       "5  ../public-covid-data/rp_im/6.nii.gz  6.nii.gz   \n",
       "6  ../public-covid-data/rp_im/7.nii.gz  7.nii.gz   \n",
       "7  ../public-covid-data/rp_im/8.nii.gz  8.nii.gz   \n",
       "8  ../public-covid-data/rp_im/9.nii.gz  9.nii.gz   \n",
       "\n",
       "                           FilePathMask  \n",
       "0  ../public-covid-data/rp_msk/1.nii.gz  \n",
       "1  ../public-covid-data/rp_msk/2.nii.gz  \n",
       "2  ../public-covid-data/rp_msk/3.nii.gz  \n",
       "3  ../public-covid-data/rp_msk/4.nii.gz  \n",
       "4  ../public-covid-data/rp_msk/5.nii.gz  \n",
       "5  ../public-covid-data/rp_msk/6.nii.gz  \n",
       "6  ../public-covid-data/rp_msk/7.nii.gz  \n",
       "7  ../public-covid-data/rp_msk/8.nii.gz  \n",
       "8  ../public-covid-data/rp_msk/9.nii.gz  "
      ]
     },
     "execution_count": 21,
     "metadata": {},
     "output_type": "execute_result"
    }
   ],
   "source": [
    "ctvis.get_df_all('../public-covid-data')"
   ]
  },
  {
   "cell_type": "markdown",
   "metadata": {},
   "source": [
    "#### **private function**\n",
    "- *get_df のように script内でしか呼ばれない関数*\n",
    "    - 接頭辞に _ (アンダースコア)をつける\n",
    "    - **この　script　内でしか呼ばれませんと明示的に伝える**\n",
    "\n",
    "\n",
    "- <u>呼ぼうとすれば呼べるが...</u>\n",
    "    - *外から呼ばれるよな事は想定していない関数ですよ！という意思表示*\n",
    "    - *pythonの処理的には関係が無いので注意する*\n",
    "\n",
    "\n",
    "#### **from　ctvis　import　*　( アスタリスク )** での　import\n",
    "- *( * : アスタリスク )で import した時には _ (アンダースコア)の関数は呼び出せない*"
   ]
  },
  {
   "cell_type": "code",
   "execution_count": null,
   "metadata": {},
   "outputs": [],
   "source": []
  }
 ],
 "metadata": {
  "kernelspec": {
   "display_name": "Python 3",
   "language": "python",
   "name": "python3"
  },
  "language_info": {
   "codemirror_mode": {
    "name": "ipython",
    "version": 3
   },
   "file_extension": ".py",
   "mimetype": "text/x-python",
   "name": "python",
   "nbconvert_exporter": "python",
   "pygments_lexer": "ipython3",
   "version": "3.7.6"
  }
 },
 "nbformat": 4,
 "nbformat_minor": 4
}
