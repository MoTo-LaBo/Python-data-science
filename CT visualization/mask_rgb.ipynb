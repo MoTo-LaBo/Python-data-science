{
 "cells": [
  {
   "cell_type": "markdown",
   "metadata": {},
   "source": [
    "# Mask data ->　RGB"
   ]
  },
  {
   "cell_type": "code",
   "execution_count": 1,
   "metadata": {},
   "outputs": [],
   "source": [
    "%load_ext autoreload\n",
    "%autoreload 2\n",
    "import numpy as np\n",
    "import pandas as pd\n",
    "import matplotlib.pyplot as plt\n",
    "%matplotlib inline\n",
    "import seaborn as sns\n",
    "import os\n",
    "import time\n",
    "import nibabel as nib\n",
    "import ctvis\n",
    "from glob import glob\n",
    "from pathlib import Path\n",
    "from tqdm import tqdm\n",
    "from multiprocessing import Pool, cpu_count"
   ]
  },
  {
   "cell_type": "code",
   "execution_count": 2,
   "metadata": {},
   "outputs": [
    {
     "data": {
      "text/html": [
       "<div>\n",
       "<style scoped>\n",
       "    .dataframe tbody tr th:only-of-type {\n",
       "        vertical-align: middle;\n",
       "    }\n",
       "\n",
       "    .dataframe tbody tr th {\n",
       "        vertical-align: top;\n",
       "    }\n",
       "\n",
       "    .dataframe thead th {\n",
       "        text-align: right;\n",
       "    }\n",
       "</style>\n",
       "<table border=\"1\" class=\"dataframe\">\n",
       "  <thead>\n",
       "    <tr style=\"text-align: right;\">\n",
       "      <th></th>\n",
       "      <th>FilePathImage</th>\n",
       "      <th>FileName</th>\n",
       "      <th>FilePathMask</th>\n",
       "    </tr>\n",
       "  </thead>\n",
       "  <tbody>\n",
       "    <tr>\n",
       "      <th>0</th>\n",
       "      <td>../public-covid-data/rp_im/1.nii.gz</td>\n",
       "      <td>1.nii.gz</td>\n",
       "      <td>../public-covid-data/rp_msk/1.nii.gz</td>\n",
       "    </tr>\n",
       "    <tr>\n",
       "      <th>1</th>\n",
       "      <td>../public-covid-data/rp_im/2.nii.gz</td>\n",
       "      <td>2.nii.gz</td>\n",
       "      <td>../public-covid-data/rp_msk/2.nii.gz</td>\n",
       "    </tr>\n",
       "    <tr>\n",
       "      <th>2</th>\n",
       "      <td>../public-covid-data/rp_im/3.nii.gz</td>\n",
       "      <td>3.nii.gz</td>\n",
       "      <td>../public-covid-data/rp_msk/3.nii.gz</td>\n",
       "    </tr>\n",
       "    <tr>\n",
       "      <th>3</th>\n",
       "      <td>../public-covid-data/rp_im/4.nii.gz</td>\n",
       "      <td>4.nii.gz</td>\n",
       "      <td>../public-covid-data/rp_msk/4.nii.gz</td>\n",
       "    </tr>\n",
       "    <tr>\n",
       "      <th>4</th>\n",
       "      <td>../public-covid-data/rp_im/5.nii.gz</td>\n",
       "      <td>5.nii.gz</td>\n",
       "      <td>../public-covid-data/rp_msk/5.nii.gz</td>\n",
       "    </tr>\n",
       "    <tr>\n",
       "      <th>5</th>\n",
       "      <td>../public-covid-data/rp_im/6.nii.gz</td>\n",
       "      <td>6.nii.gz</td>\n",
       "      <td>../public-covid-data/rp_msk/6.nii.gz</td>\n",
       "    </tr>\n",
       "    <tr>\n",
       "      <th>6</th>\n",
       "      <td>../public-covid-data/rp_im/7.nii.gz</td>\n",
       "      <td>7.nii.gz</td>\n",
       "      <td>../public-covid-data/rp_msk/7.nii.gz</td>\n",
       "    </tr>\n",
       "    <tr>\n",
       "      <th>7</th>\n",
       "      <td>../public-covid-data/rp_im/8.nii.gz</td>\n",
       "      <td>8.nii.gz</td>\n",
       "      <td>../public-covid-data/rp_msk/8.nii.gz</td>\n",
       "    </tr>\n",
       "    <tr>\n",
       "      <th>8</th>\n",
       "      <td>../public-covid-data/rp_im/9.nii.gz</td>\n",
       "      <td>9.nii.gz</td>\n",
       "      <td>../public-covid-data/rp_msk/9.nii.gz</td>\n",
       "    </tr>\n",
       "  </tbody>\n",
       "</table>\n",
       "</div>"
      ],
      "text/plain": [
       "                         FilePathImage  FileName  \\\n",
       "0  ../public-covid-data/rp_im/1.nii.gz  1.nii.gz   \n",
       "1  ../public-covid-data/rp_im/2.nii.gz  2.nii.gz   \n",
       "2  ../public-covid-data/rp_im/3.nii.gz  3.nii.gz   \n",
       "3  ../public-covid-data/rp_im/4.nii.gz  4.nii.gz   \n",
       "4  ../public-covid-data/rp_im/5.nii.gz  5.nii.gz   \n",
       "5  ../public-covid-data/rp_im/6.nii.gz  6.nii.gz   \n",
       "6  ../public-covid-data/rp_im/7.nii.gz  7.nii.gz   \n",
       "7  ../public-covid-data/rp_im/8.nii.gz  8.nii.gz   \n",
       "8  ../public-covid-data/rp_im/9.nii.gz  9.nii.gz   \n",
       "\n",
       "                           FilePathMask  \n",
       "0  ../public-covid-data/rp_msk/1.nii.gz  \n",
       "1  ../public-covid-data/rp_msk/2.nii.gz  \n",
       "2  ../public-covid-data/rp_msk/3.nii.gz  \n",
       "3  ../public-covid-data/rp_msk/4.nii.gz  \n",
       "4  ../public-covid-data/rp_msk/5.nii.gz  \n",
       "5  ../public-covid-data/rp_msk/6.nii.gz  \n",
       "6  ../public-covid-data/rp_msk/7.nii.gz  \n",
       "7  ../public-covid-data/rp_msk/8.nii.gz  \n",
       "8  ../public-covid-data/rp_msk/9.nii.gz  "
      ]
     },
     "execution_count": 2,
     "metadata": {},
     "output_type": "execute_result"
    }
   ],
   "source": [
    "ctvis.get_df_all('../public-covid-data')"
   ]
  },
  {
   "cell_type": "markdown",
   "metadata": {},
   "source": [
    "#### **private function**\n",
    "- *get_df のように script内でしか呼ばれない関数*\n",
    "    - 接頭辞に _ (アンダースコア)をつける\n",
    "    - **この　script　内でしか呼ばれませんと明示的に伝える**\n",
    "\n",
    "\n",
    "- <u>呼ぼうとすれば呼べるが...</u>\n",
    "    - *外から呼ばれるよな事は想定していない関数ですよ！という意思表示*\n",
    "    - *pythonの処理的には関係が無いので注意する*\n",
    "\n",
    "\n",
    "#### **from　ctvis　import　*　( アスタリスク )** での　import\n",
    "- *( * : アスタリスク )で import した時には _ (アンダースコア)の関数は呼び出せない*"
   ]
  },
  {
   "cell_type": "code",
   "execution_count": 4,
   "metadata": {},
   "outputs": [
    {
     "data": {
      "text/plain": [
       "(630, 630, 45)"
      ]
     },
     "execution_count": 4,
     "metadata": {},
     "output_type": "execute_result"
    }
   ],
   "source": [
    "df = ctvis.get_df_all('../public-covid-data')\n",
    "\n",
    "p = df['FilePathMask'].iloc[0]\n",
    "seg_data = ctvis.load_nifti(p)\n",
    "seg_data.shape"
   ]
  },
  {
   "cell_type": "code",
   "execution_count": 5,
   "metadata": {},
   "outputs": [
    {
     "data": {
      "text/plain": [
       "<matplotlib.image.AxesImage at 0x7f25ae4da690>"
      ]
     },
     "execution_count": 5,
     "metadata": {},
     "output_type": "execute_result"
    },
    {
     "data": {
      "image/png": "[encoded data removed]",
      "text/plain": [
       "<Figure size 432x288 with 1 Axes>"
      ]
     },
     "metadata": {
      "needs_background": "light"
     },
     "output_type": "display_data"
    }
   ],
   "source": [
    "plt.imshow(seg_data[:, :, 30], cmap='gray')"
   ]
  },
  {
   "cell_type": "code",
   "execution_count": 6,
   "metadata": {},
   "outputs": [
    {
     "data": {
      "text/plain": [
       "array([0., 1., 2.])"
      ]
     },
     "execution_count": 6,
     "metadata": {},
     "output_type": "execute_result"
    }
   ],
   "source": [
    "np.unique(seg_data[:, :, 30])"
   ]
  },
  {
   "cell_type": "markdown",
   "metadata": {},
   "source": [
    "- *mask data に応じて RGB のチャネルをつけて表示させる*\n",
    "    - **0　:　background　[ 0, 0, 0 ]**\n",
    "    - **1　:　Red　[ 255, 0, 0 ]**\n",
    "    - **2　:　Green　[ 0, 255, 0 ]**\n",
    "    - **3　:　Blue　[ 0, 0, 255 ]**\n",
    "\n",
    "\n",
    "- <u>Mask data に応じた RGB の data を作成することができる</u>\n",
    "    - ラベル別に色付けをする　(RGB)"
   ]
  },
  {
   "cell_type": "code",
   "execution_count": 7,
   "metadata": {},
   "outputs": [
    {
     "data": {
      "text/plain": [
       "(630, 630, 45, 3)"
      ]
     },
     "execution_count": 7,
     "metadata": {},
     "output_type": "execute_result"
    }
   ],
   "source": [
    "shp = seg_data.shape\n",
    "seg_color = np.zeros((shp[0], shp[1], shp[2], 3))\n",
    "seg_color.shape"
   ]
  },
  {
   "cell_type": "code",
   "execution_count": 8,
   "metadata": {},
   "outputs": [
    {
     "data": {
      "text/plain": [
       "array([[0., 0.],\n",
       "       [0., 0.]])"
      ]
     },
     "execution_count": 8,
     "metadata": {},
     "output_type": "execute_result"
    }
   ],
   "source": [
    "zeros = np.zeros((2, 2))\n",
    "zeros"
   ]
  },
  {
   "cell_type": "code",
   "execution_count": 9,
   "metadata": {},
   "outputs": [
    {
     "data": {
      "text/plain": [
       "array([[ True, False],\n",
       "       [ True, False]])"
      ]
     },
     "execution_count": 9,
     "metadata": {},
     "output_type": "execute_result"
    }
   ],
   "source": [
    "filter_array = np.array([[True, False], [True, False]])\n",
    "filter_array"
   ]
  },
  {
   "cell_type": "code",
   "execution_count": 10,
   "metadata": {},
   "outputs": [
    {
     "data": {
      "text/plain": [
       "array([[1., 0.],\n",
       "       [1., 0.]])"
      ]
     },
     "execution_count": 10,
     "metadata": {},
     "output_type": "execute_result"
    }
   ],
   "source": [
    "zeros[filter_array] = 1\n",
    "zeros"
   ]
  },
  {
   "cell_type": "code",
   "execution_count": 11,
   "metadata": {},
   "outputs": [
    {
     "name": "stderr",
     "output_type": "stream",
     "text": [
      "Clipping input data to the valid range for imshow with RGB data ([0..1] for floats or [0..255] for integers).\n"
     ]
    },
    {
     "data": {
      "text/plain": [
       "<matplotlib.image.AxesImage at 0x7f25ae477f50>"
      ]
     },
     "execution_count": 11,
     "metadata": {},
     "output_type": "execute_result"
    },
    {
     "data": {
      "image/png": "[encoded data removed]",
      "text/plain": [
       "<Figure size 432x288 with 1 Axes>"
      ]
     },
     "metadata": {
      "needs_background": "light"
     },
     "output_type": "display_data"
    }
   ],
   "source": [
    "# filter_array = np.where(seg_data==1, True, False)\n",
    "# filter_array = np.equal(seg_data, 1)\n",
    "# seg_color[filter_array] = [255, 0, 0]\n",
    "ggo_color = [255, 0 , 0]\n",
    "consolidation_color = [0, 255 , 0]\n",
    "effusion_color = [0, 0 , 255]\n",
    "seg_color[np.equal(seg_data, 1)] = ggo_color\n",
    "seg_color[np.equal(seg_data, 2)] = consolidation_color\n",
    "seg_color[np.equal(seg_data, 3)] = effusion_color\n",
    "plt.imshow(seg_color[:, :, 30])"
   ]
  },
  {
   "cell_type": "code",
   "execution_count": 12,
   "metadata": {},
   "outputs": [
    {
     "name": "stderr",
     "output_type": "stream",
     "text": [
      "Clipping input data to the valid range for imshow with RGB data ([0..1] for floats or [0..255] for integers).\n"
     ]
    },
    {
     "data": {
      "text/plain": [
       "<matplotlib.image.AxesImage at 0x7f25ae3eec90>"
      ]
     },
     "execution_count": 12,
     "metadata": {},
     "output_type": "execute_result"
    },
    {
     "data": {
      "image/png": "[encoded data removed]",
      "text/plain": [
       "<Figure size 432x288 with 1 Axes>"
      ]
     },
     "metadata": {
      "needs_background": "light"
     },
     "output_type": "display_data"
    }
   ],
   "source": [
    "p = df['FilePathMask'].iloc[0]\n",
    "seg_data = ctvis.load_nifti(p)\n",
    "shp = seg_data.shape\n",
    "\n",
    "# 箱を作成　：　全て０の値にする : np./uint8 でもOK, 64bitだとメモリを消費してしまう為 32bitにしている\n",
    "seg_color = np.zeros((shp[0], shp[1], shp[2], 3), dtype=np.float32)\n",
    "\n",
    "# カラーラベル定義\n",
    "ggo_color = [255, 0 , 0]\n",
    "consolidation_color = [0, 255 , 0]\n",
    "effusion_color = [0, 0 , 255]\n",
    "\n",
    "# 色づけ\n",
    "seg_color[np.equal(seg_data, 1)] = ggo_color\n",
    "seg_color[np.equal(seg_data, 2)] = consolidation_color\n",
    "seg_color[np.equal(seg_data, 3)] = effusion_color\n",
    "\n",
    "# plot : 30枚目\n",
    "plt.imshow(seg_color[:, :, 30])"
   ]
  },
  {
   "cell_type": "markdown",
   "metadata": {},
   "source": [
    "## 上記を関数にする"
   ]
  },
  {
   "cell_type": "code",
   "execution_count": 13,
   "metadata": {},
   "outputs": [],
   "source": [
    "def label_color(mask_volume,\n",
    "               ggo_coloror = [255, 0 , 0],\n",
    "               consolidation_color = [0, 255 , 0],\n",
    "               effusion_color = [0, 0 , 255]):\n",
    "    shp = mask_volume.shape\n",
    "    # 箱作成\n",
    "    mask_color = np.zeros((shp[0], shp[1], shp[2], 3), dtype=np.float32)\n",
    "    # 色付け\n",
    "    mask_color[np.equal(mask_volume, 1)] = ggo_color\n",
    "    mask_color[np.equal(mask_volume, 2)] = consolidation_color\n",
    "    mask_color[np.equal(mask_volume, 3)] = effusion_color\n",
    "\n",
    "    return mask_color"
   ]
  },
  {
   "cell_type": "code",
   "execution_count": 14,
   "metadata": {},
   "outputs": [
    {
     "data": {
      "text/plain": [
       "(630, 630, 45, 3)"
      ]
     },
     "execution_count": 14,
     "metadata": {},
     "output_type": "execute_result"
    }
   ],
   "source": [
    "mask_color = label_color(seg_data)\n",
    "mask_color.shape"
   ]
  },
  {
   "cell_type": "code",
   "execution_count": 15,
   "metadata": {},
   "outputs": [
    {
     "name": "stderr",
     "output_type": "stream",
     "text": [
      "Clipping input data to the valid range for imshow with RGB data ([0..1] for floats or [0..255] for integers).\n"
     ]
    },
    {
     "data": {
      "text/plain": [
       "<matplotlib.image.AxesImage at 0x7f25a16f5450>"
      ]
     },
     "execution_count": 15,
     "metadata": {},
     "output_type": "execute_result"
    },
    {
     "data": {
      "image/png": "[encoded data removed]",
      "text/plain": [
       "<Figure size 432x288 with 1 Axes>"
      ]
     },
     "metadata": {
      "needs_background": "light"
     },
     "output_type": "display_data"
    }
   ],
   "source": [
    "plt.imshow(mask_color[:, :, 30])"
   ]
  },
  {
   "cell_type": "markdown",
   "metadata": {},
   "source": [
    "## script からの読み込み Test"
   ]
  },
  {
   "cell_type": "code",
   "execution_count": 16,
   "metadata": {},
   "outputs": [
    {
     "name": "stderr",
     "output_type": "stream",
     "text": [
      "Clipping input data to the valid range for imshow with RGB data ([0..1] for floats or [0..255] for integers).\n"
     ]
    },
    {
     "data": {
      "text/plain": [
       "<matplotlib.image.AxesImage at 0x7f25a16dc6d0>"
      ]
     },
     "execution_count": 16,
     "metadata": {},
     "output_type": "execute_result"
    },
    {
     "data": {
      "image/png": "[encoded data removed]",
      "text/plain": [
       "<Figure size 432x288 with 1 Axes>"
      ]
     },
     "metadata": {
      "needs_background": "light"
     },
     "output_type": "display_data"
    }
   ],
   "source": [
    "p = df['FilePathMask'].iloc[0]\n",
    "seg_data = ctvis.load_nifti(p)\n",
    "mask_color = ctvis.label_color(seg_data)\n",
    "plt.imshow(mask_color[:, :, 30])"
   ]
  },
  {
   "cell_type": "code",
   "execution_count": null,
   "metadata": {},
   "outputs": [],
   "source": []
  }
 ],
 "metadata": {
  "kernelspec": {
   "display_name": "Python 3",
   "language": "python",
   "name": "python3"
  },
  "language_info": {
   "codemirror_mode": {
    "name": "ipython",
    "version": 3
   },
   "file_extension": ".py",
   "mimetype": "text/x-python",
   "name": "python",
   "nbconvert_exporter": "python",
   "pygments_lexer": "ipython3",
   "version": "3.7.6"
  }
 },
 "nbformat": 4,
 "nbformat_minor": 4
}
