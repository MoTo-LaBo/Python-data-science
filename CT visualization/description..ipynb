{
 "cells": [
  {
   "cell_type": "markdown",
   "metadata": {},
   "source": [
    "# CT　:　Computerized Tomography"
   ]
  },
  {
   "cell_type": "markdown",
   "metadata": {},
   "source": [
    "### <u>CT / MRI data を 3Dで見るなら…</u>\n",
    "- *Osirix,　itk-SNAP,　などのツールを使う*\n",
    "    - **重たい処理をする visualization　をする場合は上記のソフトを使用する**\n",
    "        - python で上記をするのは現実的では無いし、実務ではそんな事はしない\n",
    "        - そこは専用のツールに任せる\n",
    "\n",
    "\n",
    "- *Pythonは...?*\n",
    "    - **Overlay　を１つのスキャンに対して複数枚画像として表示させる**\n",
    "    - **2D　の画像を一覧表示させる事の方が多い**\n",
    "        - 各 slice　のアノテーションを一覧で表示させる\n",
    "\n",
    "\n",
    "### <u>COVID-19</u>\n",
    "- *アノテーションマスク*\n",
    "    - **青　:　ground-glass ( mask valu = 1 )**\n",
    "        - すりガラスみたいに少し白いモヤが罹った場所が病変箇所\n",
    "        - 本来空気が入っている場所だが、少し液状化が進んでいる\n",
    "    - **黄　:　consolidation ( = 2 )**\n",
    "        - もっと水に浸って白くなっている状態\n",
    "    - **緑　:　pleural effusion ( = 3 )**\n",
    "        - pleural effusion( 胸水 )\n",
    "        - 胸水　:　肺の膜と肺が入っている壁の間に水が溜まっている状態"
   ]
  },
  {
   "cell_type": "markdown",
   "metadata": {},
   "source": [
    "### <u>CT　:　Computerized Tomography</u>\n",
    "- *x線を使って体の内部を画像化*\n",
    "    - MRI はx線を使用しない\n",
    "\n",
    "\n",
    "- *３次元データ*\n",
    "    - それぞれの　２Dの画像が1枚1枚保存されている\n",
    "\n",
    "\n",
    "- *通常, 複数の　Axia(アクシャル)　画像で保存*\n",
    "    - 基本的 CT は Axia で保存されていく\n",
    "\n",
    "\n",
    "- *画像の左右は実際とは左右逆になる*\n",
    "    - 人の足側から見たようなイメージ（下が台座だとして）\n",
    "        - 画像の左側　=　体の右側\n",
    "        - 画像の右側　=　体の左側\n",
    "\n",
    "\n",
    "- *pix(ピクセル)の値 ( CT値 ) は　Hounsfield Unit ( HU ) を使用する*\n",
    "    - **HU　は　x線の透過率を表している　=　x線がどれだけ透過したか**\n",
    "    - **x線は体の部位や組織によって透過率が変わる**\n",
    "        - 骨は組織が密集しているのでx線は通さないので白く写る\n",
    "        - 逆に肺は空気で満たされているのでそのままx線を通すので黒く写る\n",
    "\n",
    "\n",
    "- *HU　は水が 0, 空気が -1000*\n",
    "    - キャリブレーションされている\n",
    "        - **なので CT値　を見たら体の何処の組織かがわかる**\n",
    "        - **血液ならこの値, 筋肉ならこの値, 骨ならこの値という風に**"
   ]
  },
  {
   "cell_type": "markdown",
   "metadata": {},
   "source": [
    "## 値の rerange をするアルゴリズム（algorithm）\n",
    "- *CT data と Mask color data が合っていないので上手く　　Overlay　できない*\n",
    "    - **Overlay　できるようにする為 CT data を　0 ~ 255 の値に変換する**\n",
    "\n",
    "\n",
    "- *例 ）　-1300 ~ 300 の値を持つ　CT data を　0 ~ 255 に変換する*\n",
    "    1. -1300 ~ 300　->　0 ~ 1\n",
    "        - X -最小値 / （最大値 - 最小値）\n",
    "        $$\\frac{(x-min)}{max-min}$$\n",
    "        - [ 2, 3, 4, 5, 6, 7 ] の場合\n",
    "        $$\\frac{7-2}{7-2}=1$$\n",
    "        $$\\frac{6-2}{7-2}=\\frac{4}{5}$$\n",
    "        $$\\frac{5-2}{7-2}=\\frac{3}{5}$$\n",
    "        $$\\frac{4-2}{7-2}=\\frac{2}{5}$$\n",
    "        $$\\frac{3-2}{7-2}=\\frac{1}{5}$$\n",
    "        $$\\frac{2-2}{7-2}=\\frac{0}{5}=0$$\n",
    "    2. 0 ~ 1　->　0 ~ 255\n",
    "        - ＊（掛ける） 255\n",
    "        $$(1)255$$\n",
    "        $$\\left(\\frac{4}{5}\\right)255$$\n",
    "        $$\\left(\\frac{3}{5}\\right)255$$\n",
    "        $$\\left(\\frac{2}{5}\\right)255$$\n",
    "        $$\\left(\\frac{1}{5}\\right)255$$\n",
    "        $$(0)255$$\n",
    "\n",
    "\n",
    "### 値は0 ~ 255 にはなったが… \n",
    "- *CT data は　RGBのチャネルになっていないので、shpaeが違う*\n",
    "    - **color 画像ではないが、重ね合わせる時に　shape が合っていた方が重ね合わせ易い**\n",
    "\n",
    "\n",
    "- <u>np.stack( )を使用して重ね合わせる</u>"
   ]
  },
  {
   "cell_type": "markdown",
   "metadata": {},
   "source": [
    "## マスに値や画像を埋め込んでいくアルゴリズム（algorithm）\n",
    "- *i　=　5行, 5列*\n",
    "    - **cols　=　5,　rows　=　5**\n",
    "$$(0, 0)　(0, 1)　(0, 2)　(0, 3)　(0, 4)->(0, i)$$\n",
    "$$(1, 0)　(1, 1)　(1, 2)　(1, 3)　(1, 4)->(i//cols, i\\%cols)$$\n",
    "$$(2, 0)　(2, 1)　(2, 2)　(2, 3)　(2, 4)->(i//cols, i\\%cols)$$\n",
    "$$(3, 0)　(3, 1)　(3, 2)　(3, 3)　(3, 4)->(i//cols, i\\%cols)$$\n",
    "$$(4, 0)　(4, 1)　(4, 2)　(4, 3)　(4, 4)->(i//cols, i\\%cols)$$\n",
    "\n",
    "\n",
    "$$(00)　(01)　(02)　(03)　(04)$$\n",
    "$$(05)　(06)　(07)　(08)　(09)$$\n",
    "$$(10)　(11)　(12)　(13)　(14)$$\n",
    "$$(15)　(16)　(17)　(18)　(19)$$\n",
    "$$(20)　(21)　(22)　(23)　(24)$$\n",
    "\n",
    "\n",
    "$$i　=　(i　//　cols,　i　\\%　cols)$$\n",
    "\n",
    "\n",
    "- (4, 0)　->　20番目\n",
    "    - **(　20　//　5　=　4,　20　%　5　=　0　)**\n",
    "        - *割り算の商と余り　=　( 商, 余り )*\n",
    "\n",
    "\n",
    "$$i　=　(i　//　cols,　i　\\%　cols)$$"
   ]
  },
  {
   "cell_type": "code",
   "execution_count": null,
   "metadata": {},
   "outputs": [],
   "source": []
  }
 ],
 "metadata": {
  "kernelspec": {
   "display_name": "Python 3",
   "language": "python",
   "name": "python3"
  },
  "language_info": {
   "codemirror_mode": {
    "name": "ipython",
    "version": 3
   },
   "file_extension": ".py",
   "mimetype": "text/x-python",
   "name": "python",
   "nbconvert_exporter": "python",
   "pygments_lexer": "ipython3",
   "version": "3.7.6"
  }
 },
 "nbformat": 4,
 "nbformat_minor": 4
}
