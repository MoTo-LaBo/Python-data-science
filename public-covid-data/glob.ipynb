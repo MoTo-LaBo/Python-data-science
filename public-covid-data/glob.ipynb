{
 "cells": [
  {
   "cell_type": "markdown",
   "metadata": {},
   "source": [
    "# glob (グロブ)\n",
    "- ワイルドカードをつかて file path名のリストを取得する\n",
    "    - よくワイルドカードは「　*　」 (アスタリスク)で記述される\n",
    "\n",
    "\n",
    "- http://medicalsegmentation.com/covid19/\n",
    "    - 上記から　ファイルを取得してくる"
   ]
  },
  {
   "cell_type": "code",
   "execution_count": 3,
   "metadata": {},
   "outputs": [],
   "source": [
    "# import glob / from を使用することで　glob の関数だけを　import できる\n",
    "from glob import glob\n",
    "\n",
    "import numpy as np\n",
    "import pandas as pd\n",
    "import matplotlib.pyplot as plt\n",
    "%matplotlib inline\n",
    "import seaborn as sns"
   ]
  },
  {
   "cell_type": "code",
   "execution_count": 4,
   "metadata": {},
   "outputs": [
    {
     "data": {
      "text/plain": [
       "['glob.ipynb', 'rp_im', 'rp_msk']"
      ]
     },
     "execution_count": 4,
     "metadata": {},
     "output_type": "execute_result"
    }
   ],
   "source": [
    "# glob.glob('*')\n",
    "glob('*')"
   ]
  },
  {
   "cell_type": "markdown",
   "metadata": {},
   "source": [
    "### glob\n",
    "- *引数のパターンにマッチする file path の list を取得*\n",
    "    - ＊　:　ワイルドカード(０文字以上の任意の文字列)"
   ]
  },
  {
   "cell_type": "code",
   "execution_count": 11,
   "metadata": {},
   "outputs": [
    {
     "data": {
      "text/plain": [
       "['../public-covid-data/rp_im/1.nii.gz',\n",
       " '../public-covid-data/rp_im/2.nii.gz',\n",
       " '../public-covid-data/rp_im/3.nii.gz',\n",
       " '../public-covid-data/rp_im/4.nii.gz',\n",
       " '../public-covid-data/rp_im/5.nii.gz',\n",
       " '../public-covid-data/rp_im/6.nii.gz',\n",
       " '../public-covid-data/rp_im/7.nii.gz',\n",
       " '../public-covid-data/rp_im/8.nii.gz',\n",
       " '../public-covid-data/rp_im/9.nii.gz',\n",
       " '../public-covid-data/rp_msk/1.nii.gz',\n",
       " '../public-covid-data/rp_msk/2.nii.gz',\n",
       " '../public-covid-data/rp_msk/3.nii.gz',\n",
       " '../public-covid-data/rp_msk/4.nii.gz',\n",
       " '../public-covid-data/rp_msk/5.nii.gz',\n",
       " '../public-covid-data/rp_msk/6.nii.gz',\n",
       " '../public-covid-data/rp_msk/7.nii.gz',\n",
       " '../public-covid-data/rp_msk/8.nii.gz',\n",
       " '../public-covid-data/rp_msk/9.nii.gz']"
      ]
     },
     "execution_count": 11,
     "metadata": {},
     "output_type": "execute_result"
    }
   ],
   "source": [
    "glob('../public-covid-data/*/*')"
   ]
  },
  {
   "cell_type": "markdown",
   "metadata": {},
   "source": [
    "- CT data : nii (ニフティー)　file"
   ]
  },
  {
   "cell_type": "code",
   "execution_count": 14,
   "metadata": {},
   "outputs": [
    {
     "data": {
      "text/plain": [
       "['rp_im/2.nii.gz', 'rp_im/3.nii.gz', 'rp_im/4.nii.gz', 'rp_im/5.nii.gz']"
      ]
     },
     "execution_count": 14,
     "metadata": {},
     "output_type": "execute_result"
    }
   ],
   "source": [
    "glob('rp_im/[2-5]*')"
   ]
  },
  {
   "cell_type": "markdown",
   "metadata": {},
   "source": [
    "# os と pathlib"
   ]
  },
  {
   "cell_type": "markdown",
   "metadata": {},
   "source": [
    "- 製品として開発するときに　path を文字列として扱うのは危険が伴う\n",
    "    - os が違う時にしっかりと動くのか… リスクがある\n",
    "    - 個人の場合は問題ないが、製品として使用する場合にはそこまでの対応が必須\n",
    "    \n",
    "\n",
    "- <u>一般的には os と path が安全で推奨されている</u>"
   ]
  },
  {
   "cell_type": "code",
   "execution_count": 15,
   "metadata": {},
   "outputs": [],
   "source": [
    "import os\n",
    "# import pathlib\n",
    "from pathlib import Path"
   ]
  },
  {
   "cell_type": "code",
   "execution_count": 51,
   "metadata": {},
   "outputs": [],
   "source": [
    "p = Path('../public-covid-data/')"
   ]
  },
  {
   "cell_type": "code",
   "execution_count": 52,
   "metadata": {},
   "outputs": [
    {
     "data": {
      "text/plain": [
       "PosixPath('../public-covid-data')"
      ]
     },
     "execution_count": 52,
     "metadata": {},
     "output_type": "execute_result"
    }
   ],
   "source": [
    "p"
   ]
  },
  {
   "cell_type": "code",
   "execution_count": 56,
   "metadata": {},
   "outputs": [],
   "source": [
    "sub_p = list(p.iterdir())[2]"
   ]
  },
  {
   "cell_type": "code",
   "execution_count": 58,
   "metadata": {},
   "outputs": [
    {
     "data": {
      "text/plain": [
       "[PosixPath('../public-covid-data/rp_im/1.nii.gz'),\n",
       " PosixPath('../public-covid-data/rp_im/2.nii.gz'),\n",
       " PosixPath('../public-covid-data/rp_im/3.nii.gz'),\n",
       " PosixPath('../public-covid-data/rp_im/4.nii.gz'),\n",
       " PosixPath('../public-covid-data/rp_im/5.nii.gz'),\n",
       " PosixPath('../public-covid-data/rp_im/6.nii.gz'),\n",
       " PosixPath('../public-covid-data/rp_im/7.nii.gz'),\n",
       " PosixPath('../public-covid-data/rp_im/8.nii.gz'),\n",
       " PosixPath('../public-covid-data/rp_im/9.nii.gz')]"
      ]
     },
     "execution_count": 58,
     "metadata": {},
     "output_type": "execute_result"
    }
   ],
   "source": [
    "list(sub_p.iterdir())"
   ]
  },
  {
   "cell_type": "code",
   "execution_count": 62,
   "metadata": {},
   "outputs": [],
   "source": [
    "target_file = list(sub_p.glob('*[6-9]*'))[0]"
   ]
  },
  {
   "cell_type": "code",
   "execution_count": 63,
   "metadata": {},
   "outputs": [
    {
     "data": {
      "text/plain": [
       "PosixPath('../public-covid-data/rp_im/6.nii.gz')"
      ]
     },
     "execution_count": 63,
     "metadata": {},
     "output_type": "execute_result"
    }
   ],
   "source": [
    "target_file"
   ]
  },
  {
   "cell_type": "markdown",
   "metadata": {},
   "source": [
    "- file名 (tail) と folder (head) に分けることができる"
   ]
  },
  {
   "cell_type": "code",
   "execution_count": 64,
   "metadata": {},
   "outputs": [
    {
     "data": {
      "text/plain": [
       "('../public-covid-data/rp_im', '6.nii.gz')"
      ]
     },
     "execution_count": 64,
     "metadata": {},
     "output_type": "execute_result"
    }
   ],
   "source": [
    "os.path.split(target_file)"
   ]
  },
  {
   "cell_type": "markdown",
   "metadata": {},
   "source": [
    "- tuple型で返ってくる　:　head ( フォルダー path ) と　tail ( ファイル名 )に split する\n",
    "    - *変数に入れることで unpacking して汎用的に使用できる*"
   ]
  },
  {
   "cell_type": "code",
   "execution_count": 65,
   "metadata": {},
   "outputs": [],
   "source": [
    "folder_p, file_name = os.path.split(target_file)"
   ]
  },
  {
   "cell_type": "code",
   "execution_count": 66,
   "metadata": {},
   "outputs": [
    {
     "data": {
      "text/plain": [
       "'../public-covid-data/rp_im'"
      ]
     },
     "execution_count": 66,
     "metadata": {},
     "output_type": "execute_result"
    }
   ],
   "source": [
    "folder_p"
   ]
  },
  {
   "cell_type": "code",
   "execution_count": 67,
   "metadata": {},
   "outputs": [
    {
     "data": {
      "text/plain": [
       "'6.nii.gz'"
      ]
     },
     "execution_count": 67,
     "metadata": {},
     "output_type": "execute_result"
    }
   ],
   "source": [
    "file_name"
   ]
  },
  {
   "cell_type": "markdown",
   "metadata": {},
   "source": [
    "#### os を使用する事で上記のように　path　を取得でき安全\n",
    "- *文字列操作をせずに変数で扱うことができるので、 hard coding にもならないし安全に扱える*"
   ]
  },
  {
   "cell_type": "code",
   "execution_count": 68,
   "metadata": {},
   "outputs": [
    {
     "data": {
      "text/plain": [
       "'../public-covid-data/rp_im/6.nii.gz'"
      ]
     },
     "execution_count": 68,
     "metadata": {},
     "output_type": "execute_result"
    }
   ],
   "source": [
    "os.path.join(folder_p, file_name)"
   ]
  },
  {
   "cell_type": "markdown",
   "metadata": {},
   "source": [
    "#### os.path.join( )　で　path どうしを連結する事もできる"
   ]
  },
  {
   "cell_type": "markdown",
   "metadata": {},
   "source": [
    "## folder 作成\n",
    "- data science, 機械学習でもよく使用する\n",
    "    - data 処理後の中間ファイル, log file, model などを保存の時...\n",
    "    - program の中で自動で　file　を作成して自動で保存する code を書いたりする事が非常に多い"
   ]
  },
  {
   "cell_type": "code",
   "execution_count": 70,
   "metadata": {},
   "outputs": [
    {
     "data": {
      "text/plain": [
       "'../public-covid-data/new_folder'"
      ]
     },
     "execution_count": 70,
     "metadata": {},
     "output_type": "execute_result"
    }
   ],
   "source": [
    "# public-covid-data / new_folderを作成\n",
    "\n",
    "p = Path('../public-covid-data/')\n",
    "new_folder_name = 'new_folder'\n",
    "new_folder_path = os.path.join(p, new_folder_name)\n",
    "new_folder_path"
   ]
  },
  {
   "cell_type": "markdown",
   "metadata": {},
   "source": [
    "## os.path.exists( )\n",
    "- すでにその　file or directory(folder)　が存在するかどうか？確かめる事ができる"
   ]
  },
  {
   "cell_type": "code",
   "execution_count": 72,
   "metadata": {},
   "outputs": [
    {
     "data": {
      "text/plain": [
       "False"
      ]
     },
     "execution_count": 72,
     "metadata": {},
     "output_type": "execute_result"
    }
   ],
   "source": [
    "os.path.exists(new_folder_path)"
   ]
  },
  {
   "cell_type": "markdown",
   "metadata": {},
   "source": [
    "## os.makedirs( )\n",
    "- folder 作成"
   ]
  },
  {
   "cell_type": "code",
   "execution_count": 73,
   "metadata": {},
   "outputs": [],
   "source": [
    "if not os.path.exists(new_folder_path):\n",
    "    os.makedirs(new_folder_path)"
   ]
  },
  {
   "cell_type": "code",
   "execution_count": 74,
   "metadata": {},
   "outputs": [
    {
     "ename": "FileExistsError",
     "evalue": "[Errno 17] File exists: '../public-covid-data/new_folder'",
     "output_type": "error",
     "traceback": [
      "\u001b[0;31m---------------------------------------------------------------------------\u001b[0m",
      "\u001b[0;31mFileExistsError\u001b[0m                           Traceback (most recent call last)",
      "\u001b[0;32m<ipython-input-74-8ec9db8b4a25>\u001b[0m in \u001b[0;36m<module>\u001b[0;34m\u001b[0m\n\u001b[0;32m----> 1\u001b[0;31m \u001b[0mos\u001b[0m\u001b[0;34m.\u001b[0m\u001b[0mmakedirs\u001b[0m\u001b[0;34m(\u001b[0m\u001b[0mnew_folder_path\u001b[0m\u001b[0;34m)\u001b[0m\u001b[0;34m\u001b[0m\u001b[0;34m\u001b[0m\u001b[0m\n\u001b[0m",
      "\u001b[0;32m/opt/anaconda3/lib/python3.7/os.py\u001b[0m in \u001b[0;36mmakedirs\u001b[0;34m(name, mode, exist_ok)\u001b[0m\n\u001b[1;32m    219\u001b[0m             \u001b[0;32mreturn\u001b[0m\u001b[0;34m\u001b[0m\u001b[0;34m\u001b[0m\u001b[0m\n\u001b[1;32m    220\u001b[0m     \u001b[0;32mtry\u001b[0m\u001b[0;34m:\u001b[0m\u001b[0;34m\u001b[0m\u001b[0;34m\u001b[0m\u001b[0m\n\u001b[0;32m--> 221\u001b[0;31m         \u001b[0mmkdir\u001b[0m\u001b[0;34m(\u001b[0m\u001b[0mname\u001b[0m\u001b[0;34m,\u001b[0m \u001b[0mmode\u001b[0m\u001b[0;34m)\u001b[0m\u001b[0;34m\u001b[0m\u001b[0;34m\u001b[0m\u001b[0m\n\u001b[0m\u001b[1;32m    222\u001b[0m     \u001b[0;32mexcept\u001b[0m \u001b[0mOSError\u001b[0m\u001b[0;34m:\u001b[0m\u001b[0;34m\u001b[0m\u001b[0;34m\u001b[0m\u001b[0m\n\u001b[1;32m    223\u001b[0m         \u001b[0;31m# Cannot rely on checking for EEXIST, since the operating system\u001b[0m\u001b[0;34m\u001b[0m\u001b[0;34m\u001b[0m\u001b[0;34m\u001b[0m\u001b[0m\n",
      "\u001b[0;31mFileExistsError\u001b[0m: [Errno 17] File exists: '../public-covid-data/new_folder'"
     ]
    }
   ],
   "source": [
    "os.makedirs(new_folder_path)"
   ]
  },
  {
   "cell_type": "markdown",
   "metadata": {},
   "source": [
    "#### すでにある folder は作成できないので、上記のような　error が出ないように　if文を使用して対応する\n",
    "\n",
    "\n",
    "- *data science では　path 操作は必須*\n",
    "    - **path の扱い、関数の扱いなど、マスターしておく事**\n",
    "\n",
    "\n",
    "- まずは glob をしっかりと覚える\n",
    "    - 文字列にしてしまえば、あとは如何様にもできる\n",
    "\n",
    "\n",
    "- 慣れてきたら、 os path を使用していく"
   ]
  },
  {
   "cell_type": "code",
   "execution_count": null,
   "metadata": {},
   "outputs": [],
   "source": []
  }
 ],
 "metadata": {
  "kernelspec": {
   "display_name": "Python 3",
   "language": "python",
   "name": "python3"
  },
  "language_info": {
   "codemirror_mode": {
    "name": "ipython",
    "version": 3
   },
   "file_extension": ".py",
   "mimetype": "text/x-python",
   "name": "python",
   "nbconvert_exporter": "python",
   "pygments_lexer": "ipython3",
   "version": "3.7.6"
  }
 },
 "nbformat": 4,
 "nbformat_minor": 4
}
