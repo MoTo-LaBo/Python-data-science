{
 "cells": [
  {
   "cell_type": "markdown",
   "metadata": {},
   "source": [
    "# glob (グロブ)\n",
    "- ワイルドカードをつかて file path名のリストを取得する\n",
    "    - よくワイルドカードは「　*　」 (アスタリスク)で記述される\n",
    "\n",
    "\n",
    "- http://medicalsegmentation.com/covid19/\n",
    "    - 上記から　ファイルを取得してくる"
   ]
  },
  {
   "cell_type": "code",
   "execution_count": 3,
   "metadata": {},
   "outputs": [],
   "source": [
    "# import glob / from を使用することで　glob の関数だけを　import できる\n",
    "from glob import glob\n",
    "\n",
    "import numpy as np\n",
    "import pandas as pd\n",
    "import matplotlib.pyplot as plt\n",
    "%matplotlib inline\n",
    "import seaborn as sns"
   ]
  },
  {
   "cell_type": "code",
   "execution_count": 4,
   "metadata": {},
   "outputs": [
    {
     "data": {
      "text/plain": [
       "['glob.ipynb', 'rp_im', 'rp_msk']"
      ]
     },
     "execution_count": 4,
     "metadata": {},
     "output_type": "execute_result"
    }
   ],
   "source": [
    "# glob.glob('*')\n",
    "glob('*')"
   ]
  },
  {
   "cell_type": "markdown",
   "metadata": {},
   "source": [
    "### glob\n",
    "- *引数のパターンにマッチする file path の list を取得*\n",
    "    - ＊　:　ワイルドカード(０文字以上の任意の文字列)"
   ]
  },
  {
   "cell_type": "code",
   "execution_count": 11,
   "metadata": {},
   "outputs": [
    {
     "data": {
      "text/plain": [
       "['../public-covid-data/rp_im/1.nii.gz',\n",
       " '../public-covid-data/rp_im/2.nii.gz',\n",
       " '../public-covid-data/rp_im/3.nii.gz',\n",
       " '../public-covid-data/rp_im/4.nii.gz',\n",
       " '../public-covid-data/rp_im/5.nii.gz',\n",
       " '../public-covid-data/rp_im/6.nii.gz',\n",
       " '../public-covid-data/rp_im/7.nii.gz',\n",
       " '../public-covid-data/rp_im/8.nii.gz',\n",
       " '../public-covid-data/rp_im/9.nii.gz',\n",
       " '../public-covid-data/rp_msk/1.nii.gz',\n",
       " '../public-covid-data/rp_msk/2.nii.gz',\n",
       " '../public-covid-data/rp_msk/3.nii.gz',\n",
       " '../public-covid-data/rp_msk/4.nii.gz',\n",
       " '../public-covid-data/rp_msk/5.nii.gz',\n",
       " '../public-covid-data/rp_msk/6.nii.gz',\n",
       " '../public-covid-data/rp_msk/7.nii.gz',\n",
       " '../public-covid-data/rp_msk/8.nii.gz',\n",
       " '../public-covid-data/rp_msk/9.nii.gz']"
      ]
     },
     "execution_count": 11,
     "metadata": {},
     "output_type": "execute_result"
    }
   ],
   "source": [
    "glob('../public-covid-data/*/*')"
   ]
  },
  {
   "cell_type": "markdown",
   "metadata": {},
   "source": [
    "- CT data : nii (ニフティー)　file"
   ]
  },
  {
   "cell_type": "code",
   "execution_count": 14,
   "metadata": {},
   "outputs": [
    {
     "data": {
      "text/plain": [
       "['rp_im/2.nii.gz', 'rp_im/3.nii.gz', 'rp_im/4.nii.gz', 'rp_im/5.nii.gz']"
      ]
     },
     "execution_count": 14,
     "metadata": {},
     "output_type": "execute_result"
    }
   ],
   "source": [
    "glob('rp_im/[2-5]*')"
   ]
  },
  {
   "cell_type": "code",
   "execution_count": null,
   "metadata": {},
   "outputs": [],
   "source": []
  }
 ],
 "metadata": {
  "kernelspec": {
   "display_name": "Python 3",
   "language": "python",
   "name": "python3"
  },
  "language_info": {
   "codemirror_mode": {
    "name": "ipython",
    "version": 3
   },
   "file_extension": ".py",
   "mimetype": "text/x-python",
   "name": "python",
   "nbconvert_exporter": "python",
   "pygments_lexer": "ipython3",
   "version": "3.7.6"
  }
 },
 "nbformat": 4,
 "nbformat_minor": 4
}
