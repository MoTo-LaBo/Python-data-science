{
 "cells": [
  {
   "cell_type": "markdown",
   "metadata": {},
   "source": [
    "# tqdm (ティーキューディーエム)\n",
    "- *for分とかで　loop をした時にプロブレスバーを表示してくれる*\n",
    "    - 下記参照 \n",
    "    - https://github.com/tqdm/tqdm\n",
    "\n",
    "\n",
    "- *data science では １時間くらい　for文を回す事はザラにある*\n",
    "    - **本当に重い処理の場合は１日かかる場合もある**\n",
    "\n",
    "\n",
    "- <u>進捗状況が視覚的にわかるので非常に便利</u>"
   ]
  },
  {
   "cell_type": "code",
   "execution_count": 1,
   "metadata": {},
   "outputs": [],
   "source": [
    "# import tqdm　/ 関数だけを呼び出す事によって tqdm を　2回記述しなくて済む\n",
    "from tqdm import tqdm"
   ]
  },
  {
   "cell_type": "code",
   "execution_count": 7,
   "metadata": {},
   "outputs": [],
   "source": [
    "# import glob / from を使用することで　glob の関数だけを　import できる\n",
    "from glob import glob\n",
    "\n",
    "import numpy as np\n",
    "import pandas as pd\n",
    "import matplotlib.pyplot as plt\n",
    "%matplotlib inline\n",
    "import seaborn as sns\n",
    "\n",
    "import os\n",
    "# import pathlib\n",
    "from pathlib import Path"
   ]
  },
  {
   "cell_type": "code",
   "execution_count": 3,
   "metadata": {},
   "outputs": [
    {
     "name": "stderr",
     "output_type": "stream",
     "text": [
      "0it [00:00, ?it/s]"
     ]
    },
    {
     "data": {
      "text/plain": [
       "0it [00:00, ?it/s]"
      ]
     },
     "execution_count": 3,
     "metadata": {},
     "output_type": "execute_result"
    }
   ],
   "source": [
    "tqdm()"
   ]
  },
  {
   "cell_type": "code",
   "execution_count": 4,
   "metadata": {},
   "outputs": [
    {
     "name": "stderr",
     "output_type": "stream",
     "text": [
      "\n",
      "  0%|          | 0/10000000 [00:00<?, ?it/s]\u001b[A\n",
      "  0%|          | 7786/10000000 [00:00<02:08, 77853.02it/s]\u001b[A\n",
      "  0%|          | 19488/10000000 [00:00<01:55, 86541.84it/s]\u001b[A\n",
      "  0%|          | 35489/10000000 [00:00<01:39, 100365.63it/s]\u001b[A\n",
      "  1%|          | 55259/10000000 [00:00<01:24, 117757.45it/s]\u001b[A\n",
      "  1%|          | 77831/10000000 [00:00<01:12, 137484.47it/s]\u001b[A\n",
      "  1%|          | 103842/10000000 [00:00<01:01, 160131.19it/s]\u001b[A\n",
      "  1%|▏         | 133181/10000000 [00:00<00:53, 185392.41it/s]\u001b[A\n",
      "  2%|▏         | 165499/10000000 [00:00<00:46, 212581.51it/s]\u001b[A\n",
      "  2%|▏         | 200920/10000000 [00:00<00:40, 241556.80it/s]\u001b[A\n",
      "  2%|▏         | 238559/10000000 [00:01<00:36, 270639.10it/s]\u001b[A\n",
      "  3%|▎         | 279881/10000000 [00:01<00:32, 301888.90it/s]\u001b[A\n",
      "  3%|▎         | 324248/10000000 [00:01<00:28, 333895.74it/s]\u001b[A\n",
      "  4%|▎         | 371775/10000000 [00:01<00:26, 366608.36it/s]\u001b[A\n",
      "  4%|▍         | 421938/10000000 [00:01<00:24, 398811.31it/s]\u001b[A\n",
      "  5%|▍         | 475156/10000000 [00:01<00:22, 431231.53it/s]\u001b[A\n",
      "  5%|▌         | 530576/10000000 [00:01<00:20, 461977.98it/s]\u001b[A\n",
      "  6%|▌         | 588418/10000000 [00:01<00:19, 491668.71it/s]\u001b[A\n",
      "  6%|▋         | 649734/10000000 [00:01<00:17, 522740.30it/s]\u001b[A\n",
      "  7%|▋         | 713779/10000000 [00:01<00:16, 553240.28it/s]\u001b[A\n",
      "  8%|▊         | 780160/10000000 [00:02<00:15, 582331.48it/s]\u001b[A\n",
      "  8%|▊         | 849550/10000000 [00:02<00:14, 611833.00it/s]\u001b[A\n",
      "  9%|▉         | 921448/10000000 [00:02<00:14, 640463.02it/s]\u001b[A\n",
      " 10%|▉         | 996067/10000000 [00:02<00:13, 668889.75it/s]\u001b[A\n",
      " 11%|█         | 1073477/10000000 [00:02<00:12, 697316.64it/s]\u001b[A\n",
      " 12%|█▏        | 1153103/10000000 [00:02<00:12, 724306.19it/s]\u001b[A\n",
      " 12%|█▏        | 1235473/10000000 [00:02<00:11, 751498.03it/s]\u001b[A\n",
      " 13%|█▎        | 1320187/10000000 [00:02<00:11, 777835.07it/s]\u001b[A\n",
      " 14%|█▍        | 1407520/10000000 [00:02<00:10, 804206.52it/s]\u001b[A\n",
      " 15%|█▍        | 1497287/10000000 [00:02<00:10, 830120.96it/s]\u001b[A\n",
      " 16%|█▌        | 1589183/10000000 [00:03<00:09, 854905.23it/s]\u001b[A\n",
      " 17%|█▋        | 1683617/10000000 [00:03<00:09, 879888.76it/s]\u001b[A\n",
      " 18%|█▊        | 1780370/10000000 [00:03<00:09, 904466.46it/s]\u001b[A\n",
      " 19%|█▉        | 1879565/10000000 [00:03<00:08, 929035.66it/s]\u001b[A\n",
      " 20%|█▉        | 1980963/10000000 [00:03<00:08, 952977.35it/s]\u001b[A\n",
      " 21%|██        | 2084300/10000000 [00:03<00:08, 975746.01it/s]\u001b[A\n",
      " 22%|██▏       | 2190178/10000000 [00:03<00:07, 999242.55it/s]\u001b[A\n",
      " 23%|██▎       | 2298115/10000000 [00:03<00:07, 1022001.39it/s]\u001b[A\n",
      " 24%|██▍       | 2408310/10000000 [00:03<00:07, 1044736.10it/s]\u001b[A\n",
      " 25%|██▌       | 2520621/10000000 [00:03<00:07, 1067060.25it/s]\u001b[A\n",
      " 26%|██▋       | 2635319/10000000 [00:04<00:06, 1089828.01it/s]\u001b[A\n",
      " 28%|██▊       | 2751976/10000000 [00:04<00:06, 1111764.85it/s]\u001b[A\n",
      " 29%|██▊       | 2870823/10000000 [00:04<00:06, 1133691.79it/s]\u001b[A\n",
      " 30%|██▉       | 2991661/10000000 [00:04<00:06, 1155096.60it/s]\u001b[A\n",
      " 31%|███       | 3114410/10000000 [00:04<00:05, 1175901.39it/s]\u001b[A\n",
      " 32%|███▏      | 3239386/10000000 [00:04<00:05, 1197115.46it/s]\u001b[A\n",
      " 34%|███▎      | 3366178/10000000 [00:04<00:05, 1217511.85it/s]\u001b[A\n",
      " 35%|███▍      | 3494768/10000000 [00:04<00:05, 1237232.02it/s]\u001b[A\n",
      " 36%|███▌      | 3623723/10000000 [00:04<00:05, 1252456.52it/s]\u001b[A\n",
      " 38%|███▊      | 3755182/10000000 [00:04<00:04, 1270458.16it/s]\u001b[A\n",
      " 39%|███▉      | 3888794/10000000 [00:05<00:04, 1289446.15it/s]\u001b[A\n",
      " 40%|████      | 4024164/10000000 [00:05<00:04, 1308055.77it/s]\u001b[A\n",
      " 42%|████▏     | 4161288/10000000 [00:05<00:04, 1326203.34it/s]\u001b[A\n",
      " 43%|████▎     | 4300130/10000000 [00:05<00:04, 1344231.50it/s]\u001b[A\n",
      " 44%|████▍     | 4440808/10000000 [00:05<00:04, 1362380.92it/s]\u001b[A\n",
      " 46%|████▌     | 4583476/10000000 [00:05<00:03, 1381027.35it/s]\u001b[A\n",
      " 47%|████▋     | 4727211/10000000 [00:05<00:03, 1396412.62it/s]\u001b[A\n",
      " 49%|████▊     | 4868872/10000000 [00:05<00:03, 1402382.70it/s]\u001b[A\n",
      " 50%|█████     | 5013158/10000000 [00:05<00:03, 1414279.85it/s]\u001b[A\n",
      " 52%|█████▏    | 5159833/10000000 [00:05<00:03, 1429609.89it/s]\u001b[A\n",
      " 53%|█████▎    | 5308550/10000000 [00:06<00:03, 1446388.89it/s]\u001b[A\n",
      " 55%|█████▍    | 5459013/10000000 [00:06<00:03, 1463352.10it/s]\u001b[A\n",
      " 56%|█████▌    | 5609924/10000000 [00:06<00:02, 1476758.98it/s]\u001b[A\n",
      " 58%|█████▊    | 5763132/10000000 [00:06<00:02, 1492911.85it/s]\u001b[A\n",
      " 59%|█████▉    | 5917844/10000000 [00:06<00:02, 1508762.14it/s]\u001b[A\n",
      " 61%|██████    | 6074107/10000000 [00:06<00:02, 1524510.80it/s]\u001b[A\n",
      " 62%|██████▏   | 6231399/10000000 [00:06<00:02, 1538703.13it/s]\u001b[A\n",
      " 64%|██████▍   | 6390871/10000000 [00:06<00:02, 1555082.34it/s]\u001b[A\n",
      " 66%|██████▌   | 6550728/10000000 [00:06<00:02, 1567846.70it/s]\u001b[A\n",
      " 67%|██████▋   | 6712864/10000000 [00:06<00:02, 1583503.28it/s]\u001b[A\n",
      " 69%|██████▉   | 6876653/10000000 [00:07<00:01, 1599427.75it/s]\u001b[A\n",
      " 70%|███████   | 7041666/10000000 [00:07<00:01, 1614300.77it/s]\u001b[A\n",
      " 72%|███████▏  | 7208161/10000000 [00:07<00:01, 1629154.62it/s]\u001b[A\n",
      " 74%|███████▍  | 7376065/10000000 [00:07<00:01, 1643773.27it/s]\u001b[A\n",
      " 75%|███████▌  | 7544111/10000000 [00:07<00:01, 1654603.46it/s]\u001b[A\n",
      " 77%|███████▋  | 7714218/10000000 [00:07<00:01, 1668256.42it/s]\u001b[A\n",
      " 79%|███████▉  | 7886029/10000000 [00:07<00:01, 1682894.72it/s]\u001b[A\n",
      " 81%|████████  | 8058382/10000000 [00:07<00:01, 1694881.97it/s]\u001b[A\n",
      " 82%|████████▏ | 8232604/10000000 [00:07<00:01, 1708777.96it/s]\u001b[A\n",
      " 84%|████████▍ | 8408455/10000000 [00:07<00:00, 1723372.39it/s]\u001b[A\n",
      " 86%|████████▌ | 8585188/10000000 [00:08<00:00, 1736309.31it/s]\u001b[A\n",
      " 88%|████████▊ | 8763379/10000000 [00:08<00:00, 1749740.59it/s]\u001b[A\n",
      " 89%|████████▉ | 8942908/10000000 [00:08<00:00, 1763127.92it/s]\u001b[A\n",
      " 91%|█████████ | 9123808/10000000 [00:08<00:00, 1776610.20it/s]\u001b[A\n",
      " 93%|█████████▎| 9306002/10000000 [00:08<00:00, 1789945.87it/s]\u001b[A\n",
      " 95%|█████████▍| 9489631/10000000 [00:08<00:00, 1803584.38it/s]\u001b[A\n",
      " 97%|█████████▋| 9674372/10000000 [00:08<00:00, 1816489.69it/s]\u001b[A\n",
      "100%|██████████| 10000000/10000000 [00:08<00:00, 1142186.06it/s][A"
     ]
    },
    {
     "name": "stdout",
     "output_type": "stream",
     "text": [
      "10000000\n",
      "it took 8.760303735733032\n"
     ]
    },
    {
     "name": "stderr",
     "output_type": "stream",
     "text": [
      "\n"
     ]
    }
   ],
   "source": [
    "import time\n",
    "sum_ = 0\n",
    "befor = time.time()\n",
    "for i in tqdm(range(int(1e7))):\n",
    "    sum_ += 1\n",
    "print(sum_)\n",
    "after = time.time()\n",
    "print('it took {}'.format(after-befor))"
   ]
  },
  {
   "cell_type": "code",
   "execution_count": 5,
   "metadata": {},
   "outputs": [
    {
     "data": {
      "text/plain": [
       "10000000.0"
      ]
     },
     "execution_count": 5,
     "metadata": {},
     "output_type": "execute_result"
    }
   ],
   "source": [
    "1e7"
   ]
  },
  {
   "cell_type": "markdown",
   "metadata": {},
   "source": [
    "# challenge \n",
    "- *columns:　path_im,　filename,　path_msk*\n",
    "    - **path_im　:　'../public-covid-data/rp_im/1.nii.gz'**\n",
    "    - **filename　:　'1.nii.gz'**\n",
    "    - **path_msk　:　'../public-covid-data/rp_msk/1.nii.gz'**\n",
    "\n",
    "\n",
    "- 上記の指示の　DataFrame　を作成してみる"
   ]
  },
  {
   "cell_type": "code",
   "execution_count": 8,
   "metadata": {},
   "outputs": [],
   "source": [
    "p = Path('../public-covid-data/')"
   ]
  },
  {
   "cell_type": "code",
   "execution_count": 9,
   "metadata": {},
   "outputs": [
    {
     "data": {
      "text/plain": [
       "PosixPath('../public-covid-data/rp_im')"
      ]
     },
     "execution_count": 9,
     "metadata": {},
     "output_type": "execute_result"
    }
   ],
   "source": [
    "sub_p = list(p.iterdir())[3]\n",
    "sub_p"
   ]
  },
  {
   "cell_type": "code",
   "execution_count": 11,
   "metadata": {},
   "outputs": [
    {
     "data": {
      "text/plain": [
       "[PosixPath('../public-covid-data/rp_im/1.nii.gz'),\n",
       " PosixPath('../public-covid-data/rp_im/2.nii.gz'),\n",
       " PosixPath('../public-covid-data/rp_im/3.nii.gz'),\n",
       " PosixPath('../public-covid-data/rp_im/4.nii.gz'),\n",
       " PosixPath('../public-covid-data/rp_im/5.nii.gz'),\n",
       " PosixPath('../public-covid-data/rp_im/6.nii.gz'),\n",
       " PosixPath('../public-covid-data/rp_im/7.nii.gz'),\n",
       " PosixPath('../public-covid-data/rp_im/8.nii.gz'),\n",
       " PosixPath('../public-covid-data/rp_im/9.nii.gz')]"
      ]
     },
     "execution_count": 11,
     "metadata": {},
     "output_type": "execute_result"
    }
   ],
   "source": [
    "sub_path = list(sub_p.iterdir())\n",
    "sub_path"
   ]
  },
  {
   "cell_type": "code",
   "execution_count": 12,
   "metadata": {},
   "outputs": [
    {
     "data": {
      "text/plain": [
       "[PosixPath('../public-covid-data/rp_im/1.nii.gz'),\n",
       " PosixPath('../public-covid-data/rp_im/2.nii.gz'),\n",
       " PosixPath('../public-covid-data/rp_im/3.nii.gz'),\n",
       " PosixPath('../public-covid-data/rp_im/4.nii.gz'),\n",
       " PosixPath('../public-covid-data/rp_im/5.nii.gz'),\n",
       " PosixPath('../public-covid-data/rp_im/6.nii.gz'),\n",
       " PosixPath('../public-covid-data/rp_im/7.nii.gz'),\n",
       " PosixPath('../public-covid-data/rp_im/8.nii.gz'),\n",
       " PosixPath('../public-covid-data/rp_im/9.nii.gz')]"
      ]
     },
     "execution_count": 12,
     "metadata": {},
     "output_type": "execute_result"
    }
   ],
   "source": [
    "target_file = list(sub_p.glob('*'))\n",
    "target_file"
   ]
  },
  {
   "cell_type": "code",
   "execution_count": 13,
   "metadata": {},
   "outputs": [
    {
     "name": "stdout",
     "output_type": "stream",
     "text": [
      "../public-covid-data/rp_im\n",
      "../public-covid-data/rp_im\n",
      "../public-covid-data/rp_im\n",
      "../public-covid-data/rp_im\n",
      "../public-covid-data/rp_im\n",
      "../public-covid-data/rp_im\n",
      "../public-covid-data/rp_im\n",
      "../public-covid-data/rp_im\n",
      "../public-covid-data/rp_im\n",
      "['1.nii.gz', '2.nii.gz', '3.nii.gz', '4.nii.gz', '5.nii.gz', '6.nii.gz', '7.nii.gz', '8.nii.gz', '9.nii.gz']\n"
     ]
    }
   ],
   "source": [
    "file_ls = []\n",
    "for idx, i in enumerate(target_file):\n",
    "    folder_p, file_name = os.path.split(target_file[idx])\n",
    "    print(folder_p)\n",
    "    file_ls.append(file_name)\n",
    "print(file_ls)"
   ]
  },
  {
   "cell_type": "code",
   "execution_count": 14,
   "metadata": {},
   "outputs": [
    {
     "data": {
      "text/plain": [
       "PosixPath('../public-covid-data/rp_msk')"
      ]
     },
     "execution_count": 14,
     "metadata": {},
     "output_type": "execute_result"
    }
   ],
   "source": [
    "list(p.iterdir())[4]"
   ]
  },
  {
   "cell_type": "code",
   "execution_count": 15,
   "metadata": {},
   "outputs": [
    {
     "data": {
      "text/plain": [
       "[PosixPath('../public-covid-data/rp_msk/1.nii.gz'),\n",
       " PosixPath('../public-covid-data/rp_msk/2.nii.gz'),\n",
       " PosixPath('../public-covid-data/rp_msk/3.nii.gz'),\n",
       " PosixPath('../public-covid-data/rp_msk/4.nii.gz'),\n",
       " PosixPath('../public-covid-data/rp_msk/5.nii.gz'),\n",
       " PosixPath('../public-covid-data/rp_msk/6.nii.gz'),\n",
       " PosixPath('../public-covid-data/rp_msk/7.nii.gz'),\n",
       " PosixPath('../public-covid-data/rp_msk/8.nii.gz'),\n",
       " PosixPath('../public-covid-data/rp_msk/9.nii.gz')]"
      ]
     },
     "execution_count": 15,
     "metadata": {},
     "output_type": "execute_result"
    }
   ],
   "source": [
    "sub_msk_p = list(p.iterdir())[4]\n",
    "sub_msk_path = list(sub_msk_p.iterdir())\n",
    "sub_msk_path"
   ]
  },
  {
   "cell_type": "code",
   "execution_count": 16,
   "metadata": {},
   "outputs": [
    {
     "data": {
      "text/html": [
       "<div>\n",
       "<style scoped>\n",
       "    .dataframe tbody tr th:only-of-type {\n",
       "        vertical-align: middle;\n",
       "    }\n",
       "\n",
       "    .dataframe tbody tr th {\n",
       "        vertical-align: top;\n",
       "    }\n",
       "\n",
       "    .dataframe thead th {\n",
       "        text-align: right;\n",
       "    }\n",
       "</style>\n",
       "<table border=\"1\" class=\"dataframe\">\n",
       "  <thead>\n",
       "    <tr style=\"text-align: right;\">\n",
       "      <th></th>\n",
       "      <th>path_im</th>\n",
       "      <th>filename</th>\n",
       "      <th>path_msk</th>\n",
       "    </tr>\n",
       "  </thead>\n",
       "  <tbody>\n",
       "    <tr>\n",
       "      <th>0</th>\n",
       "      <td>../public-covid-data/rp_im/1.nii.gz</td>\n",
       "      <td>1.nii.gz</td>\n",
       "      <td>../public-covid-data/rp_msk/1.nii.gz</td>\n",
       "    </tr>\n",
       "    <tr>\n",
       "      <th>1</th>\n",
       "      <td>../public-covid-data/rp_im/2.nii.gz</td>\n",
       "      <td>2.nii.gz</td>\n",
       "      <td>../public-covid-data/rp_msk/2.nii.gz</td>\n",
       "    </tr>\n",
       "    <tr>\n",
       "      <th>2</th>\n",
       "      <td>../public-covid-data/rp_im/3.nii.gz</td>\n",
       "      <td>3.nii.gz</td>\n",
       "      <td>../public-covid-data/rp_msk/3.nii.gz</td>\n",
       "    </tr>\n",
       "    <tr>\n",
       "      <th>3</th>\n",
       "      <td>../public-covid-data/rp_im/4.nii.gz</td>\n",
       "      <td>4.nii.gz</td>\n",
       "      <td>../public-covid-data/rp_msk/4.nii.gz</td>\n",
       "    </tr>\n",
       "    <tr>\n",
       "      <th>4</th>\n",
       "      <td>../public-covid-data/rp_im/5.nii.gz</td>\n",
       "      <td>5.nii.gz</td>\n",
       "      <td>../public-covid-data/rp_msk/5.nii.gz</td>\n",
       "    </tr>\n",
       "    <tr>\n",
       "      <th>5</th>\n",
       "      <td>../public-covid-data/rp_im/6.nii.gz</td>\n",
       "      <td>6.nii.gz</td>\n",
       "      <td>../public-covid-data/rp_msk/6.nii.gz</td>\n",
       "    </tr>\n",
       "    <tr>\n",
       "      <th>6</th>\n",
       "      <td>../public-covid-data/rp_im/7.nii.gz</td>\n",
       "      <td>7.nii.gz</td>\n",
       "      <td>../public-covid-data/rp_msk/7.nii.gz</td>\n",
       "    </tr>\n",
       "    <tr>\n",
       "      <th>7</th>\n",
       "      <td>../public-covid-data/rp_im/8.nii.gz</td>\n",
       "      <td>8.nii.gz</td>\n",
       "      <td>../public-covid-data/rp_msk/8.nii.gz</td>\n",
       "    </tr>\n",
       "    <tr>\n",
       "      <th>8</th>\n",
       "      <td>../public-covid-data/rp_im/9.nii.gz</td>\n",
       "      <td>9.nii.gz</td>\n",
       "      <td>../public-covid-data/rp_msk/9.nii.gz</td>\n",
       "    </tr>\n",
       "  </tbody>\n",
       "</table>\n",
       "</div>"
      ],
      "text/plain": [
       "                               path_im  filename  \\\n",
       "0  ../public-covid-data/rp_im/1.nii.gz  1.nii.gz   \n",
       "1  ../public-covid-data/rp_im/2.nii.gz  2.nii.gz   \n",
       "2  ../public-covid-data/rp_im/3.nii.gz  3.nii.gz   \n",
       "3  ../public-covid-data/rp_im/4.nii.gz  4.nii.gz   \n",
       "4  ../public-covid-data/rp_im/5.nii.gz  5.nii.gz   \n",
       "5  ../public-covid-data/rp_im/6.nii.gz  6.nii.gz   \n",
       "6  ../public-covid-data/rp_im/7.nii.gz  7.nii.gz   \n",
       "7  ../public-covid-data/rp_im/8.nii.gz  8.nii.gz   \n",
       "8  ../public-covid-data/rp_im/9.nii.gz  9.nii.gz   \n",
       "\n",
       "                               path_msk  \n",
       "0  ../public-covid-data/rp_msk/1.nii.gz  \n",
       "1  ../public-covid-data/rp_msk/2.nii.gz  \n",
       "2  ../public-covid-data/rp_msk/3.nii.gz  \n",
       "3  ../public-covid-data/rp_msk/4.nii.gz  \n",
       "4  ../public-covid-data/rp_msk/5.nii.gz  \n",
       "5  ../public-covid-data/rp_msk/6.nii.gz  \n",
       "6  ../public-covid-data/rp_msk/7.nii.gz  \n",
       "7  ../public-covid-data/rp_msk/8.nii.gz  \n",
       "8  ../public-covid-data/rp_msk/9.nii.gz  "
      ]
     },
     "execution_count": 16,
     "metadata": {},
     "output_type": "execute_result"
    }
   ],
   "source": [
    "data = {\n",
    "    'path_im': sub_path,\n",
    "    'filename': file_ls,\n",
    "    'path_msk': sub_msk_path\n",
    "}\n",
    "\n",
    "df = pd.DataFrame(data)\n",
    "df"
   ]
  },
  {
   "cell_type": "markdown",
   "metadata": {},
   "source": [
    "# 回答"
   ]
  },
  {
   "cell_type": "code",
   "execution_count": 18,
   "metadata": {},
   "outputs": [
    {
     "name": "stdout",
     "output_type": "stream",
     "text": [
      "../public-covid-data/.ipynb_checkpoints\n",
      "../public-covid-data/glob.ipynb\n",
      "../public-covid-data/rp_im\n",
      "../public-covid-data/rp_msk\n",
      "../public-covid-data/tqdm.ipynb\n"
     ]
    }
   ],
   "source": [
    "p = Path('../public-covid-data/')\n",
    "for folder in p.iterdir():\n",
    "    print(folder)"
   ]
  },
  {
   "cell_type": "code",
   "execution_count": 20,
   "metadata": {},
   "outputs": [
    {
     "data": {
      "text/plain": [
       "PosixPath('../public-covid-data/rp_im')"
      ]
     },
     "execution_count": 20,
     "metadata": {},
     "output_type": "execute_result"
    }
   ],
   "source": [
    "folder = list(p.iterdir())[2]\n",
    "folder"
   ]
  },
  {
   "cell_type": "code",
   "execution_count": 29,
   "metadata": {},
   "outputs": [
    {
     "data": {
      "text/plain": [
       "[PosixPath('../public-covid-data/rp_im/1.nii.gz'),\n",
       " PosixPath('../public-covid-data/rp_im/2.nii.gz'),\n",
       " PosixPath('../public-covid-data/rp_im/3.nii.gz'),\n",
       " PosixPath('../public-covid-data/rp_im/4.nii.gz'),\n",
       " PosixPath('../public-covid-data/rp_im/5.nii.gz'),\n",
       " PosixPath('../public-covid-data/rp_im/6.nii.gz'),\n",
       " PosixPath('../public-covid-data/rp_im/7.nii.gz'),\n",
       " PosixPath('../public-covid-data/rp_im/8.nii.gz'),\n",
       " PosixPath('../public-covid-data/rp_im/9.nii.gz')]"
      ]
     },
     "execution_count": 29,
     "metadata": {},
     "output_type": "execute_result"
    }
   ],
   "source": [
    "folder = list(p.iterdir())[2]\n",
    "list(folder.iterdir())"
   ]
  },
  {
   "cell_type": "code",
   "execution_count": 24,
   "metadata": {},
   "outputs": [],
   "source": [
    "folder = list(p.iterdir())[2]\n",
    "subp = list(folder.iterdir())[0]"
   ]
  },
  {
   "cell_type": "code",
   "execution_count": 26,
   "metadata": {},
   "outputs": [
    {
     "data": {
      "text/plain": [
       "PosixPath('../public-covid-data/rp_im/1.nii.gz')"
      ]
     },
     "execution_count": 26,
     "metadata": {},
     "output_type": "execute_result"
    }
   ],
   "source": [
    "subp"
   ]
  },
  {
   "cell_type": "code",
   "execution_count": 27,
   "metadata": {},
   "outputs": [
    {
     "data": {
      "text/plain": [
       "'../public-covid-data/rp_im/1.nii.gz'"
      ]
     },
     "execution_count": 27,
     "metadata": {},
     "output_type": "execute_result"
    }
   ],
   "source": [
    "# as_posix() で文字列だけ取得できる\n",
    "subp.as_posix()"
   ]
  },
  {
   "cell_type": "code",
   "execution_count": 28,
   "metadata": {},
   "outputs": [
    {
     "data": {
      "text/plain": [
       "'../public-covid-data/rp_im/1.nii.gz'"
      ]
     },
     "execution_count": 28,
     "metadata": {},
     "output_type": "execute_result"
    }
   ],
   "source": [
    "# str() でもできる\n",
    "str(subp)"
   ]
  },
  {
   "cell_type": "markdown",
   "metadata": {},
   "source": [
    "### list 内包表記で記述する\n",
    "- data science では非常に頻繁に　list内包表記が使用される"
   ]
  },
  {
   "cell_type": "code",
   "execution_count": 32,
   "metadata": {},
   "outputs": [
    {
     "data": {
      "text/plain": [
       "[PosixPath('../public-covid-data/rp_im/1.nii.gz'),\n",
       " PosixPath('../public-covid-data/rp_im/2.nii.gz'),\n",
       " PosixPath('../public-covid-data/rp_im/3.nii.gz'),\n",
       " PosixPath('../public-covid-data/rp_im/4.nii.gz'),\n",
       " PosixPath('../public-covid-data/rp_im/5.nii.gz'),\n",
       " PosixPath('../public-covid-data/rp_im/6.nii.gz'),\n",
       " PosixPath('../public-covid-data/rp_im/7.nii.gz'),\n",
       " PosixPath('../public-covid-data/rp_im/8.nii.gz'),\n",
       " PosixPath('../public-covid-data/rp_im/9.nii.gz')]"
      ]
     },
     "execution_count": 32,
     "metadata": {},
     "output_type": "execute_result"
    }
   ],
   "source": [
    "folder = list(p.iterdir())[2]\n",
    "list(folder.iterdir())"
   ]
  },
  {
   "cell_type": "code",
   "execution_count": 33,
   "metadata": {},
   "outputs": [
    {
     "data": {
      "text/plain": [
       "['../public-covid-data/rp_im/1.nii.gz',\n",
       " '../public-covid-data/rp_im/2.nii.gz',\n",
       " '../public-covid-data/rp_im/3.nii.gz',\n",
       " '../public-covid-data/rp_im/4.nii.gz',\n",
       " '../public-covid-data/rp_im/5.nii.gz',\n",
       " '../public-covid-data/rp_im/6.nii.gz',\n",
       " '../public-covid-data/rp_im/7.nii.gz',\n",
       " '../public-covid-data/rp_im/8.nii.gz',\n",
       " '../public-covid-data/rp_im/9.nii.gz']"
      ]
     },
     "execution_count": 33,
     "metadata": {},
     "output_type": "execute_result"
    }
   ],
   "source": [
    "folder = list(p.iterdir())[2]\n",
    "# list(folder.iterdir())\n",
    "[p.as_posix() for p in list(folder.iterdir())]"
   ]
  },
  {
   "cell_type": "code",
   "execution_count": 39,
   "metadata": {},
   "outputs": [
    {
     "data": {
      "text/plain": [
       "[('../public-covid-data/rp_im', '1.nii.gz'),\n",
       " ('../public-covid-data/rp_im', '2.nii.gz'),\n",
       " ('../public-covid-data/rp_im', '3.nii.gz'),\n",
       " ('../public-covid-data/rp_im', '4.nii.gz'),\n",
       " ('../public-covid-data/rp_im', '5.nii.gz'),\n",
       " ('../public-covid-data/rp_im', '6.nii.gz'),\n",
       " ('../public-covid-data/rp_im', '7.nii.gz'),\n",
       " ('../public-covid-data/rp_im', '8.nii.gz'),\n",
       " ('../public-covid-data/rp_im', '9.nii.gz')]"
      ]
     },
     "execution_count": 39,
     "metadata": {},
     "output_type": "execute_result"
    }
   ],
   "source": [
    "folder = list(p.iterdir())[2]\n",
    "# list(folder.iterdir())\n",
    "[os.path.split(p) for p in list(folder.iterdir())]"
   ]
  },
  {
   "cell_type": "code",
   "execution_count": 54,
   "metadata": {},
   "outputs": [
    {
     "data": {
      "text/plain": [
       "['1.nii.gz',\n",
       " '2.nii.gz',\n",
       " '3.nii.gz',\n",
       " '4.nii.gz',\n",
       " '5.nii.gz',\n",
       " '6.nii.gz',\n",
       " '7.nii.gz',\n",
       " '8.nii.gz',\n",
       " '9.nii.gz']"
      ]
     },
     "execution_count": 54,
     "metadata": {},
     "output_type": "execute_result"
    }
   ],
   "source": [
    "folder = list(p.iterdir())[2]\n",
    "# list(folder.iterdir())\n",
    "[os.path.split(p)[1] for p in list(folder.iterdir())]"
   ]
  },
  {
   "cell_type": "code",
   "execution_count": 73,
   "metadata": {},
   "outputs": [],
   "source": [
    "p = Path('../public-covid-data/')\n",
    "\n",
    "df_list = []\n",
    "\n",
    "for folder in p.iterdir():\n",
    "    path_list = [p.as_posix() for p in list(folder.iterdir())]\n",
    "    file_list = [os.path.split(p)[1] for p in list(folder.iterdir())]\n",
    "    df_list.append(pd.DataFrame({\n",
    "        'path': path_list,\n",
    "        'filename': file_list,\n",
    "    }))"
   ]
  },
  {
   "cell_type": "code",
   "execution_count": 78,
   "metadata": {},
   "outputs": [
    {
     "data": {
      "text/html": [
       "<div>\n",
       "<style scoped>\n",
       "    .dataframe tbody tr th:only-of-type {\n",
       "        vertical-align: middle;\n",
       "    }\n",
       "\n",
       "    .dataframe tbody tr th {\n",
       "        vertical-align: top;\n",
       "    }\n",
       "\n",
       "    .dataframe thead th {\n",
       "        text-align: right;\n",
       "    }\n",
       "</style>\n",
       "<table border=\"1\" class=\"dataframe\">\n",
       "  <thead>\n",
       "    <tr style=\"text-align: right;\">\n",
       "      <th></th>\n",
       "      <th>path</th>\n",
       "      <th>filename</th>\n",
       "    </tr>\n",
       "  </thead>\n",
       "  <tbody>\n",
       "    <tr>\n",
       "      <th>0</th>\n",
       "      <td>../public-covid-data/rp_im/1.nii.gz</td>\n",
       "      <td>1.nii.gz</td>\n",
       "    </tr>\n",
       "    <tr>\n",
       "      <th>1</th>\n",
       "      <td>../public-covid-data/rp_im/2.nii.gz</td>\n",
       "      <td>2.nii.gz</td>\n",
       "    </tr>\n",
       "    <tr>\n",
       "      <th>2</th>\n",
       "      <td>../public-covid-data/rp_im/3.nii.gz</td>\n",
       "      <td>3.nii.gz</td>\n",
       "    </tr>\n",
       "    <tr>\n",
       "      <th>3</th>\n",
       "      <td>../public-covid-data/rp_im/4.nii.gz</td>\n",
       "      <td>4.nii.gz</td>\n",
       "    </tr>\n",
       "    <tr>\n",
       "      <th>4</th>\n",
       "      <td>../public-covid-data/rp_im/5.nii.gz</td>\n",
       "      <td>5.nii.gz</td>\n",
       "    </tr>\n",
       "    <tr>\n",
       "      <th>5</th>\n",
       "      <td>../public-covid-data/rp_im/6.nii.gz</td>\n",
       "      <td>6.nii.gz</td>\n",
       "    </tr>\n",
       "    <tr>\n",
       "      <th>6</th>\n",
       "      <td>../public-covid-data/rp_im/7.nii.gz</td>\n",
       "      <td>7.nii.gz</td>\n",
       "    </tr>\n",
       "    <tr>\n",
       "      <th>7</th>\n",
       "      <td>../public-covid-data/rp_im/8.nii.gz</td>\n",
       "      <td>8.nii.gz</td>\n",
       "    </tr>\n",
       "    <tr>\n",
       "      <th>8</th>\n",
       "      <td>../public-covid-data/rp_im/9.nii.gz</td>\n",
       "      <td>9.nii.gz</td>\n",
       "    </tr>\n",
       "  </tbody>\n",
       "</table>\n",
       "</div>"
      ],
      "text/plain": [
       "                                  path  filename\n",
       "0  ../public-covid-data/rp_im/1.nii.gz  1.nii.gz\n",
       "1  ../public-covid-data/rp_im/2.nii.gz  2.nii.gz\n",
       "2  ../public-covid-data/rp_im/3.nii.gz  3.nii.gz\n",
       "3  ../public-covid-data/rp_im/4.nii.gz  4.nii.gz\n",
       "4  ../public-covid-data/rp_im/5.nii.gz  5.nii.gz\n",
       "5  ../public-covid-data/rp_im/6.nii.gz  6.nii.gz\n",
       "6  ../public-covid-data/rp_im/7.nii.gz  7.nii.gz\n",
       "7  ../public-covid-data/rp_im/8.nii.gz  8.nii.gz\n",
       "8  ../public-covid-data/rp_im/9.nii.gz  9.nii.gz"
      ]
     },
     "execution_count": 78,
     "metadata": {},
     "output_type": "execute_result"
    }
   ],
   "source": [
    "df_list[2]"
   ]
  },
  {
   "cell_type": "code",
   "execution_count": 80,
   "metadata": {},
   "outputs": [
    {
     "data": {
      "text/html": [
       "<div>\n",
       "<style scoped>\n",
       "    .dataframe tbody tr th:only-of-type {\n",
       "        vertical-align: middle;\n",
       "    }\n",
       "\n",
       "    .dataframe tbody tr th {\n",
       "        vertical-align: top;\n",
       "    }\n",
       "\n",
       "    .dataframe thead th {\n",
       "        text-align: right;\n",
       "    }\n",
       "</style>\n",
       "<table border=\"1\" class=\"dataframe\">\n",
       "  <thead>\n",
       "    <tr style=\"text-align: right;\">\n",
       "      <th></th>\n",
       "      <th>path</th>\n",
       "      <th>filename</th>\n",
       "    </tr>\n",
       "  </thead>\n",
       "  <tbody>\n",
       "    <tr>\n",
       "      <th>0</th>\n",
       "      <td>../public-covid-data/rp_msk/1.nii.gz</td>\n",
       "      <td>1.nii.gz</td>\n",
       "    </tr>\n",
       "    <tr>\n",
       "      <th>1</th>\n",
       "      <td>../public-covid-data/rp_msk/2.nii.gz</td>\n",
       "      <td>2.nii.gz</td>\n",
       "    </tr>\n",
       "    <tr>\n",
       "      <th>2</th>\n",
       "      <td>../public-covid-data/rp_msk/3.nii.gz</td>\n",
       "      <td>3.nii.gz</td>\n",
       "    </tr>\n",
       "    <tr>\n",
       "      <th>3</th>\n",
       "      <td>../public-covid-data/rp_msk/4.nii.gz</td>\n",
       "      <td>4.nii.gz</td>\n",
       "    </tr>\n",
       "    <tr>\n",
       "      <th>4</th>\n",
       "      <td>../public-covid-data/rp_msk/5.nii.gz</td>\n",
       "      <td>5.nii.gz</td>\n",
       "    </tr>\n",
       "    <tr>\n",
       "      <th>5</th>\n",
       "      <td>../public-covid-data/rp_msk/6.nii.gz</td>\n",
       "      <td>6.nii.gz</td>\n",
       "    </tr>\n",
       "    <tr>\n",
       "      <th>6</th>\n",
       "      <td>../public-covid-data/rp_msk/7.nii.gz</td>\n",
       "      <td>7.nii.gz</td>\n",
       "    </tr>\n",
       "    <tr>\n",
       "      <th>7</th>\n",
       "      <td>../public-covid-data/rp_msk/8.nii.gz</td>\n",
       "      <td>8.nii.gz</td>\n",
       "    </tr>\n",
       "    <tr>\n",
       "      <th>8</th>\n",
       "      <td>../public-covid-data/rp_msk/9.nii.gz</td>\n",
       "      <td>9.nii.gz</td>\n",
       "    </tr>\n",
       "  </tbody>\n",
       "</table>\n",
       "</div>"
      ],
      "text/plain": [
       "                                   path  filename\n",
       "0  ../public-covid-data/rp_msk/1.nii.gz  1.nii.gz\n",
       "1  ../public-covid-data/rp_msk/2.nii.gz  2.nii.gz\n",
       "2  ../public-covid-data/rp_msk/3.nii.gz  3.nii.gz\n",
       "3  ../public-covid-data/rp_msk/4.nii.gz  4.nii.gz\n",
       "4  ../public-covid-data/rp_msk/5.nii.gz  5.nii.gz\n",
       "5  ../public-covid-data/rp_msk/6.nii.gz  6.nii.gz\n",
       "6  ../public-covid-data/rp_msk/7.nii.gz  7.nii.gz\n",
       "7  ../public-covid-data/rp_msk/8.nii.gz  8.nii.gz\n",
       "8  ../public-covid-data/rp_msk/9.nii.gz  9.nii.gz"
      ]
     },
     "execution_count": 80,
     "metadata": {},
     "output_type": "execute_result"
    }
   ],
   "source": [
    "df_list[3]"
   ]
  },
  {
   "cell_type": "markdown",
   "metadata": {},
   "source": [
    "### index 2, 3 を　merge する"
   ]
  },
  {
   "cell_type": "code",
   "execution_count": 85,
   "metadata": {},
   "outputs": [
    {
     "data": {
      "text/html": [
       "<div>\n",
       "<style scoped>\n",
       "    .dataframe tbody tr th:only-of-type {\n",
       "        vertical-align: middle;\n",
       "    }\n",
       "\n",
       "    .dataframe tbody tr th {\n",
       "        vertical-align: top;\n",
       "    }\n",
       "\n",
       "    .dataframe thead th {\n",
       "        text-align: right;\n",
       "    }\n",
       "</style>\n",
       "<table border=\"1\" class=\"dataframe\">\n",
       "  <thead>\n",
       "    <tr style=\"text-align: right;\">\n",
       "      <th></th>\n",
       "      <th>path_im</th>\n",
       "      <th>filename</th>\n",
       "      <th>path_msk</th>\n",
       "    </tr>\n",
       "  </thead>\n",
       "  <tbody>\n",
       "    <tr>\n",
       "      <th>0</th>\n",
       "      <td>../public-covid-data/rp_im/1.nii.gz</td>\n",
       "      <td>1.nii.gz</td>\n",
       "      <td>../public-covid-data/rp_msk/1.nii.gz</td>\n",
       "    </tr>\n",
       "    <tr>\n",
       "      <th>1</th>\n",
       "      <td>../public-covid-data/rp_im/2.nii.gz</td>\n",
       "      <td>2.nii.gz</td>\n",
       "      <td>../public-covid-data/rp_msk/2.nii.gz</td>\n",
       "    </tr>\n",
       "    <tr>\n",
       "      <th>2</th>\n",
       "      <td>../public-covid-data/rp_im/3.nii.gz</td>\n",
       "      <td>3.nii.gz</td>\n",
       "      <td>../public-covid-data/rp_msk/3.nii.gz</td>\n",
       "    </tr>\n",
       "    <tr>\n",
       "      <th>3</th>\n",
       "      <td>../public-covid-data/rp_im/4.nii.gz</td>\n",
       "      <td>4.nii.gz</td>\n",
       "      <td>../public-covid-data/rp_msk/4.nii.gz</td>\n",
       "    </tr>\n",
       "    <tr>\n",
       "      <th>4</th>\n",
       "      <td>../public-covid-data/rp_im/5.nii.gz</td>\n",
       "      <td>5.nii.gz</td>\n",
       "      <td>../public-covid-data/rp_msk/5.nii.gz</td>\n",
       "    </tr>\n",
       "    <tr>\n",
       "      <th>5</th>\n",
       "      <td>../public-covid-data/rp_im/6.nii.gz</td>\n",
       "      <td>6.nii.gz</td>\n",
       "      <td>../public-covid-data/rp_msk/6.nii.gz</td>\n",
       "    </tr>\n",
       "    <tr>\n",
       "      <th>6</th>\n",
       "      <td>../public-covid-data/rp_im/7.nii.gz</td>\n",
       "      <td>7.nii.gz</td>\n",
       "      <td>../public-covid-data/rp_msk/7.nii.gz</td>\n",
       "    </tr>\n",
       "    <tr>\n",
       "      <th>7</th>\n",
       "      <td>../public-covid-data/rp_im/8.nii.gz</td>\n",
       "      <td>8.nii.gz</td>\n",
       "      <td>../public-covid-data/rp_msk/8.nii.gz</td>\n",
       "    </tr>\n",
       "    <tr>\n",
       "      <th>8</th>\n",
       "      <td>../public-covid-data/rp_im/9.nii.gz</td>\n",
       "      <td>9.nii.gz</td>\n",
       "      <td>../public-covid-data/rp_msk/9.nii.gz</td>\n",
       "    </tr>\n",
       "  </tbody>\n",
       "</table>\n",
       "</div>"
      ],
      "text/plain": [
       "                               path_im  filename  \\\n",
       "0  ../public-covid-data/rp_im/1.nii.gz  1.nii.gz   \n",
       "1  ../public-covid-data/rp_im/2.nii.gz  2.nii.gz   \n",
       "2  ../public-covid-data/rp_im/3.nii.gz  3.nii.gz   \n",
       "3  ../public-covid-data/rp_im/4.nii.gz  4.nii.gz   \n",
       "4  ../public-covid-data/rp_im/5.nii.gz  5.nii.gz   \n",
       "5  ../public-covid-data/rp_im/6.nii.gz  6.nii.gz   \n",
       "6  ../public-covid-data/rp_im/7.nii.gz  7.nii.gz   \n",
       "7  ../public-covid-data/rp_im/8.nii.gz  8.nii.gz   \n",
       "8  ../public-covid-data/rp_im/9.nii.gz  9.nii.gz   \n",
       "\n",
       "                               path_msk  \n",
       "0  ../public-covid-data/rp_msk/1.nii.gz  \n",
       "1  ../public-covid-data/rp_msk/2.nii.gz  \n",
       "2  ../public-covid-data/rp_msk/3.nii.gz  \n",
       "3  ../public-covid-data/rp_msk/4.nii.gz  \n",
       "4  ../public-covid-data/rp_msk/5.nii.gz  \n",
       "5  ../public-covid-data/rp_msk/6.nii.gz  \n",
       "6  ../public-covid-data/rp_msk/7.nii.gz  \n",
       "7  ../public-covid-data/rp_msk/8.nii.gz  \n",
       "8  ../public-covid-data/rp_msk/9.nii.gz  "
      ]
     },
     "execution_count": 85,
     "metadata": {},
     "output_type": "execute_result"
    }
   ],
   "source": [
    "df = df_list[2].merge(df_list[3], on='filename', suffixes=('_im', '_msk'))\n",
    "df"
   ]
  },
  {
   "cell_type": "markdown",
   "metadata": {},
   "source": [
    "### 上記のように　file path の DataFrame を作成する事は本当に多い\n",
    "- *DataFrame にしておけば、　１.nii.gz のfile　path に対して両方アクセスしたい時に簡単にできる*\n",
    "\n",
    "\n",
    "- **大量の data を扱う時にはこのように　Data Frame を作成する事は必須（非常に便利）**"
   ]
  },
  {
   "cell_type": "code",
   "execution_count": 89,
   "metadata": {},
   "outputs": [
    {
     "name": "stderr",
     "output_type": "stream",
     "text": [
      "\n",
      "9it [00:00, 2099.25it/s]"
     ]
    },
    {
     "name": "stdout",
     "output_type": "stream",
     "text": [
      "image path for ../public-covid-data/rp_im/1.nii.gz is here 1.nii.gz\n",
      "image path for ../public-covid-data/rp_im/2.nii.gz is here 2.nii.gz\n",
      "image path for ../public-covid-data/rp_im/3.nii.gz is here 3.nii.gz\n",
      "image path for ../public-covid-data/rp_im/4.nii.gz is here 4.nii.gz\n",
      "image path for ../public-covid-data/rp_im/5.nii.gz is here 5.nii.gz\n",
      "image path for ../public-covid-data/rp_im/6.nii.gz is here 6.nii.gz\n",
      "image path for ../public-covid-data/rp_im/7.nii.gz is here 7.nii.gz\n",
      "image path for ../public-covid-data/rp_im/8.nii.gz is here 8.nii.gz\n",
      "image path for ../public-covid-data/rp_im/9.nii.gz is here 9.nii.gz\n"
     ]
    },
    {
     "name": "stderr",
     "output_type": "stream",
     "text": [
      "\n"
     ]
    }
   ],
   "source": [
    "for idx, row in tqdm(df.iterrows()):\n",
    "    print('image path for {} is here {}'.format(row['path_im'], row['filename']))"
   ]
  },
  {
   "cell_type": "code",
   "execution_count": 90,
   "metadata": {},
   "outputs": [
    {
     "name": "stderr",
     "output_type": "stream",
     "text": [
      "\n",
      "100%|██████████| 9/9 [00:00<00:00, 2517.59it/s]"
     ]
    },
    {
     "name": "stdout",
     "output_type": "stream",
     "text": [
      "image path for ../public-covid-data/rp_im/1.nii.gz is here 1.nii.gz\n",
      "image path for ../public-covid-data/rp_im/2.nii.gz is here 2.nii.gz\n",
      "image path for ../public-covid-data/rp_im/3.nii.gz is here 3.nii.gz\n",
      "image path for ../public-covid-data/rp_im/4.nii.gz is here 4.nii.gz\n",
      "image path for ../public-covid-data/rp_im/5.nii.gz is here 5.nii.gz\n",
      "image path for ../public-covid-data/rp_im/6.nii.gz is here 6.nii.gz\n",
      "image path for ../public-covid-data/rp_im/7.nii.gz is here 7.nii.gz\n",
      "image path for ../public-covid-data/rp_im/8.nii.gz is here 8.nii.gz\n",
      "image path for ../public-covid-data/rp_im/9.nii.gz is here 9.nii.gz\n"
     ]
    },
    {
     "name": "stderr",
     "output_type": "stream",
     "text": [
      "\n"
     ]
    }
   ],
   "source": [
    "for idx, row in tqdm(df.iterrows(), total=len(df)):\n",
    "    print('image path for {} is here {}'.format(row['path_im'], row['filename']))"
   ]
  },
  {
   "cell_type": "code",
   "execution_count": null,
   "metadata": {},
   "outputs": [],
   "source": []
  }
 ],
 "metadata": {
  "kernelspec": {
   "display_name": "Python 3",
   "language": "python",
   "name": "python3"
  },
  "language_info": {
   "codemirror_mode": {
    "name": "ipython",
    "version": 3
   },
   "file_extension": ".py",
   "mimetype": "text/x-python",
   "name": "python",
   "nbconvert_exporter": "python",
   "pygments_lexer": "ipython3",
   "version": "3.7.6"
  }
 },
 "nbformat": 4,
 "nbformat_minor": 4
}
